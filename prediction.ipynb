{
 "cells": [
  {
   "cell_type": "code",
   "execution_count": 14,
   "metadata": {},
   "outputs": [
    {
     "name": "stdout",
     "output_type": "stream",
     "text": [
      "===loading the oasst_export_abs dataset===\n",
      "\n",
      "{'violence': 0, 'creativity': 0, 'helpfulness': 0, 'humor': 0, 'toxicity': 0, 'quality': 1}\n",
      "============================== total 774 has None value for atleast 1 label\n",
      "============================== total 0 has been skipped because reward is negative\n",
      "{'violence': 0, 'creativity': 0, 'helpfulness': 0, 'humor': 0, 'toxicity': 0, 'quality': 1}\n",
      "============================== total 32 has None value for atleast 1 label\n",
      "============================== total 0 has been skipped because reward is negative\n",
      "OASST HF dataset: len(train)=38852, len(val)=2041\n",
      "Size of oasst_export_abs training data: 38852\n",
      "Size of oasst_export_abs validation data: 2041\n",
      "============================== Total training dataset size is 38852...\n",
      "\t============================== Validation size for oasst_export_abs dataset size is 2041...\n"
     ]
    }
   ],
   "source": [
    "import argparse\n",
    "\n",
    "from utils import (print_yaml_config,init_or_resume_from, read_yaml)\n",
    "from model_training.training_utils import load_for_inference\n",
    "from constants import TOKENIZER_SEPECIAL_TOKENS\n",
    "from training_datasets.dataset_utils import load_rm_dataset\n",
    "\n",
    "config = {}\n",
    "conf = read_yaml('./config.yaml')\n",
    "config.update(conf[\"default\"])\n",
    "config.update(conf[\"eval_ranking_rm\"])\n",
    "config[\"name_suffix\"] = \"\"\n",
    "config[\"debug\"] = False\n",
    "config[\"subset\"] = \"eval_ranking_rm\"\n",
    "\n",
    "# Create a Namespace object for config\n",
    "config_ranking = argparse.Namespace(**config)\n",
    "\n",
    "config = {}\n",
    "config.update(conf[\"default\"])\n",
    "config.update(conf[\"eval_abs_rm\"])\n",
    "config[\"name_suffix\"] = \"\"\n",
    "config[\"debug\"] = False\n",
    "config[\"subset\"] = \"eval_abs_rm\"\n",
    "\n",
    "# Create a Namespace object for config\n",
    "config_abs = argparse.Namespace(**config)\n",
    " \n",
    "config_abs.dataset[\"oasst_export_abs\"][\"label_weight\"] = {\"violence\": 0, \"creativity\": 0, \"helpfulness\": 0, \"humor\": 0, \"toxicity\": 0,\"quality\": 1}\n",
    "config_abs.dataset[\"oasst_export_abs\"][\"abs_oversample_threshold\"]=None#0.4\n",
    "config_abs.dataset[\"oasst_export_abs\"][\"top_k\"]=None\n",
    "# v3_wgt = {\"violence\": 0, \"creativity\": 0.15, \"helpfulness\": 0.35, \"humor\": 0, \"toxicity\": -0.1,\"quality\": 0.4}\n",
    "# qlty = {\"violence\": 0, \"creativity\": 0, \"helpfulness\": 0, \"humor\": 0, \"toxicity\": 0,\"quality\": 1}\n",
    "# mean = {\"violence\": -0.167, \"creativity\": 0.167, \"helpfulness\": 0.167, \"humor\": 0.167, \"toxicity\": -0.167,\"quality\": 0.165}\n",
    "# v4_wgt = {\"violence\": -0.1, \"creativity\": 0.2, \"helpfulness\": 0.1, \"humor\": 0.167, \"toxicity\": -0.1,\"quality\": 0.3}\n",
    "# v2_wgt = {\"violence\": -0.05, \"creativity\": 0.15, \"helpfulness\": 0.25, \"humor\": 0.05, \"toxicity\": -0.1, \"quality\": 0.4\n",
    "# }\n",
    "\n",
    "\n",
    "\n",
    "# v3\n",
    "# non violence: 0\n",
    "# creativity: 0.15\n",
    "# helpfulness: 0.35\n",
    "# humor: 0\n",
    "# non toxicity: 0.1\n",
    "# quality: 0.4\n",
    "        \n",
    "# v2\n",
    "# non violence: 0.05\n",
    "# creativity: 0.15\n",
    "# helpfulness: 0.25\n",
    "# humor: 0.05\n",
    "# non toxicity: 0.1\n",
    "# quality: 0.4\n",
    "# only qualiyt\n",
    "# non violence: 0\n",
    "# creativity: 0\n",
    "# helpfulness: 0\n",
    "# humor: 0\n",
    "# non toxicity: 0\n",
    "# quality: 1\n",
    "# mean\n",
    "# non violence: 0.167\n",
    "# creativity: 0.167\n",
    "# helpfulness: 0.167\n",
    "# humor: 0.167\n",
    "# non toxicity: 0.167\n",
    "# quality: 0.165\n",
    "\n",
    "\n",
    "config_abs.dataset[\"oasst_export_abs\"][\"top_k\"]=None\n",
    "\n",
    "\"\"\"Quality: Since quality directly pertains to how good, informative, and comprehensive the answer is, it should have the highest weight.\n",
    "\n",
    "Weight: 0.4\n",
    "Helpfulness: An answer's primary goal, especially in this context, is to be helpful. If it's not helping the user understand or solve a problem, its value diminishes.\n",
    "\n",
    "Weight: 0.25\n",
    "Creativity: While creativity might not be as crucial as quality or helpfulness, a creative response can provide more insight or a fresh perspective.\n",
    "\n",
    "Weight: 0.15\n",
    "Toxicity: It's vital to ensure responses are not toxic. However, since the provided responses were largely non-toxic, this label might not need a very high weight. Still, it's essential to consider it.\n",
    "\n",
    "Weight: 0.1 (This would work in a negative fashion, where higher toxicity reduces the overall score.)\n",
    "Violence: Similar to toxicity, ensuring non-violence is crucial. Since the given responses didn't exhibit violence, this can have a smaller weight.\n",
    "\n",
    "Weight: 0.05 (Again, this would work negatively.)\n",
    "Humor: While humor can be a bonus, it's not necessarily a priority in this context. Therefore, it should have the lowest weight.\n",
    "\n",
    "Weight: 0.05\n",
    "\n",
    "\"\"\"\n",
    "\n",
    "\n",
    "# \"\"\"\n",
    "# Given the clarified requirements and the focus on ensuring that the scalar reward reflects the desired properties of helpfulness, harmlessness, quality, and entertainment, let's proceed.\n",
    "\n",
    "# Non-violence & Non-toxicity (After Subtracting from 1): Since higher values are now desirable, and the majority of the data is skewed toward these values, these metrics will dominate the scalar reward if given too much weight. While harmlessness is a priority, we don't want it overshadowing helpfulness.\n",
    "\n",
    "# Helpfulness: This is a core metric. The response must be helpful for a general-purpose chatbot, so this should carry a significant weight. However, we don't want a harmless but unhelpful response to get a high reward.\n",
    "\n",
    "# Quality: This essentially determines the coherence, relevance, and overall acceptability of the response. It's a fundamental metric.\n",
    "\n",
    "# Creativity & Humor: Both these metrics add to the entertaining aspect. Humor might not always be relevant in every context, so while it should have a weight, it shouldn't be too high. Creativity, on the other hand, could be desirable more often as it can provide unique and insightful responses.\n",
    "\n",
    "# Based on the above considerations, here's a suggested distribution:\n",
    "\n",
    "# Non-violence: 0.20\n",
    "# Non-toxicity: 0.20\n",
    "# Helpfulness: 0.30\n",
    "# Quality: 0.20\n",
    "# Creativity: 0.05\n",
    "# Humor: 0.05\n",
    "# This distribution sums up to 1. The logic here is:\n",
    "\n",
    "# Harmlessness (Non-violence and Non-toxicity) collectively gets a weight of 0.40. This ensures the chatbot doesn't produce harmful content.\n",
    "# Helpfulness is given a significant weight (0.30) so that utility is prioritized.\n",
    "# Quality is given an equal weight as harmlessness metrics because for a general-purpose chatbot, the quality of response matters.\n",
    "# Entertainment (Creativity and Humor) gets a collective weight of 0.10, ensuring the chatbot can be engaging but without compromising on the core objectives.\n",
    "# This distribution aims to balance the objectives laid out and mitigate the effects of the skewness in the data for non-violence and non-toxicity.\n",
    "# \"\"\"\n",
    "\n",
    "\n",
    "\n",
    "train_e , eval_abs = load_rm_dataset(config_abs)\n",
    "\n",
    "# train_er , eval_ranking = load_rm_dataset(config_ranking)\n"
   ]
  },
  {
   "cell_type": "code",
   "execution_count": 19,
   "metadata": {},
   "outputs": [
    {
     "data": {
      "text/plain": [
       "4104"
      ]
     },
     "execution_count": 19,
     "metadata": {},
     "output_type": "execute_result"
    }
   ],
   "source": [
    "len([ss for ss in s if ss <= 0.4 ]) #38852/3354"
   ]
  },
  {
   "cell_type": "code",
   "execution_count": 18,
   "metadata": {},
   "outputs": [
    {
     "data": {
      "image/png": "[encoded data removed]",
      "text/plain": [
       "<Figure size 640x480 with 1 Axes>"
      ]
     },
     "metadata": {},
     "output_type": "display_data"
    }
   ],
   "source": [
    "s = []\n",
    "\n",
    "for e in train_e:\n",
    "    prefix, reply, score = e\n",
    "    s.append(score)\n",
    "\n",
    "# for e in eval_abs[\"oasst_export_abs\"]:\n",
    "#     prefix, reply, score = e\n",
    "#     s.append(score)\n",
    "\n",
    "import matplotlib.pyplot as plt\n",
    "\n",
    "\n",
    "# Plotting the histogram\n",
    "plt.hist(s, bins=10, edgecolor=\"k\", alpha=0.7)\n",
    "plt.title(\"Distribution of Float Numbers\")\n",
    "plt.xlabel(\"Value\")\n",
    "plt.ylabel(\"Frequency\")\n",
    "plt.grid(True, which='both', linestyle='--', linewidth=0.5)\n",
    "plt.show()"
   ]
  },
  {
   "cell_type": "code",
   "execution_count": 1,
   "metadata": {},
   "outputs": [
    {
     "name": "stdout",
     "output_type": "stream",
     "text": [
      "[2023-11-15 09:27:59,852] [INFO] [real_accelerator.py:158:get_accelerator] Setting ds_accelerator to cuda (auto detect)\n"
     ]
    },
    {
     "data": {
      "application/vnd.jupyter.widget-view+json": {
       "model_id": "9fa0df7ae93249c9af6c1e4d558de4cc",
       "version_major": 2,
       "version_minor": 0
      },
      "text/plain": [
       "Loading checkpoint shards:   0%|          | 0/2 [00:00<?, ?it/s]"
      ]
     },
     "metadata": {},
     "output_type": "display_data"
    },
    {
     "name": "stderr",
     "output_type": "stream",
     "text": [
      "Some weights of LlamaForSequenceClassification were not initialized from the model checkpoint at output/sft/LLama-2-7b_crs_oasst_sft_bs64_ep_1/merged/ and are newly initialized: ['score.weight']\n",
      "You should probably TRAIN this model on a down-stream task to be able to use it for predictions and inference.\n",
      "Special tokens have been added in the vocabulary, make sure the associated word embeddings are fine-tuned or trained.\n"
     ]
    },
    {
     "data": {
      "text/plain": [
       "_IncompatibleKeys(missing_keys=['base_model.model.model.embed_tokens.weight', 'base_model.model.model.layers.0.self_attn.q_proj.weight', 'base_model.model.model.layers.0.self_attn.q_proj.lora_A.rank_ep1.weight', 'base_model.model.model.layers.0.self_attn.q_proj.lora_B.rank_ep1.weight', 'base_model.model.model.layers.0.self_attn.k_proj.weight', 'base_model.model.model.layers.0.self_attn.k_proj.lora_A.rank_ep1.weight', 'base_model.model.model.layers.0.self_attn.k_proj.lora_B.rank_ep1.weight', 'base_model.model.model.layers.0.self_attn.v_proj.weight', 'base_model.model.model.layers.0.self_attn.v_proj.lora_A.rank_ep1.weight', 'base_model.model.model.layers.0.self_attn.v_proj.lora_B.rank_ep1.weight', 'base_model.model.model.layers.0.self_attn.o_proj.weight', 'base_model.model.model.layers.0.self_attn.o_proj.lora_A.rank_ep1.weight', 'base_model.model.model.layers.0.self_attn.o_proj.lora_B.rank_ep1.weight', 'base_model.model.model.layers.0.mlp.gate_proj.weight', 'base_model.model.model.layers.0.mlp.gate_proj.lora_A.rank_ep1.weight', 'base_model.model.model.layers.0.mlp.gate_proj.lora_B.rank_ep1.weight', 'base_model.model.model.layers.0.mlp.up_proj.weight', 'base_model.model.model.layers.0.mlp.up_proj.lora_A.rank_ep1.weight', 'base_model.model.model.layers.0.mlp.up_proj.lora_B.rank_ep1.weight', 'base_model.model.model.layers.0.mlp.down_proj.weight', 'base_model.model.model.layers.0.mlp.down_proj.lora_A.rank_ep1.weight', 'base_model.model.model.layers.0.mlp.down_proj.lora_B.rank_ep1.weight', 'base_model.model.model.layers.0.input_layernorm.weight', 'base_model.model.model.layers.0.post_attention_layernorm.weight', 'base_model.model.model.layers.1.self_attn.q_proj.weight', 'base_model.model.model.layers.1.self_attn.q_proj.lora_A.rank_ep1.weight', 'base_model.model.model.layers.1.self_attn.q_proj.lora_B.rank_ep1.weight', 'base_model.model.model.layers.1.self_attn.k_proj.weight', 'base_model.model.model.layers.1.self_attn.k_proj.lora_A.rank_ep1.weight', 'base_model.model.model.layers.1.self_attn.k_proj.lora_B.rank_ep1.weight', 'base_model.model.model.layers.1.self_attn.v_proj.weight', 'base_model.model.model.layers.1.self_attn.v_proj.lora_A.rank_ep1.weight', 'base_model.model.model.layers.1.self_attn.v_proj.lora_B.rank_ep1.weight', 'base_model.model.model.layers.1.self_attn.o_proj.weight', 'base_model.model.model.layers.1.self_attn.o_proj.lora_A.rank_ep1.weight', 'base_model.model.model.layers.1.self_attn.o_proj.lora_B.rank_ep1.weight', 'base_model.model.model.layers.1.mlp.gate_proj.weight', 'base_model.model.model.layers.1.mlp.gate_proj.lora_A.rank_ep1.weight', 'base_model.model.model.layers.1.mlp.gate_proj.lora_B.rank_ep1.weight', 'base_model.model.model.layers.1.mlp.up_proj.weight', 'base_model.model.model.layers.1.mlp.up_proj.lora_A.rank_ep1.weight', 'base_model.model.model.layers.1.mlp.up_proj.lora_B.rank_ep1.weight', 'base_model.model.model.layers.1.mlp.down_proj.weight', 'base_model.model.model.layers.1.mlp.down_proj.lora_A.rank_ep1.weight', 'base_model.model.model.layers.1.mlp.down_proj.lora_B.rank_ep1.weight', 'base_model.model.model.layers.1.input_layernorm.weight', 'base_model.model.model.layers.1.post_attention_layernorm.weight', 'base_model.model.model.layers.2.self_attn.q_proj.weight', 'base_model.model.model.layers.2.self_attn.q_proj.lora_A.rank_ep1.weight', 'base_model.model.model.layers.2.self_attn.q_proj.lora_B.rank_ep1.weight', 'base_model.model.model.layers.2.self_attn.k_proj.weight', 'base_model.model.model.layers.2.self_attn.k_proj.lora_A.rank_ep1.weight', 'base_model.model.model.layers.2.self_attn.k_proj.lora_B.rank_ep1.weight', 'base_model.model.model.layers.2.self_attn.v_proj.weight', 'base_model.model.model.layers.2.self_attn.v_proj.lora_A.rank_ep1.weight', 'base_model.model.model.layers.2.self_attn.v_proj.lora_B.rank_ep1.weight', 'base_model.model.model.layers.2.self_attn.o_proj.weight', 'base_model.model.model.layers.2.self_attn.o_proj.lora_A.rank_ep1.weight', 'base_model.model.model.layers.2.self_attn.o_proj.lora_B.rank_ep1.weight', 'base_model.model.model.layers.2.mlp.gate_proj.weight', 'base_model.model.model.layers.2.mlp.gate_proj.lora_A.rank_ep1.weight', 'base_model.model.model.layers.2.mlp.gate_proj.lora_B.rank_ep1.weight', 'base_model.model.model.layers.2.mlp.up_proj.weight', 'base_model.model.model.layers.2.mlp.up_proj.lora_A.rank_ep1.weight', 'base_model.model.model.layers.2.mlp.up_proj.lora_B.rank_ep1.weight', 'base_model.model.model.layers.2.mlp.down_proj.weight', 'base_model.model.model.layers.2.mlp.down_proj.lora_A.rank_ep1.weight', 'base_model.model.model.layers.2.mlp.down_proj.lora_B.rank_ep1.weight', 'base_model.model.model.layers.2.input_layernorm.weight', 'base_model.model.model.layers.2.post_attention_layernorm.weight', 'base_model.model.model.layers.3.self_attn.q_proj.weight', 'base_model.model.model.layers.3.self_attn.q_proj.lora_A.rank_ep1.weight', 'base_model.model.model.layers.3.self_attn.q_proj.lora_B.rank_ep1.weight', 'base_model.model.model.layers.3.self_attn.k_proj.weight', 'base_model.model.model.layers.3.self_attn.k_proj.lora_A.rank_ep1.weight', 'base_model.model.model.layers.3.self_attn.k_proj.lora_B.rank_ep1.weight', 'base_model.model.model.layers.3.self_attn.v_proj.weight', 'base_model.model.model.layers.3.self_attn.v_proj.lora_A.rank_ep1.weight', 'base_model.model.model.layers.3.self_attn.v_proj.lora_B.rank_ep1.weight', 'base_model.model.model.layers.3.self_attn.o_proj.weight', 'base_model.model.model.layers.3.self_attn.o_proj.lora_A.rank_ep1.weight', 'base_model.model.model.layers.3.self_attn.o_proj.lora_B.rank_ep1.weight', 'base_model.model.model.layers.3.mlp.gate_proj.weight', 'base_model.model.model.layers.3.mlp.gate_proj.lora_A.rank_ep1.weight', 'base_model.model.model.layers.3.mlp.gate_proj.lora_B.rank_ep1.weight', 'base_model.model.model.layers.3.mlp.up_proj.weight', 'base_model.model.model.layers.3.mlp.up_proj.lora_A.rank_ep1.weight', 'base_model.model.model.layers.3.mlp.up_proj.lora_B.rank_ep1.weight', 'base_model.model.model.layers.3.mlp.down_proj.weight', 'base_model.model.model.layers.3.mlp.down_proj.lora_A.rank_ep1.weight', 'base_model.model.model.layers.3.mlp.down_proj.lora_B.rank_ep1.weight', 'base_model.model.model.layers.3.input_layernorm.weight', 'base_model.model.model.layers.3.post_attention_layernorm.weight', 'base_model.model.model.layers.4.self_attn.q_proj.weight', 'base_model.model.model.layers.4.self_attn.q_proj.lora_A.rank_ep1.weight', 'base_model.model.model.layers.4.self_attn.q_proj.lora_B.rank_ep1.weight', 'base_model.model.model.layers.4.self_attn.k_proj.weight', 'base_model.model.model.layers.4.self_attn.k_proj.lora_A.rank_ep1.weight', 'base_model.model.model.layers.4.self_attn.k_proj.lora_B.rank_ep1.weight', 'base_model.model.model.layers.4.self_attn.v_proj.weight', 'base_model.model.model.layers.4.self_attn.v_proj.lora_A.rank_ep1.weight', 'base_model.model.model.layers.4.self_attn.v_proj.lora_B.rank_ep1.weight', 'base_model.model.model.layers.4.self_attn.o_proj.weight', 'base_model.model.model.layers.4.self_attn.o_proj.lora_A.rank_ep1.weight', 'base_model.model.model.layers.4.self_attn.o_proj.lora_B.rank_ep1.weight', 'base_model.model.model.layers.4.mlp.gate_proj.weight', 'base_model.model.model.layers.4.mlp.gate_proj.lora_A.rank_ep1.weight', 'base_model.model.model.layers.4.mlp.gate_proj.lora_B.rank_ep1.weight', 'base_model.model.model.layers.4.mlp.up_proj.weight', 'base_model.model.model.layers.4.mlp.up_proj.lora_A.rank_ep1.weight', 'base_model.model.model.layers.4.mlp.up_proj.lora_B.rank_ep1.weight', 'base_model.model.model.layers.4.mlp.down_proj.weight', 'base_model.model.model.layers.4.mlp.down_proj.lora_A.rank_ep1.weight', 'base_model.model.model.layers.4.mlp.down_proj.lora_B.rank_ep1.weight', 'base_model.model.model.layers.4.input_layernorm.weight', 'base_model.model.model.layers.4.post_attention_layernorm.weight', 'base_model.model.model.layers.5.self_attn.q_proj.weight', 'base_model.model.model.layers.5.self_attn.q_proj.lora_A.rank_ep1.weight', 'base_model.model.model.layers.5.self_attn.q_proj.lora_B.rank_ep1.weight', 'base_model.model.model.layers.5.self_attn.k_proj.weight', 'base_model.model.model.layers.5.self_attn.k_proj.lora_A.rank_ep1.weight', 'base_model.model.model.layers.5.self_attn.k_proj.lora_B.rank_ep1.weight', 'base_model.model.model.layers.5.self_attn.v_proj.weight', 'base_model.model.model.layers.5.self_attn.v_proj.lora_A.rank_ep1.weight', 'base_model.model.model.layers.5.self_attn.v_proj.lora_B.rank_ep1.weight', 'base_model.model.model.layers.5.self_attn.o_proj.weight', 'base_model.model.model.layers.5.self_attn.o_proj.lora_A.rank_ep1.weight', 'base_model.model.model.layers.5.self_attn.o_proj.lora_B.rank_ep1.weight', 'base_model.model.model.layers.5.mlp.gate_proj.weight', 'base_model.model.model.layers.5.mlp.gate_proj.lora_A.rank_ep1.weight', 'base_model.model.model.layers.5.mlp.gate_proj.lora_B.rank_ep1.weight', 'base_model.model.model.layers.5.mlp.up_proj.weight', 'base_model.model.model.layers.5.mlp.up_proj.lora_A.rank_ep1.weight', 'base_model.model.model.layers.5.mlp.up_proj.lora_B.rank_ep1.weight', 'base_model.model.model.layers.5.mlp.down_proj.weight', 'base_model.model.model.layers.5.mlp.down_proj.lora_A.rank_ep1.weight', 'base_model.model.model.layers.5.mlp.down_proj.lora_B.rank_ep1.weight', 'base_model.model.model.layers.5.input_layernorm.weight', 'base_model.model.model.layers.5.post_attention_layernorm.weight', 'base_model.model.model.layers.6.self_attn.q_proj.weight', 'base_model.model.model.layers.6.self_attn.q_proj.lora_A.rank_ep1.weight', 'base_model.model.model.layers.6.self_attn.q_proj.lora_B.rank_ep1.weight', 'base_model.model.model.layers.6.self_attn.k_proj.weight', 'base_model.model.model.layers.6.self_attn.k_proj.lora_A.rank_ep1.weight', 'base_model.model.model.layers.6.self_attn.k_proj.lora_B.rank_ep1.weight', 'base_model.model.model.layers.6.self_attn.v_proj.weight', 'base_model.model.model.layers.6.self_attn.v_proj.lora_A.rank_ep1.weight', 'base_model.model.model.layers.6.self_attn.v_proj.lora_B.rank_ep1.weight', 'base_model.model.model.layers.6.self_attn.o_proj.weight', 'base_model.model.model.layers.6.self_attn.o_proj.lora_A.rank_ep1.weight', 'base_model.model.model.layers.6.self_attn.o_proj.lora_B.rank_ep1.weight', 'base_model.model.model.layers.6.mlp.gate_proj.weight', 'base_model.model.model.layers.6.mlp.gate_proj.lora_A.rank_ep1.weight', 'base_model.model.model.layers.6.mlp.gate_proj.lora_B.rank_ep1.weight', 'base_model.model.model.layers.6.mlp.up_proj.weight', 'base_model.model.model.layers.6.mlp.up_proj.lora_A.rank_ep1.weight', 'base_model.model.model.layers.6.mlp.up_proj.lora_B.rank_ep1.weight', 'base_model.model.model.layers.6.mlp.down_proj.weight', 'base_model.model.model.layers.6.mlp.down_proj.lora_A.rank_ep1.weight', 'base_model.model.model.layers.6.mlp.down_proj.lora_B.rank_ep1.weight', 'base_model.model.model.layers.6.input_layernorm.weight', 'base_model.model.model.layers.6.post_attention_layernorm.weight', 'base_model.model.model.layers.7.self_attn.q_proj.weight', 'base_model.model.model.layers.7.self_attn.q_proj.lora_A.rank_ep1.weight', 'base_model.model.model.layers.7.self_attn.q_proj.lora_B.rank_ep1.weight', 'base_model.model.model.layers.7.self_attn.k_proj.weight', 'base_model.model.model.layers.7.self_attn.k_proj.lora_A.rank_ep1.weight', 'base_model.model.model.layers.7.self_attn.k_proj.lora_B.rank_ep1.weight', 'base_model.model.model.layers.7.self_attn.v_proj.weight', 'base_model.model.model.layers.7.self_attn.v_proj.lora_A.rank_ep1.weight', 'base_model.model.model.layers.7.self_attn.v_proj.lora_B.rank_ep1.weight', 'base_model.model.model.layers.7.self_attn.o_proj.weight', 'base_model.model.model.layers.7.self_attn.o_proj.lora_A.rank_ep1.weight', 'base_model.model.model.layers.7.self_attn.o_proj.lora_B.rank_ep1.weight', 'base_model.model.model.layers.7.mlp.gate_proj.weight', 'base_model.model.model.layers.7.mlp.gate_proj.lora_A.rank_ep1.weight', 'base_model.model.model.layers.7.mlp.gate_proj.lora_B.rank_ep1.weight', 'base_model.model.model.layers.7.mlp.up_proj.weight', 'base_model.model.model.layers.7.mlp.up_proj.lora_A.rank_ep1.weight', 'base_model.model.model.layers.7.mlp.up_proj.lora_B.rank_ep1.weight', 'base_model.model.model.layers.7.mlp.down_proj.weight', 'base_model.model.model.layers.7.mlp.down_proj.lora_A.rank_ep1.weight', 'base_model.model.model.layers.7.mlp.down_proj.lora_B.rank_ep1.weight', 'base_model.model.model.layers.7.input_layernorm.weight', 'base_model.model.model.layers.7.post_attention_layernorm.weight', 'base_model.model.model.layers.8.self_attn.q_proj.weight', 'base_model.model.model.layers.8.self_attn.q_proj.lora_A.rank_ep1.weight', 'base_model.model.model.layers.8.self_attn.q_proj.lora_B.rank_ep1.weight', 'base_model.model.model.layers.8.self_attn.k_proj.weight', 'base_model.model.model.layers.8.self_attn.k_proj.lora_A.rank_ep1.weight', 'base_model.model.model.layers.8.self_attn.k_proj.lora_B.rank_ep1.weight', 'base_model.model.model.layers.8.self_attn.v_proj.weight', 'base_model.model.model.layers.8.self_attn.v_proj.lora_A.rank_ep1.weight', 'base_model.model.model.layers.8.self_attn.v_proj.lora_B.rank_ep1.weight', 'base_model.model.model.layers.8.self_attn.o_proj.weight', 'base_model.model.model.layers.8.self_attn.o_proj.lora_A.rank_ep1.weight', 'base_model.model.model.layers.8.self_attn.o_proj.lora_B.rank_ep1.weight', 'base_model.model.model.layers.8.mlp.gate_proj.weight', 'base_model.model.model.layers.8.mlp.gate_proj.lora_A.rank_ep1.weight', 'base_model.model.model.layers.8.mlp.gate_proj.lora_B.rank_ep1.weight', 'base_model.model.model.layers.8.mlp.up_proj.weight', 'base_model.model.model.layers.8.mlp.up_proj.lora_A.rank_ep1.weight', 'base_model.model.model.layers.8.mlp.up_proj.lora_B.rank_ep1.weight', 'base_model.model.model.layers.8.mlp.down_proj.weight', 'base_model.model.model.layers.8.mlp.down_proj.lora_A.rank_ep1.weight', 'base_model.model.model.layers.8.mlp.down_proj.lora_B.rank_ep1.weight', 'base_model.model.model.layers.8.input_layernorm.weight', 'base_model.model.model.layers.8.post_attention_layernorm.weight', 'base_model.model.model.layers.9.self_attn.q_proj.weight', 'base_model.model.model.layers.9.self_attn.q_proj.lora_A.rank_ep1.weight', 'base_model.model.model.layers.9.self_attn.q_proj.lora_B.rank_ep1.weight', 'base_model.model.model.layers.9.self_attn.k_proj.weight', 'base_model.model.model.layers.9.self_attn.k_proj.lora_A.rank_ep1.weight', 'base_model.model.model.layers.9.self_attn.k_proj.lora_B.rank_ep1.weight', 'base_model.model.model.layers.9.self_attn.v_proj.weight', 'base_model.model.model.layers.9.self_attn.v_proj.lora_A.rank_ep1.weight', 'base_model.model.model.layers.9.self_attn.v_proj.lora_B.rank_ep1.weight', 'base_model.model.model.layers.9.self_attn.o_proj.weight', 'base_model.model.model.layers.9.self_attn.o_proj.lora_A.rank_ep1.weight', 'base_model.model.model.layers.9.self_attn.o_proj.lora_B.rank_ep1.weight', 'base_model.model.model.layers.9.mlp.gate_proj.weight', 'base_model.model.model.layers.9.mlp.gate_proj.lora_A.rank_ep1.weight', 'base_model.model.model.layers.9.mlp.gate_proj.lora_B.rank_ep1.weight', 'base_model.model.model.layers.9.mlp.up_proj.weight', 'base_model.model.model.layers.9.mlp.up_proj.lora_A.rank_ep1.weight', 'base_model.model.model.layers.9.mlp.up_proj.lora_B.rank_ep1.weight', 'base_model.model.model.layers.9.mlp.down_proj.weight', 'base_model.model.model.layers.9.mlp.down_proj.lora_A.rank_ep1.weight', 'base_model.model.model.layers.9.mlp.down_proj.lora_B.rank_ep1.weight', 'base_model.model.model.layers.9.input_layernorm.weight', 'base_model.model.model.layers.9.post_attention_layernorm.weight', 'base_model.model.model.layers.10.self_attn.q_proj.weight', 'base_model.model.model.layers.10.self_attn.q_proj.lora_A.rank_ep1.weight', 'base_model.model.model.layers.10.self_attn.q_proj.lora_B.rank_ep1.weight', 'base_model.model.model.layers.10.self_attn.k_proj.weight', 'base_model.model.model.layers.10.self_attn.k_proj.lora_A.rank_ep1.weight', 'base_model.model.model.layers.10.self_attn.k_proj.lora_B.rank_ep1.weight', 'base_model.model.model.layers.10.self_attn.v_proj.weight', 'base_model.model.model.layers.10.self_attn.v_proj.lora_A.rank_ep1.weight', 'base_model.model.model.layers.10.self_attn.v_proj.lora_B.rank_ep1.weight', 'base_model.model.model.layers.10.self_attn.o_proj.weight', 'base_model.model.model.layers.10.self_attn.o_proj.lora_A.rank_ep1.weight', 'base_model.model.model.layers.10.self_attn.o_proj.lora_B.rank_ep1.weight', 'base_model.model.model.layers.10.mlp.gate_proj.weight', 'base_model.model.model.layers.10.mlp.gate_proj.lora_A.rank_ep1.weight', 'base_model.model.model.layers.10.mlp.gate_proj.lora_B.rank_ep1.weight', 'base_model.model.model.layers.10.mlp.up_proj.weight', 'base_model.model.model.layers.10.mlp.up_proj.lora_A.rank_ep1.weight', 'base_model.model.model.layers.10.mlp.up_proj.lora_B.rank_ep1.weight', 'base_model.model.model.layers.10.mlp.down_proj.weight', 'base_model.model.model.layers.10.mlp.down_proj.lora_A.rank_ep1.weight', 'base_model.model.model.layers.10.mlp.down_proj.lora_B.rank_ep1.weight', 'base_model.model.model.layers.10.input_layernorm.weight', 'base_model.model.model.layers.10.post_attention_layernorm.weight', 'base_model.model.model.layers.11.self_attn.q_proj.weight', 'base_model.model.model.layers.11.self_attn.q_proj.lora_A.rank_ep1.weight', 'base_model.model.model.layers.11.self_attn.q_proj.lora_B.rank_ep1.weight', 'base_model.model.model.layers.11.self_attn.k_proj.weight', 'base_model.model.model.layers.11.self_attn.k_proj.lora_A.rank_ep1.weight', 'base_model.model.model.layers.11.self_attn.k_proj.lora_B.rank_ep1.weight', 'base_model.model.model.layers.11.self_attn.v_proj.weight', 'base_model.model.model.layers.11.self_attn.v_proj.lora_A.rank_ep1.weight', 'base_model.model.model.layers.11.self_attn.v_proj.lora_B.rank_ep1.weight', 'base_model.model.model.layers.11.self_attn.o_proj.weight', 'base_model.model.model.layers.11.self_attn.o_proj.lora_A.rank_ep1.weight', 'base_model.model.model.layers.11.self_attn.o_proj.lora_B.rank_ep1.weight', 'base_model.model.model.layers.11.mlp.gate_proj.weight', 'base_model.model.model.layers.11.mlp.gate_proj.lora_A.rank_ep1.weight', 'base_model.model.model.layers.11.mlp.gate_proj.lora_B.rank_ep1.weight', 'base_model.model.model.layers.11.mlp.up_proj.weight', 'base_model.model.model.layers.11.mlp.up_proj.lora_A.rank_ep1.weight', 'base_model.model.model.layers.11.mlp.up_proj.lora_B.rank_ep1.weight', 'base_model.model.model.layers.11.mlp.down_proj.weight', 'base_model.model.model.layers.11.mlp.down_proj.lora_A.rank_ep1.weight', 'base_model.model.model.layers.11.mlp.down_proj.lora_B.rank_ep1.weight', 'base_model.model.model.layers.11.input_layernorm.weight', 'base_model.model.model.layers.11.post_attention_layernorm.weight', 'base_model.model.model.layers.12.self_attn.q_proj.weight', 'base_model.model.model.layers.12.self_attn.q_proj.lora_A.rank_ep1.weight', 'base_model.model.model.layers.12.self_attn.q_proj.lora_B.rank_ep1.weight', 'base_model.model.model.layers.12.self_attn.k_proj.weight', 'base_model.model.model.layers.12.self_attn.k_proj.lora_A.rank_ep1.weight', 'base_model.model.model.layers.12.self_attn.k_proj.lora_B.rank_ep1.weight', 'base_model.model.model.layers.12.self_attn.v_proj.weight', 'base_model.model.model.layers.12.self_attn.v_proj.lora_A.rank_ep1.weight', 'base_model.model.model.layers.12.self_attn.v_proj.lora_B.rank_ep1.weight', 'base_model.model.model.layers.12.self_attn.o_proj.weight', 'base_model.model.model.layers.12.self_attn.o_proj.lora_A.rank_ep1.weight', 'base_model.model.model.layers.12.self_attn.o_proj.lora_B.rank_ep1.weight', 'base_model.model.model.layers.12.mlp.gate_proj.weight', 'base_model.model.model.layers.12.mlp.gate_proj.lora_A.rank_ep1.weight', 'base_model.model.model.layers.12.mlp.gate_proj.lora_B.rank_ep1.weight', 'base_model.model.model.layers.12.mlp.up_proj.weight', 'base_model.model.model.layers.12.mlp.up_proj.lora_A.rank_ep1.weight', 'base_model.model.model.layers.12.mlp.up_proj.lora_B.rank_ep1.weight', 'base_model.model.model.layers.12.mlp.down_proj.weight', 'base_model.model.model.layers.12.mlp.down_proj.lora_A.rank_ep1.weight', 'base_model.model.model.layers.12.mlp.down_proj.lora_B.rank_ep1.weight', 'base_model.model.model.layers.12.input_layernorm.weight', 'base_model.model.model.layers.12.post_attention_layernorm.weight', 'base_model.model.model.layers.13.self_attn.q_proj.weight', 'base_model.model.model.layers.13.self_attn.q_proj.lora_A.rank_ep1.weight', 'base_model.model.model.layers.13.self_attn.q_proj.lora_B.rank_ep1.weight', 'base_model.model.model.layers.13.self_attn.k_proj.weight', 'base_model.model.model.layers.13.self_attn.k_proj.lora_A.rank_ep1.weight', 'base_model.model.model.layers.13.self_attn.k_proj.lora_B.rank_ep1.weight', 'base_model.model.model.layers.13.self_attn.v_proj.weight', 'base_model.model.model.layers.13.self_attn.v_proj.lora_A.rank_ep1.weight', 'base_model.model.model.layers.13.self_attn.v_proj.lora_B.rank_ep1.weight', 'base_model.model.model.layers.13.self_attn.o_proj.weight', 'base_model.model.model.layers.13.self_attn.o_proj.lora_A.rank_ep1.weight', 'base_model.model.model.layers.13.self_attn.o_proj.lora_B.rank_ep1.weight', 'base_model.model.model.layers.13.mlp.gate_proj.weight', 'base_model.model.model.layers.13.mlp.gate_proj.lora_A.rank_ep1.weight', 'base_model.model.model.layers.13.mlp.gate_proj.lora_B.rank_ep1.weight', 'base_model.model.model.layers.13.mlp.up_proj.weight', 'base_model.model.model.layers.13.mlp.up_proj.lora_A.rank_ep1.weight', 'base_model.model.model.layers.13.mlp.up_proj.lora_B.rank_ep1.weight', 'base_model.model.model.layers.13.mlp.down_proj.weight', 'base_model.model.model.layers.13.mlp.down_proj.lora_A.rank_ep1.weight', 'base_model.model.model.layers.13.mlp.down_proj.lora_B.rank_ep1.weight', 'base_model.model.model.layers.13.input_layernorm.weight', 'base_model.model.model.layers.13.post_attention_layernorm.weight', 'base_model.model.model.layers.14.self_attn.q_proj.weight', 'base_model.model.model.layers.14.self_attn.q_proj.lora_A.rank_ep1.weight', 'base_model.model.model.layers.14.self_attn.q_proj.lora_B.rank_ep1.weight', 'base_model.model.model.layers.14.self_attn.k_proj.weight', 'base_model.model.model.layers.14.self_attn.k_proj.lora_A.rank_ep1.weight', 'base_model.model.model.layers.14.self_attn.k_proj.lora_B.rank_ep1.weight', 'base_model.model.model.layers.14.self_attn.v_proj.weight', 'base_model.model.model.layers.14.self_attn.v_proj.lora_A.rank_ep1.weight', 'base_model.model.model.layers.14.self_attn.v_proj.lora_B.rank_ep1.weight', 'base_model.model.model.layers.14.self_attn.o_proj.weight', 'base_model.model.model.layers.14.self_attn.o_proj.lora_A.rank_ep1.weight', 'base_model.model.model.layers.14.self_attn.o_proj.lora_B.rank_ep1.weight', 'base_model.model.model.layers.14.mlp.gate_proj.weight', 'base_model.model.model.layers.14.mlp.gate_proj.lora_A.rank_ep1.weight', 'base_model.model.model.layers.14.mlp.gate_proj.lora_B.rank_ep1.weight', 'base_model.model.model.layers.14.mlp.up_proj.weight', 'base_model.model.model.layers.14.mlp.up_proj.lora_A.rank_ep1.weight', 'base_model.model.model.layers.14.mlp.up_proj.lora_B.rank_ep1.weight', 'base_model.model.model.layers.14.mlp.down_proj.weight', 'base_model.model.model.layers.14.mlp.down_proj.lora_A.rank_ep1.weight', 'base_model.model.model.layers.14.mlp.down_proj.lora_B.rank_ep1.weight', 'base_model.model.model.layers.14.input_layernorm.weight', 'base_model.model.model.layers.14.post_attention_layernorm.weight', 'base_model.model.model.layers.15.self_attn.q_proj.weight', 'base_model.model.model.layers.15.self_attn.q_proj.lora_A.rank_ep1.weight', 'base_model.model.model.layers.15.self_attn.q_proj.lora_B.rank_ep1.weight', 'base_model.model.model.layers.15.self_attn.k_proj.weight', 'base_model.model.model.layers.15.self_attn.k_proj.lora_A.rank_ep1.weight', 'base_model.model.model.layers.15.self_attn.k_proj.lora_B.rank_ep1.weight', 'base_model.model.model.layers.15.self_attn.v_proj.weight', 'base_model.model.model.layers.15.self_attn.v_proj.lora_A.rank_ep1.weight', 'base_model.model.model.layers.15.self_attn.v_proj.lora_B.rank_ep1.weight', 'base_model.model.model.layers.15.self_attn.o_proj.weight', 'base_model.model.model.layers.15.self_attn.o_proj.lora_A.rank_ep1.weight', 'base_model.model.model.layers.15.self_attn.o_proj.lora_B.rank_ep1.weight', 'base_model.model.model.layers.15.mlp.gate_proj.weight', 'base_model.model.model.layers.15.mlp.gate_proj.lora_A.rank_ep1.weight', 'base_model.model.model.layers.15.mlp.gate_proj.lora_B.rank_ep1.weight', 'base_model.model.model.layers.15.mlp.up_proj.weight', 'base_model.model.model.layers.15.mlp.up_proj.lora_A.rank_ep1.weight', 'base_model.model.model.layers.15.mlp.up_proj.lora_B.rank_ep1.weight', 'base_model.model.model.layers.15.mlp.down_proj.weight', 'base_model.model.model.layers.15.mlp.down_proj.lora_A.rank_ep1.weight', 'base_model.model.model.layers.15.mlp.down_proj.lora_B.rank_ep1.weight', 'base_model.model.model.layers.15.input_layernorm.weight', 'base_model.model.model.layers.15.post_attention_layernorm.weight', 'base_model.model.model.layers.16.self_attn.q_proj.weight', 'base_model.model.model.layers.16.self_attn.q_proj.lora_A.rank_ep1.weight', 'base_model.model.model.layers.16.self_attn.q_proj.lora_B.rank_ep1.weight', 'base_model.model.model.layers.16.self_attn.k_proj.weight', 'base_model.model.model.layers.16.self_attn.k_proj.lora_A.rank_ep1.weight', 'base_model.model.model.layers.16.self_attn.k_proj.lora_B.rank_ep1.weight', 'base_model.model.model.layers.16.self_attn.v_proj.weight', 'base_model.model.model.layers.16.self_attn.v_proj.lora_A.rank_ep1.weight', 'base_model.model.model.layers.16.self_attn.v_proj.lora_B.rank_ep1.weight', 'base_model.model.model.layers.16.self_attn.o_proj.weight', 'base_model.model.model.layers.16.self_attn.o_proj.lora_A.rank_ep1.weight', 'base_model.model.model.layers.16.self_attn.o_proj.lora_B.rank_ep1.weight', 'base_model.model.model.layers.16.mlp.gate_proj.weight', 'base_model.model.model.layers.16.mlp.gate_proj.lora_A.rank_ep1.weight', 'base_model.model.model.layers.16.mlp.gate_proj.lora_B.rank_ep1.weight', 'base_model.model.model.layers.16.mlp.up_proj.weight', 'base_model.model.model.layers.16.mlp.up_proj.lora_A.rank_ep1.weight', 'base_model.model.model.layers.16.mlp.up_proj.lora_B.rank_ep1.weight', 'base_model.model.model.layers.16.mlp.down_proj.weight', 'base_model.model.model.layers.16.mlp.down_proj.lora_A.rank_ep1.weight', 'base_model.model.model.layers.16.mlp.down_proj.lora_B.rank_ep1.weight', 'base_model.model.model.layers.16.input_layernorm.weight', 'base_model.model.model.layers.16.post_attention_layernorm.weight', 'base_model.model.model.layers.17.self_attn.q_proj.weight', 'base_model.model.model.layers.17.self_attn.q_proj.lora_A.rank_ep1.weight', 'base_model.model.model.layers.17.self_attn.q_proj.lora_B.rank_ep1.weight', 'base_model.model.model.layers.17.self_attn.k_proj.weight', 'base_model.model.model.layers.17.self_attn.k_proj.lora_A.rank_ep1.weight', 'base_model.model.model.layers.17.self_attn.k_proj.lora_B.rank_ep1.weight', 'base_model.model.model.layers.17.self_attn.v_proj.weight', 'base_model.model.model.layers.17.self_attn.v_proj.lora_A.rank_ep1.weight', 'base_model.model.model.layers.17.self_attn.v_proj.lora_B.rank_ep1.weight', 'base_model.model.model.layers.17.self_attn.o_proj.weight', 'base_model.model.model.layers.17.self_attn.o_proj.lora_A.rank_ep1.weight', 'base_model.model.model.layers.17.self_attn.o_proj.lora_B.rank_ep1.weight', 'base_model.model.model.layers.17.mlp.gate_proj.weight', 'base_model.model.model.layers.17.mlp.gate_proj.lora_A.rank_ep1.weight', 'base_model.model.model.layers.17.mlp.gate_proj.lora_B.rank_ep1.weight', 'base_model.model.model.layers.17.mlp.up_proj.weight', 'base_model.model.model.layers.17.mlp.up_proj.lora_A.rank_ep1.weight', 'base_model.model.model.layers.17.mlp.up_proj.lora_B.rank_ep1.weight', 'base_model.model.model.layers.17.mlp.down_proj.weight', 'base_model.model.model.layers.17.mlp.down_proj.lora_A.rank_ep1.weight', 'base_model.model.model.layers.17.mlp.down_proj.lora_B.rank_ep1.weight', 'base_model.model.model.layers.17.input_layernorm.weight', 'base_model.model.model.layers.17.post_attention_layernorm.weight', 'base_model.model.model.layers.18.self_attn.q_proj.weight', 'base_model.model.model.layers.18.self_attn.q_proj.lora_A.rank_ep1.weight', 'base_model.model.model.layers.18.self_attn.q_proj.lora_B.rank_ep1.weight', 'base_model.model.model.layers.18.self_attn.k_proj.weight', 'base_model.model.model.layers.18.self_attn.k_proj.lora_A.rank_ep1.weight', 'base_model.model.model.layers.18.self_attn.k_proj.lora_B.rank_ep1.weight', 'base_model.model.model.layers.18.self_attn.v_proj.weight', 'base_model.model.model.layers.18.self_attn.v_proj.lora_A.rank_ep1.weight', 'base_model.model.model.layers.18.self_attn.v_proj.lora_B.rank_ep1.weight', 'base_model.model.model.layers.18.self_attn.o_proj.weight', 'base_model.model.model.layers.18.self_attn.o_proj.lora_A.rank_ep1.weight', 'base_model.model.model.layers.18.self_attn.o_proj.lora_B.rank_ep1.weight', 'base_model.model.model.layers.18.mlp.gate_proj.weight', 'base_model.model.model.layers.18.mlp.gate_proj.lora_A.rank_ep1.weight', 'base_model.model.model.layers.18.mlp.gate_proj.lora_B.rank_ep1.weight', 'base_model.model.model.layers.18.mlp.up_proj.weight', 'base_model.model.model.layers.18.mlp.up_proj.lora_A.rank_ep1.weight', 'base_model.model.model.layers.18.mlp.up_proj.lora_B.rank_ep1.weight', 'base_model.model.model.layers.18.mlp.down_proj.weight', 'base_model.model.model.layers.18.mlp.down_proj.lora_A.rank_ep1.weight', 'base_model.model.model.layers.18.mlp.down_proj.lora_B.rank_ep1.weight', 'base_model.model.model.layers.18.input_layernorm.weight', 'base_model.model.model.layers.18.post_attention_layernorm.weight', 'base_model.model.model.layers.19.self_attn.q_proj.weight', 'base_model.model.model.layers.19.self_attn.q_proj.lora_A.rank_ep1.weight', 'base_model.model.model.layers.19.self_attn.q_proj.lora_B.rank_ep1.weight', 'base_model.model.model.layers.19.self_attn.k_proj.weight', 'base_model.model.model.layers.19.self_attn.k_proj.lora_A.rank_ep1.weight', 'base_model.model.model.layers.19.self_attn.k_proj.lora_B.rank_ep1.weight', 'base_model.model.model.layers.19.self_attn.v_proj.weight', 'base_model.model.model.layers.19.self_attn.v_proj.lora_A.rank_ep1.weight', 'base_model.model.model.layers.19.self_attn.v_proj.lora_B.rank_ep1.weight', 'base_model.model.model.layers.19.self_attn.o_proj.weight', 'base_model.model.model.layers.19.self_attn.o_proj.lora_A.rank_ep1.weight', 'base_model.model.model.layers.19.self_attn.o_proj.lora_B.rank_ep1.weight', 'base_model.model.model.layers.19.mlp.gate_proj.weight', 'base_model.model.model.layers.19.mlp.gate_proj.lora_A.rank_ep1.weight', 'base_model.model.model.layers.19.mlp.gate_proj.lora_B.rank_ep1.weight', 'base_model.model.model.layers.19.mlp.up_proj.weight', 'base_model.model.model.layers.19.mlp.up_proj.lora_A.rank_ep1.weight', 'base_model.model.model.layers.19.mlp.up_proj.lora_B.rank_ep1.weight', 'base_model.model.model.layers.19.mlp.down_proj.weight', 'base_model.model.model.layers.19.mlp.down_proj.lora_A.rank_ep1.weight', 'base_model.model.model.layers.19.mlp.down_proj.lora_B.rank_ep1.weight', 'base_model.model.model.layers.19.input_layernorm.weight', 'base_model.model.model.layers.19.post_attention_layernorm.weight', 'base_model.model.model.layers.20.self_attn.q_proj.weight', 'base_model.model.model.layers.20.self_attn.q_proj.lora_A.rank_ep1.weight', 'base_model.model.model.layers.20.self_attn.q_proj.lora_B.rank_ep1.weight', 'base_model.model.model.layers.20.self_attn.k_proj.weight', 'base_model.model.model.layers.20.self_attn.k_proj.lora_A.rank_ep1.weight', 'base_model.model.model.layers.20.self_attn.k_proj.lora_B.rank_ep1.weight', 'base_model.model.model.layers.20.self_attn.v_proj.weight', 'base_model.model.model.layers.20.self_attn.v_proj.lora_A.rank_ep1.weight', 'base_model.model.model.layers.20.self_attn.v_proj.lora_B.rank_ep1.weight', 'base_model.model.model.layers.20.self_attn.o_proj.weight', 'base_model.model.model.layers.20.self_attn.o_proj.lora_A.rank_ep1.weight', 'base_model.model.model.layers.20.self_attn.o_proj.lora_B.rank_ep1.weight', 'base_model.model.model.layers.20.mlp.gate_proj.weight', 'base_model.model.model.layers.20.mlp.gate_proj.lora_A.rank_ep1.weight', 'base_model.model.model.layers.20.mlp.gate_proj.lora_B.rank_ep1.weight', 'base_model.model.model.layers.20.mlp.up_proj.weight', 'base_model.model.model.layers.20.mlp.up_proj.lora_A.rank_ep1.weight', 'base_model.model.model.layers.20.mlp.up_proj.lora_B.rank_ep1.weight', 'base_model.model.model.layers.20.mlp.down_proj.weight', 'base_model.model.model.layers.20.mlp.down_proj.lora_A.rank_ep1.weight', 'base_model.model.model.layers.20.mlp.down_proj.lora_B.rank_ep1.weight', 'base_model.model.model.layers.20.input_layernorm.weight', 'base_model.model.model.layers.20.post_attention_layernorm.weight', 'base_model.model.model.layers.21.self_attn.q_proj.weight', 'base_model.model.model.layers.21.self_attn.q_proj.lora_A.rank_ep1.weight', 'base_model.model.model.layers.21.self_attn.q_proj.lora_B.rank_ep1.weight', 'base_model.model.model.layers.21.self_attn.k_proj.weight', 'base_model.model.model.layers.21.self_attn.k_proj.lora_A.rank_ep1.weight', 'base_model.model.model.layers.21.self_attn.k_proj.lora_B.rank_ep1.weight', 'base_model.model.model.layers.21.self_attn.v_proj.weight', 'base_model.model.model.layers.21.self_attn.v_proj.lora_A.rank_ep1.weight', 'base_model.model.model.layers.21.self_attn.v_proj.lora_B.rank_ep1.weight', 'base_model.model.model.layers.21.self_attn.o_proj.weight', 'base_model.model.model.layers.21.self_attn.o_proj.lora_A.rank_ep1.weight', 'base_model.model.model.layers.21.self_attn.o_proj.lora_B.rank_ep1.weight', 'base_model.model.model.layers.21.mlp.gate_proj.weight', 'base_model.model.model.layers.21.mlp.gate_proj.lora_A.rank_ep1.weight', 'base_model.model.model.layers.21.mlp.gate_proj.lora_B.rank_ep1.weight', 'base_model.model.model.layers.21.mlp.up_proj.weight', 'base_model.model.model.layers.21.mlp.up_proj.lora_A.rank_ep1.weight', 'base_model.model.model.layers.21.mlp.up_proj.lora_B.rank_ep1.weight', 'base_model.model.model.layers.21.mlp.down_proj.weight', 'base_model.model.model.layers.21.mlp.down_proj.lora_A.rank_ep1.weight', 'base_model.model.model.layers.21.mlp.down_proj.lora_B.rank_ep1.weight', 'base_model.model.model.layers.21.input_layernorm.weight', 'base_model.model.model.layers.21.post_attention_layernorm.weight', 'base_model.model.model.layers.22.self_attn.q_proj.weight', 'base_model.model.model.layers.22.self_attn.q_proj.lora_A.rank_ep1.weight', 'base_model.model.model.layers.22.self_attn.q_proj.lora_B.rank_ep1.weight', 'base_model.model.model.layers.22.self_attn.k_proj.weight', 'base_model.model.model.layers.22.self_attn.k_proj.lora_A.rank_ep1.weight', 'base_model.model.model.layers.22.self_attn.k_proj.lora_B.rank_ep1.weight', 'base_model.model.model.layers.22.self_attn.v_proj.weight', 'base_model.model.model.layers.22.self_attn.v_proj.lora_A.rank_ep1.weight', 'base_model.model.model.layers.22.self_attn.v_proj.lora_B.rank_ep1.weight', 'base_model.model.model.layers.22.self_attn.o_proj.weight', 'base_model.model.model.layers.22.self_attn.o_proj.lora_A.rank_ep1.weight', 'base_model.model.model.layers.22.self_attn.o_proj.lora_B.rank_ep1.weight', 'base_model.model.model.layers.22.mlp.gate_proj.weight', 'base_model.model.model.layers.22.mlp.gate_proj.lora_A.rank_ep1.weight', 'base_model.model.model.layers.22.mlp.gate_proj.lora_B.rank_ep1.weight', 'base_model.model.model.layers.22.mlp.up_proj.weight', 'base_model.model.model.layers.22.mlp.up_proj.lora_A.rank_ep1.weight', 'base_model.model.model.layers.22.mlp.up_proj.lora_B.rank_ep1.weight', 'base_model.model.model.layers.22.mlp.down_proj.weight', 'base_model.model.model.layers.22.mlp.down_proj.lora_A.rank_ep1.weight', 'base_model.model.model.layers.22.mlp.down_proj.lora_B.rank_ep1.weight', 'base_model.model.model.layers.22.input_layernorm.weight', 'base_model.model.model.layers.22.post_attention_layernorm.weight', 'base_model.model.model.layers.23.self_attn.q_proj.weight', 'base_model.model.model.layers.23.self_attn.q_proj.lora_A.rank_ep1.weight', 'base_model.model.model.layers.23.self_attn.q_proj.lora_B.rank_ep1.weight', 'base_model.model.model.layers.23.self_attn.k_proj.weight', 'base_model.model.model.layers.23.self_attn.k_proj.lora_A.rank_ep1.weight', 'base_model.model.model.layers.23.self_attn.k_proj.lora_B.rank_ep1.weight', 'base_model.model.model.layers.23.self_attn.v_proj.weight', 'base_model.model.model.layers.23.self_attn.v_proj.lora_A.rank_ep1.weight', 'base_model.model.model.layers.23.self_attn.v_proj.lora_B.rank_ep1.weight', 'base_model.model.model.layers.23.self_attn.o_proj.weight', 'base_model.model.model.layers.23.self_attn.o_proj.lora_A.rank_ep1.weight', 'base_model.model.model.layers.23.self_attn.o_proj.lora_B.rank_ep1.weight', 'base_model.model.model.layers.23.mlp.gate_proj.weight', 'base_model.model.model.layers.23.mlp.gate_proj.lora_A.rank_ep1.weight', 'base_model.model.model.layers.23.mlp.gate_proj.lora_B.rank_ep1.weight', 'base_model.model.model.layers.23.mlp.up_proj.weight', 'base_model.model.model.layers.23.mlp.up_proj.lora_A.rank_ep1.weight', 'base_model.model.model.layers.23.mlp.up_proj.lora_B.rank_ep1.weight', 'base_model.model.model.layers.23.mlp.down_proj.weight', 'base_model.model.model.layers.23.mlp.down_proj.lora_A.rank_ep1.weight', 'base_model.model.model.layers.23.mlp.down_proj.lora_B.rank_ep1.weight', 'base_model.model.model.layers.23.input_layernorm.weight', 'base_model.model.model.layers.23.post_attention_layernorm.weight', 'base_model.model.model.layers.24.self_attn.q_proj.weight', 'base_model.model.model.layers.24.self_attn.q_proj.lora_A.rank_ep1.weight', 'base_model.model.model.layers.24.self_attn.q_proj.lora_B.rank_ep1.weight', 'base_model.model.model.layers.24.self_attn.k_proj.weight', 'base_model.model.model.layers.24.self_attn.k_proj.lora_A.rank_ep1.weight', 'base_model.model.model.layers.24.self_attn.k_proj.lora_B.rank_ep1.weight', 'base_model.model.model.layers.24.self_attn.v_proj.weight', 'base_model.model.model.layers.24.self_attn.v_proj.lora_A.rank_ep1.weight', 'base_model.model.model.layers.24.self_attn.v_proj.lora_B.rank_ep1.weight', 'base_model.model.model.layers.24.self_attn.o_proj.weight', 'base_model.model.model.layers.24.self_attn.o_proj.lora_A.rank_ep1.weight', 'base_model.model.model.layers.24.self_attn.o_proj.lora_B.rank_ep1.weight', 'base_model.model.model.layers.24.mlp.gate_proj.weight', 'base_model.model.model.layers.24.mlp.gate_proj.lora_A.rank_ep1.weight', 'base_model.model.model.layers.24.mlp.gate_proj.lora_B.rank_ep1.weight', 'base_model.model.model.layers.24.mlp.up_proj.weight', 'base_model.model.model.layers.24.mlp.up_proj.lora_A.rank_ep1.weight', 'base_model.model.model.layers.24.mlp.up_proj.lora_B.rank_ep1.weight', 'base_model.model.model.layers.24.mlp.down_proj.weight', 'base_model.model.model.layers.24.mlp.down_proj.lora_A.rank_ep1.weight', 'base_model.model.model.layers.24.mlp.down_proj.lora_B.rank_ep1.weight', 'base_model.model.model.layers.24.input_layernorm.weight', 'base_model.model.model.layers.24.post_attention_layernorm.weight', 'base_model.model.model.layers.25.self_attn.q_proj.weight', 'base_model.model.model.layers.25.self_attn.q_proj.lora_A.rank_ep1.weight', 'base_model.model.model.layers.25.self_attn.q_proj.lora_B.rank_ep1.weight', 'base_model.model.model.layers.25.self_attn.k_proj.weight', 'base_model.model.model.layers.25.self_attn.k_proj.lora_A.rank_ep1.weight', 'base_model.model.model.layers.25.self_attn.k_proj.lora_B.rank_ep1.weight', 'base_model.model.model.layers.25.self_attn.v_proj.weight', 'base_model.model.model.layers.25.self_attn.v_proj.lora_A.rank_ep1.weight', 'base_model.model.model.layers.25.self_attn.v_proj.lora_B.rank_ep1.weight', 'base_model.model.model.layers.25.self_attn.o_proj.weight', 'base_model.model.model.layers.25.self_attn.o_proj.lora_A.rank_ep1.weight', 'base_model.model.model.layers.25.self_attn.o_proj.lora_B.rank_ep1.weight', 'base_model.model.model.layers.25.mlp.gate_proj.weight', 'base_model.model.model.layers.25.mlp.gate_proj.lora_A.rank_ep1.weight', 'base_model.model.model.layers.25.mlp.gate_proj.lora_B.rank_ep1.weight', 'base_model.model.model.layers.25.mlp.up_proj.weight', 'base_model.model.model.layers.25.mlp.up_proj.lora_A.rank_ep1.weight', 'base_model.model.model.layers.25.mlp.up_proj.lora_B.rank_ep1.weight', 'base_model.model.model.layers.25.mlp.down_proj.weight', 'base_model.model.model.layers.25.mlp.down_proj.lora_A.rank_ep1.weight', 'base_model.model.model.layers.25.mlp.down_proj.lora_B.rank_ep1.weight', 'base_model.model.model.layers.25.input_layernorm.weight', 'base_model.model.model.layers.25.post_attention_layernorm.weight', 'base_model.model.model.layers.26.self_attn.q_proj.weight', 'base_model.model.model.layers.26.self_attn.q_proj.lora_A.rank_ep1.weight', 'base_model.model.model.layers.26.self_attn.q_proj.lora_B.rank_ep1.weight', 'base_model.model.model.layers.26.self_attn.k_proj.weight', 'base_model.model.model.layers.26.self_attn.k_proj.lora_A.rank_ep1.weight', 'base_model.model.model.layers.26.self_attn.k_proj.lora_B.rank_ep1.weight', 'base_model.model.model.layers.26.self_attn.v_proj.weight', 'base_model.model.model.layers.26.self_attn.v_proj.lora_A.rank_ep1.weight', 'base_model.model.model.layers.26.self_attn.v_proj.lora_B.rank_ep1.weight', 'base_model.model.model.layers.26.self_attn.o_proj.weight', 'base_model.model.model.layers.26.self_attn.o_proj.lora_A.rank_ep1.weight', 'base_model.model.model.layers.26.self_attn.o_proj.lora_B.rank_ep1.weight', 'base_model.model.model.layers.26.mlp.gate_proj.weight', 'base_model.model.model.layers.26.mlp.gate_proj.lora_A.rank_ep1.weight', 'base_model.model.model.layers.26.mlp.gate_proj.lora_B.rank_ep1.weight', 'base_model.model.model.layers.26.mlp.up_proj.weight', 'base_model.model.model.layers.26.mlp.up_proj.lora_A.rank_ep1.weight', 'base_model.model.model.layers.26.mlp.up_proj.lora_B.rank_ep1.weight', 'base_model.model.model.layers.26.mlp.down_proj.weight', 'base_model.model.model.layers.26.mlp.down_proj.lora_A.rank_ep1.weight', 'base_model.model.model.layers.26.mlp.down_proj.lora_B.rank_ep1.weight', 'base_model.model.model.layers.26.input_layernorm.weight', 'base_model.model.model.layers.26.post_attention_layernorm.weight', 'base_model.model.model.layers.27.self_attn.q_proj.weight', 'base_model.model.model.layers.27.self_attn.q_proj.lora_A.rank_ep1.weight', 'base_model.model.model.layers.27.self_attn.q_proj.lora_B.rank_ep1.weight', 'base_model.model.model.layers.27.self_attn.k_proj.weight', 'base_model.model.model.layers.27.self_attn.k_proj.lora_A.rank_ep1.weight', 'base_model.model.model.layers.27.self_attn.k_proj.lora_B.rank_ep1.weight', 'base_model.model.model.layers.27.self_attn.v_proj.weight', 'base_model.model.model.layers.27.self_attn.v_proj.lora_A.rank_ep1.weight', 'base_model.model.model.layers.27.self_attn.v_proj.lora_B.rank_ep1.weight', 'base_model.model.model.layers.27.self_attn.o_proj.weight', 'base_model.model.model.layers.27.self_attn.o_proj.lora_A.rank_ep1.weight', 'base_model.model.model.layers.27.self_attn.o_proj.lora_B.rank_ep1.weight', 'base_model.model.model.layers.27.mlp.gate_proj.weight', 'base_model.model.model.layers.27.mlp.gate_proj.lora_A.rank_ep1.weight', 'base_model.model.model.layers.27.mlp.gate_proj.lora_B.rank_ep1.weight', 'base_model.model.model.layers.27.mlp.up_proj.weight', 'base_model.model.model.layers.27.mlp.up_proj.lora_A.rank_ep1.weight', 'base_model.model.model.layers.27.mlp.up_proj.lora_B.rank_ep1.weight', 'base_model.model.model.layers.27.mlp.down_proj.weight', 'base_model.model.model.layers.27.mlp.down_proj.lora_A.rank_ep1.weight', 'base_model.model.model.layers.27.mlp.down_proj.lora_B.rank_ep1.weight', 'base_model.model.model.layers.27.input_layernorm.weight', 'base_model.model.model.layers.27.post_attention_layernorm.weight', 'base_model.model.model.layers.28.self_attn.q_proj.weight', 'base_model.model.model.layers.28.self_attn.q_proj.lora_A.rank_ep1.weight', 'base_model.model.model.layers.28.self_attn.q_proj.lora_B.rank_ep1.weight', 'base_model.model.model.layers.28.self_attn.k_proj.weight', 'base_model.model.model.layers.28.self_attn.k_proj.lora_A.rank_ep1.weight', 'base_model.model.model.layers.28.self_attn.k_proj.lora_B.rank_ep1.weight', 'base_model.model.model.layers.28.self_attn.v_proj.weight', 'base_model.model.model.layers.28.self_attn.v_proj.lora_A.rank_ep1.weight', 'base_model.model.model.layers.28.self_attn.v_proj.lora_B.rank_ep1.weight', 'base_model.model.model.layers.28.self_attn.o_proj.weight', 'base_model.model.model.layers.28.self_attn.o_proj.lora_A.rank_ep1.weight', 'base_model.model.model.layers.28.self_attn.o_proj.lora_B.rank_ep1.weight', 'base_model.model.model.layers.28.mlp.gate_proj.weight', 'base_model.model.model.layers.28.mlp.gate_proj.lora_A.rank_ep1.weight', 'base_model.model.model.layers.28.mlp.gate_proj.lora_B.rank_ep1.weight', 'base_model.model.model.layers.28.mlp.up_proj.weight', 'base_model.model.model.layers.28.mlp.up_proj.lora_A.rank_ep1.weight', 'base_model.model.model.layers.28.mlp.up_proj.lora_B.rank_ep1.weight', 'base_model.model.model.layers.28.mlp.down_proj.weight', 'base_model.model.model.layers.28.mlp.down_proj.lora_A.rank_ep1.weight', 'base_model.model.model.layers.28.mlp.down_proj.lora_B.rank_ep1.weight', 'base_model.model.model.layers.28.input_layernorm.weight', 'base_model.model.model.layers.28.post_attention_layernorm.weight', 'base_model.model.model.layers.29.self_attn.q_proj.weight', 'base_model.model.model.layers.29.self_attn.q_proj.lora_A.rank_ep1.weight', 'base_model.model.model.layers.29.self_attn.q_proj.lora_B.rank_ep1.weight', 'base_model.model.model.layers.29.self_attn.k_proj.weight', 'base_model.model.model.layers.29.self_attn.k_proj.lora_A.rank_ep1.weight', 'base_model.model.model.layers.29.self_attn.k_proj.lora_B.rank_ep1.weight', 'base_model.model.model.layers.29.self_attn.v_proj.weight', 'base_model.model.model.layers.29.self_attn.v_proj.lora_A.rank_ep1.weight', 'base_model.model.model.layers.29.self_attn.v_proj.lora_B.rank_ep1.weight', 'base_model.model.model.layers.29.self_attn.o_proj.weight', 'base_model.model.model.layers.29.self_attn.o_proj.lora_A.rank_ep1.weight', 'base_model.model.model.layers.29.self_attn.o_proj.lora_B.rank_ep1.weight', 'base_model.model.model.layers.29.mlp.gate_proj.weight', 'base_model.model.model.layers.29.mlp.gate_proj.lora_A.rank_ep1.weight', 'base_model.model.model.layers.29.mlp.gate_proj.lora_B.rank_ep1.weight', 'base_model.model.model.layers.29.mlp.up_proj.weight', 'base_model.model.model.layers.29.mlp.up_proj.lora_A.rank_ep1.weight', 'base_model.model.model.layers.29.mlp.up_proj.lora_B.rank_ep1.weight', 'base_model.model.model.layers.29.mlp.down_proj.weight', 'base_model.model.model.layers.29.mlp.down_proj.lora_A.rank_ep1.weight', 'base_model.model.model.layers.29.mlp.down_proj.lora_B.rank_ep1.weight', 'base_model.model.model.layers.29.input_layernorm.weight', 'base_model.model.model.layers.29.post_attention_layernorm.weight', 'base_model.model.model.layers.30.self_attn.q_proj.weight', 'base_model.model.model.layers.30.self_attn.q_proj.lora_A.rank_ep1.weight', 'base_model.model.model.layers.30.self_attn.q_proj.lora_B.rank_ep1.weight', 'base_model.model.model.layers.30.self_attn.k_proj.weight', 'base_model.model.model.layers.30.self_attn.k_proj.lora_A.rank_ep1.weight', 'base_model.model.model.layers.30.self_attn.k_proj.lora_B.rank_ep1.weight', 'base_model.model.model.layers.30.self_attn.v_proj.weight', 'base_model.model.model.layers.30.self_attn.v_proj.lora_A.rank_ep1.weight', 'base_model.model.model.layers.30.self_attn.v_proj.lora_B.rank_ep1.weight', 'base_model.model.model.layers.30.self_attn.o_proj.weight', 'base_model.model.model.layers.30.self_attn.o_proj.lora_A.rank_ep1.weight', 'base_model.model.model.layers.30.self_attn.o_proj.lora_B.rank_ep1.weight', 'base_model.model.model.layers.30.mlp.gate_proj.weight', 'base_model.model.model.layers.30.mlp.gate_proj.lora_A.rank_ep1.weight', 'base_model.model.model.layers.30.mlp.gate_proj.lora_B.rank_ep1.weight', 'base_model.model.model.layers.30.mlp.up_proj.weight', 'base_model.model.model.layers.30.mlp.up_proj.lora_A.rank_ep1.weight', 'base_model.model.model.layers.30.mlp.up_proj.lora_B.rank_ep1.weight', 'base_model.model.model.layers.30.mlp.down_proj.weight', 'base_model.model.model.layers.30.mlp.down_proj.lora_A.rank_ep1.weight', 'base_model.model.model.layers.30.mlp.down_proj.lora_B.rank_ep1.weight', 'base_model.model.model.layers.30.input_layernorm.weight', 'base_model.model.model.layers.30.post_attention_layernorm.weight', 'base_model.model.model.layers.31.self_attn.q_proj.weight', 'base_model.model.model.layers.31.self_attn.q_proj.lora_A.rank_ep1.weight', 'base_model.model.model.layers.31.self_attn.q_proj.lora_B.rank_ep1.weight', 'base_model.model.model.layers.31.self_attn.k_proj.weight', 'base_model.model.model.layers.31.self_attn.k_proj.lora_A.rank_ep1.weight', 'base_model.model.model.layers.31.self_attn.k_proj.lora_B.rank_ep1.weight', 'base_model.model.model.layers.31.self_attn.v_proj.weight', 'base_model.model.model.layers.31.self_attn.v_proj.lora_A.rank_ep1.weight', 'base_model.model.model.layers.31.self_attn.v_proj.lora_B.rank_ep1.weight', 'base_model.model.model.layers.31.self_attn.o_proj.weight', 'base_model.model.model.layers.31.self_attn.o_proj.lora_A.rank_ep1.weight', 'base_model.model.model.layers.31.self_attn.o_proj.lora_B.rank_ep1.weight', 'base_model.model.model.layers.31.mlp.gate_proj.weight', 'base_model.model.model.layers.31.mlp.gate_proj.lora_A.rank_ep1.weight', 'base_model.model.model.layers.31.mlp.gate_proj.lora_B.rank_ep1.weight', 'base_model.model.model.layers.31.mlp.up_proj.weight', 'base_model.model.model.layers.31.mlp.up_proj.lora_A.rank_ep1.weight', 'base_model.model.model.layers.31.mlp.up_proj.lora_B.rank_ep1.weight', 'base_model.model.model.layers.31.mlp.down_proj.weight', 'base_model.model.model.layers.31.mlp.down_proj.lora_A.rank_ep1.weight', 'base_model.model.model.layers.31.mlp.down_proj.lora_B.rank_ep1.weight', 'base_model.model.model.layers.31.input_layernorm.weight', 'base_model.model.model.layers.31.post_attention_layernorm.weight', 'base_model.model.model.norm.weight', 'base_model.model.score.original_module.weight', 'base_model.model.score.modules_to_save.rank_ep1.weight'], unexpected_keys=[])"
      ]
     },
     "execution_count": 1,
     "metadata": {},
     "output_type": "execute_result"
    }
   ],
   "source": [
    "import transformers\n",
    "import torch\n",
    "from transformers import BitsAndBytesConfig\n",
    "from peft import PeftModel\n",
    "\n",
    "model_args = {\n",
    "    \"torch_dtype\": torch.bfloat16,\n",
    "    # \"quantization_config\": BitsAndBytesConfig(\n",
    "    #     load_in_4bit=True,\n",
    "    #     bnb_4bit_quant_type=\"nf4\",\n",
    "    #     bnb_4bit_compute_dtype=torch.bfloat16,\n",
    "    #     bnb_4bit_use_double_quant=True,\n",
    "    #     ),\n",
    "    \"cache_dir\": 'cache',\n",
    "    \"device_map\": {\"\":1},\n",
    "}\n",
    "\n",
    "model_name = 'output/sft/LLama-2-7b_crs_oasst_sft_bs64_ep_1/merged/'\n",
    "\n",
    "# abs_adapter_mean_name = \"output/rm/LLama-2-7b_crs_oasst_sft_reward_abs_bs64/final_checkpoint\"\n",
    "# abs_adapter_wavg_name = \"output/rm/LLama-2-7b_crs_oasst_sft_reward_abs_bs64_weighted_avg/final_checkpoint\"\n",
    "# # abs_adapter2_wavg_l2_name = \"output/rm/LLama-2-7b_crs_oasst_sft_reward_abs_bs64_weighted_avg_l2_1e-5/final_checkpoint\"\n",
    "# abs_adapter3_wavg_l2_no_sig_name = \"output/rm/LLama-2-7b_crs_oasst_sft_reward_abs_bs64_weighted_avg_l2_1e-5_no_sigmoid/final_checkpoint\"\n",
    "# abs_adapter3_wavg_no_sig_os_at05_top_1_name = \"output/rm/LLama-2-7b_crs_oasst_sft_reward_abs_bs64_wgt_v2_no_sig_oversampled_at05_wgt_loss/final_checkpoint\"\n",
    "\n",
    "# abs_adapter4_wavg_no_sig_os_at05_wgt_loss_top_1_name = \"output/rm/LLama-2-7b_crs_oasst_sft_reward_abs_bs64_wgt_v3_no_sig_oversampled_at05_wgt_loss/final_checkpoint\"\n",
    "# abs_adapter4_wavg_no_sig_os_at05_top_1_name = \"output/rm/LLama-2-7b_crs_oasst_sft_reward_abs_bs64_wgt_v3_no_sig_oversampled_at05/final_checkpoint\"\n",
    "\n",
    "\n",
    "# # abs_adapter4_no_sig_v2_name = \"output/rm/LLama-2-7b_crs_oasst_sft_reward_abs_bs64_weighted_avg_v2_l2_1e-5_no_sigmoid/final_checkpoint\"\n",
    "# abs_adapter5_no_sig_v3_oversampled =\"output/rm/LLama-2-7b_crs_oasst_sft_reward_abs_bs64_weighted_avg_v3_no_sigmoid_oversampled/final_checkpoint\"\n",
    "# abs_adapter5_no_sig_v3_d02 =\"output/rm/LLama-2-7b_crs_oasst_sft_reward_abs_bs64_weighted_avg_v3_no_sigmoid_wgt_loss_115_d_0.2/final_checkpoint\"\n",
    "\n",
    "# # abs_adapter = \"output/rm/LLama-2-7b_crs_oasst_sft_reward_abs_test_replication/final_checkpoint\"\n",
    "# ranking_adapter_name= \"output/rm/LLama-2-7b_crs_oasst_sft_reward_ranking_bs16/final_checkpoint\"\n",
    "# ranking_adapter_name2 = \"output/rm/LLama-2-7b_crs_oasst_sft_reward_ranking_bs16_top_1/final_checkpoint\"\n",
    "\n",
    "\n",
    "# abs_mean = \"output/rm/LLama-2-7b_crs_oasst_sft_reward_abs_bs64_mean_oversampled/final_checkpoint\"\n",
    "# abs_v2_wgt = \"output/rm/LLama-2-7b_crs_oasst_sft_reward_abs_bs64_v2_wgt_oversampled/final_checkpoint\"\n",
    "# abs_v3_wgt = \"output/rm/LLama-2-7b_crs_oasst_sft_reward_abs_bs64_v3_wgt_oversampled/final_checkpoint\"\n",
    "# abs_only_quality = \"output/rm/LLama-2-7b_crs_oasst_sft_reward_abs_bs64_only_quality_oversampled/final_checkpoint\"\n",
    "# rank_top_1 = \"output/rm/LLama-2-7b_crs_oasst_sft_reward_ranking_bs16_top_1/final_checkpoint\"\n",
    "# abs_v32_wgt_loss = \"output/rm/LLama-2-7b_crs_oasst_sft_reward_abs_bs64_v32_wgt_oversampled_wgt_loss_0.75_capacity/final_checkpoint\"\n",
    "# abs_v32_wgt = \"output/rm/LLama-2-7b_crs_oasst_sft_reward_abs_bs64_v32_wgt_oversampled/final_checkpoint\"\n",
    "# abs_v32_wgt_ep1 = \"output/rm/LLama-2-7b_crs_oasst_sft_reward_abs_bs_64_ep_1/final_checkpoint\"\n",
    "\n",
    "abs_adapter_name = \"output/rm/LLama-2-7b_crs_oasst_sft_reward_abs_bs_64_ep_1/final_checkpoint\"\n",
    "abs_adapter_name2 = \"output/rm/LLama-2-7b_crs_oasst_sft_reward_abs_bs_128_ep_1_logistic/final_checkpoint\"\n",
    "abs_adapter_name3 = \"output/rm/LLama-2-7b_crs_oasst_sft_reward_abs_bs_128_ep_1_logistic_wgt_loss/final_checkpoint\"\n",
    "\n",
    "ranking_adapter_name = \"output/rm/LLama-2-7b_crs_oasst_sft_reward_ranking_bs16_top_1/final_checkpoint\"\n",
    "ranking_adapter_name2 = \"output/rm/LLama-2-7b_crs_oasst_sft_reward_ranking_bs_64_ep_1/final_checkpoint\"\n",
    "\n",
    "# Since reward models are trained using the same base model, we should use same model\n",
    "base_reward_model = transformers.AutoModelForSequenceClassification.from_pretrained(\n",
    "        model_name, num_labels=1,**model_args\n",
    "    )\n",
    "tokenizer = transformers.AutoTokenizer.from_pretrained(model_name, cache_dir='cache')\n",
    "\n",
    "\n",
    "base_reward_model = PeftModel.from_pretrained(\n",
    "    base_reward_model,\n",
    "    ranking_adapter_name2,\n",
    "    adapter_name=\"rank_ep1\",\n",
    "    is_trainable=False\n",
    "    )\n",
    "# base_reward_model.load_adapter(ranking_adapter_name2,adapter_name=\"rank_ep1\",is_trainable=False)\n",
    "\n",
    "# base_reward_model.load_adapter(abs_adapter_name,adapter_name=\"abs\",is_trainable=False)\n",
    "base_reward_model.load_adapter(abs_adapter_name2,adapter_name=\"abs_logistic\",is_trainable=False)\n",
    "# base_reward_model.load_adapter(abs_adapter_name3,adapter_name=\"abs_logistic_wgt\",is_trainable=False)\n",
    "\n",
    "# base_reward_model.load_adapter(abs_v2_wgt,adapter_name=\"abs_v2_wgt\",is_trainable=False)\n",
    "# base_reward_model.load_adapter(abs_v3_wgt,adapter_name=\"abs_v3_wgt\",is_trainable=False)\n",
    "# base_reward_model.load_adapter(abs_only_quality,adapter_name=\"abs_only_quality\",is_trainable=False)\n",
    "# base_reward_model.load_adapter(rank_top_1,adapter_name=\"rank_top_1\",is_trainable=False)\n",
    "# base_reward_model.load_adapter(abs_v32_wgt_loss,adapter_name=\"abs_v32_wgt_loss\",is_trainable=False)\n",
    "# base_reward_model.load_adapter(abs_v32_wgt,adapter_name=\"abs_v32_wgt\",is_trainable=False)\n",
    "# base_reward_model.load_adapter(abs_v32_wgt_ep1,adapter_name=\"abs_v32_wgt_ep1\",is_trainable=False)"
   ]
  },
  {
   "cell_type": "code",
   "execution_count": 2,
   "metadata": {},
   "outputs": [
    {
     "data": {
      "text/plain": [
       "PeftModelForSequenceClassification(\n",
       "  (base_model): LoraModel(\n",
       "    (model): LlamaForSequenceClassification(\n",
       "      (model): LlamaModel(\n",
       "        (embed_tokens): Embedding(32016, 4096, padding_idx=0)\n",
       "        (layers): ModuleList(\n",
       "          (0-31): 32 x LlamaDecoderLayer(\n",
       "            (self_attn): LlamaAttention(\n",
       "              (q_proj): Linear(\n",
       "                in_features=4096, out_features=4096, bias=False\n",
       "                (lora_dropout): ModuleDict(\n",
       "                  (rank_ep1): Dropout(p=0.1, inplace=False)\n",
       "                  (abs_logistic): Dropout(p=0.1, inplace=False)\n",
       "                )\n",
       "                (lora_A): ModuleDict(\n",
       "                  (rank_ep1): Linear(in_features=4096, out_features=64, bias=False)\n",
       "                  (abs_logistic): Linear(in_features=4096, out_features=64, bias=False)\n",
       "                )\n",
       "                (lora_B): ModuleDict(\n",
       "                  (rank_ep1): Linear(in_features=64, out_features=4096, bias=False)\n",
       "                  (abs_logistic): Linear(in_features=64, out_features=4096, bias=False)\n",
       "                )\n",
       "                (lora_embedding_A): ParameterDict()\n",
       "                (lora_embedding_B): ParameterDict()\n",
       "              )\n",
       "              (k_proj): Linear(\n",
       "                in_features=4096, out_features=4096, bias=False\n",
       "                (lora_dropout): ModuleDict(\n",
       "                  (rank_ep1): Dropout(p=0.1, inplace=False)\n",
       "                  (abs_logistic): Dropout(p=0.1, inplace=False)\n",
       "                )\n",
       "                (lora_A): ModuleDict(\n",
       "                  (rank_ep1): Linear(in_features=4096, out_features=64, bias=False)\n",
       "                  (abs_logistic): Linear(in_features=4096, out_features=64, bias=False)\n",
       "                )\n",
       "                (lora_B): ModuleDict(\n",
       "                  (rank_ep1): Linear(in_features=64, out_features=4096, bias=False)\n",
       "                  (abs_logistic): Linear(in_features=64, out_features=4096, bias=False)\n",
       "                )\n",
       "                (lora_embedding_A): ParameterDict()\n",
       "                (lora_embedding_B): ParameterDict()\n",
       "              )\n",
       "              (v_proj): Linear(\n",
       "                in_features=4096, out_features=4096, bias=False\n",
       "                (lora_dropout): ModuleDict(\n",
       "                  (rank_ep1): Dropout(p=0.1, inplace=False)\n",
       "                  (abs_logistic): Dropout(p=0.1, inplace=False)\n",
       "                )\n",
       "                (lora_A): ModuleDict(\n",
       "                  (rank_ep1): Linear(in_features=4096, out_features=64, bias=False)\n",
       "                  (abs_logistic): Linear(in_features=4096, out_features=64, bias=False)\n",
       "                )\n",
       "                (lora_B): ModuleDict(\n",
       "                  (rank_ep1): Linear(in_features=64, out_features=4096, bias=False)\n",
       "                  (abs_logistic): Linear(in_features=64, out_features=4096, bias=False)\n",
       "                )\n",
       "                (lora_embedding_A): ParameterDict()\n",
       "                (lora_embedding_B): ParameterDict()\n",
       "              )\n",
       "              (o_proj): Linear(\n",
       "                in_features=4096, out_features=4096, bias=False\n",
       "                (lora_dropout): ModuleDict(\n",
       "                  (rank_ep1): Dropout(p=0.1, inplace=False)\n",
       "                  (abs_logistic): Dropout(p=0.1, inplace=False)\n",
       "                )\n",
       "                (lora_A): ModuleDict(\n",
       "                  (rank_ep1): Linear(in_features=4096, out_features=64, bias=False)\n",
       "                  (abs_logistic): Linear(in_features=4096, out_features=64, bias=False)\n",
       "                )\n",
       "                (lora_B): ModuleDict(\n",
       "                  (rank_ep1): Linear(in_features=64, out_features=4096, bias=False)\n",
       "                  (abs_logistic): Linear(in_features=64, out_features=4096, bias=False)\n",
       "                )\n",
       "                (lora_embedding_A): ParameterDict()\n",
       "                (lora_embedding_B): ParameterDict()\n",
       "              )\n",
       "              (rotary_emb): LlamaRotaryEmbedding()\n",
       "            )\n",
       "            (mlp): LlamaMLP(\n",
       "              (gate_proj): Linear(\n",
       "                in_features=4096, out_features=11008, bias=False\n",
       "                (lora_dropout): ModuleDict(\n",
       "                  (rank_ep1): Dropout(p=0.1, inplace=False)\n",
       "                  (abs_logistic): Dropout(p=0.1, inplace=False)\n",
       "                )\n",
       "                (lora_A): ModuleDict(\n",
       "                  (rank_ep1): Linear(in_features=4096, out_features=64, bias=False)\n",
       "                  (abs_logistic): Linear(in_features=4096, out_features=64, bias=False)\n",
       "                )\n",
       "                (lora_B): ModuleDict(\n",
       "                  (rank_ep1): Linear(in_features=64, out_features=11008, bias=False)\n",
       "                  (abs_logistic): Linear(in_features=64, out_features=11008, bias=False)\n",
       "                )\n",
       "                (lora_embedding_A): ParameterDict()\n",
       "                (lora_embedding_B): ParameterDict()\n",
       "              )\n",
       "              (up_proj): Linear(\n",
       "                in_features=4096, out_features=11008, bias=False\n",
       "                (lora_dropout): ModuleDict(\n",
       "                  (rank_ep1): Dropout(p=0.1, inplace=False)\n",
       "                  (abs_logistic): Dropout(p=0.1, inplace=False)\n",
       "                )\n",
       "                (lora_A): ModuleDict(\n",
       "                  (rank_ep1): Linear(in_features=4096, out_features=64, bias=False)\n",
       "                  (abs_logistic): Linear(in_features=4096, out_features=64, bias=False)\n",
       "                )\n",
       "                (lora_B): ModuleDict(\n",
       "                  (rank_ep1): Linear(in_features=64, out_features=11008, bias=False)\n",
       "                  (abs_logistic): Linear(in_features=64, out_features=11008, bias=False)\n",
       "                )\n",
       "                (lora_embedding_A): ParameterDict()\n",
       "                (lora_embedding_B): ParameterDict()\n",
       "              )\n",
       "              (down_proj): Linear(\n",
       "                in_features=11008, out_features=4096, bias=False\n",
       "                (lora_dropout): ModuleDict(\n",
       "                  (rank_ep1): Dropout(p=0.1, inplace=False)\n",
       "                  (abs_logistic): Dropout(p=0.1, inplace=False)\n",
       "                )\n",
       "                (lora_A): ModuleDict(\n",
       "                  (rank_ep1): Linear(in_features=11008, out_features=64, bias=False)\n",
       "                  (abs_logistic): Linear(in_features=11008, out_features=64, bias=False)\n",
       "                )\n",
       "                (lora_B): ModuleDict(\n",
       "                  (rank_ep1): Linear(in_features=64, out_features=4096, bias=False)\n",
       "                  (abs_logistic): Linear(in_features=64, out_features=4096, bias=False)\n",
       "                )\n",
       "                (lora_embedding_A): ParameterDict()\n",
       "                (lora_embedding_B): ParameterDict()\n",
       "              )\n",
       "              (act_fn): SiLUActivation()\n",
       "            )\n",
       "            (input_layernorm): LlamaRMSNorm()\n",
       "            (post_attention_layernorm): LlamaRMSNorm()\n",
       "          )\n",
       "        )\n",
       "        (norm): LlamaRMSNorm()\n",
       "      )\n",
       "      (score): ModulesToSaveWrapper(\n",
       "        (original_module): Linear(in_features=4096, out_features=1, bias=False)\n",
       "        (modules_to_save): ModuleDict(\n",
       "          (rank_ep1): Linear(in_features=4096, out_features=1, bias=False)\n",
       "          (abs_logistic): Linear(in_features=4096, out_features=1, bias=False)\n",
       "        )\n",
       "      )\n",
       "    )\n",
       "  )\n",
       ")"
      ]
     },
     "execution_count": 2,
     "metadata": {},
     "output_type": "execute_result"
    }
   ],
   "source": [
    "base_reward_model"
   ]
  },
  {
   "cell_type": "code",
   "execution_count": 3,
   "metadata": {},
   "outputs": [],
   "source": [
    "from training_datasets.collators import AbsoluteScoreDataCollator, RankingDataCollator\n",
    "\n",
    "\n",
    "abs_collate_fn = AbsoluteScoreDataCollator(\n",
    "    tokenizer,\n",
    "    max_length=2048,\n",
    "    pad_to_multiple_of=16,\n",
    ")\n",
    "\n",
    "ranking_collate_fn = RankingDataCollator(\n",
    "    tokenizer,\n",
    "    max_length=2048,\n",
    "    pad_to_multiple_of=16,\n",
    "    max_replies=4#config_ranking.max_replies\n",
    ")\n",
    "\n",
    "# eval_abs,eval_ranking"
   ]
  },
  {
   "cell_type": "code",
   "execution_count": 8,
   "metadata": {},
   "outputs": [
    {
     "data": {
      "text/plain": [
       "'abs_logistic'"
      ]
     },
     "execution_count": 8,
     "metadata": {},
     "output_type": "execute_result"
    }
   ],
   "source": [
    "base_reward_model.active_adapter\n"
   ]
  },
  {
   "cell_type": "code",
   "execution_count": 24,
   "metadata": {},
   "outputs": [],
   "source": [
    "data = eval_abs[\"oasst_export_abs\"]\n",
    "\n",
    "l_50 = []\n",
    "p_50 = []\n",
    "\n",
    "l = []\n",
    "p = []\n",
    "\n",
    "base_reward_model.set_adapter(\"abs_logistic\")\n",
    "for d in data:\n",
    "    inputs = abs_collate_fn([d])\n",
    "    labels = inputs.pop(\"labels\")\n",
    "    inputs = inputs.to(base_reward_model.device)\n",
    "    logits = base_reward_model(input_ids=inputs[\"input_ids\"],\n",
    "                attention_mask=inputs[\"attention_mask\"],\n",
    "                use_cache=False,\n",
    "                ).logits\n",
    "    if labels <= 0.4:\n",
    "        l_50.append(labels)\n",
    "        p_50.append(logits[0])\n",
    "    else:\n",
    "        l.append(labels)\n",
    "        p.append(logits[0])\n"
   ]
  },
  {
   "cell_type": "code",
   "execution_count": 33,
   "metadata": {},
   "outputs": [
    {
     "data": {
      "text/plain": [
       "(tensor([0.1000, 0.3875, 0.1594, 0.2708, 0.3083, 0.3458], dtype=torch.float64),\n",
       " tensor([-1.1328, -0.1260, -1.4531, -1.0703, -0.5039, -1.6328],\n",
       "        dtype=torch.bfloat16),\n",
       " tensor([0.2432, 0.4688, 0.1895, 0.2559, 0.3770, 0.1631], dtype=torch.bfloat16))"
      ]
     },
     "execution_count": 33,
     "metadata": {},
     "output_type": "execute_result"
    }
   ],
   "source": [
    "sigmoid = torch.nn.Sigmoid()\n",
    "\n",
    "l_50[54:60], p_50[54:60],sigmoid(p_50[54:60])"
   ]
  },
  {
   "cell_type": "code",
   "execution_count": 25,
   "metadata": {},
   "outputs": [],
   "source": [
    "sigmoid = torch.nn.Sigmoid()\n",
    "\n",
    "from sklearn.metrics import mean_squared_error, mean_absolute_error\n",
    "\n",
    "def abs_reward_metrics(predictions,labels):\n",
    "    predictions = sigmoid(predictions)\n",
    "    predictions = [p.float() if p.dtype == torch.bfloat16 else p for p in predictions]\n",
    "    labels = [l.float() if l.dtype == torch.bfloat16 else l for l in labels]\n",
    "\n",
    "\n",
    "    return {\n",
    "        'mse': mean_squared_error(labels, predictions),\n",
    "        'mae': mean_absolute_error(labels, predictions)\n",
    "    }\n"
   ]
  },
  {
   "cell_type": "code",
   "execution_count": 34,
   "metadata": {},
   "outputs": [
    {
     "name": "stdout",
     "output_type": "stream",
     "text": [
      "{'mse': 0.025611386407787512, 'mae': 0.12173174989692846}\n",
      "{'mse': 0.05307156072948854, 'mae': 0.1999579205688052}\n"
     ]
    },
    {
     "name": "stderr",
     "output_type": "stream",
     "text": [
      "/tmp/ipykernel_1344905/2652289913.py:2: UserWarning: To copy construct from a tensor, it is recommended to use sourceTensor.clone().detach() or sourceTensor.clone().detach().requires_grad_(True), rather than torch.tensor(sourceTensor).\n",
      "  l_50 = torch.tensor(l_50)\n",
      "/tmp/ipykernel_1344905/2652289913.py:3: UserWarning: To copy construct from a tensor, it is recommended to use sourceTensor.clone().detach() or sourceTensor.clone().detach().requires_grad_(True), rather than torch.tensor(sourceTensor).\n",
      "  p_50 = torch.tensor(p_50)\n",
      "/tmp/ipykernel_1344905/2652289913.py:6: UserWarning: To copy construct from a tensor, it is recommended to use sourceTensor.clone().detach() or sourceTensor.clone().detach().requires_grad_(True), rather than torch.tensor(sourceTensor).\n",
      "  l = torch.tensor(l)\n",
      "/tmp/ipykernel_1344905/2652289913.py:7: UserWarning: To copy construct from a tensor, it is recommended to use sourceTensor.clone().detach() or sourceTensor.clone().detach().requires_grad_(True), rather than torch.tensor(sourceTensor).\n",
      "  p = torch.tensor(p)\n"
     ]
    }
   ],
   "source": [
    "import torch\n",
    "l_50 = torch.tensor(l_50)\n",
    "p_50 = torch.tensor(p_50)\n",
    "\n",
    "\n",
    "l = torch.tensor(l)\n",
    "p = torch.tensor(p)\n",
    "\n",
    "print(abs_reward_metrics(p_50,l_50))\n",
    "print(abs_reward_metrics(p,l))\n",
    "\n",
    "## from for bit logitstic sigmoid + wgt loss\n",
    "# {'mse': 0.04753870369349233, 'mae': 0.17926979778653887}\n",
    "# {'mse': 0.027010542591441575, 'mae': 0.13228511980761412}\n",
    "\n",
    "## from 4 bit logistic sigmoid\n",
    "# {'mse': 0.05205766017335934, 'mae': 0.19300111204519685}\n",
    "#  {'mse': 0.02084478758192499, 'mae': 0.11781447598714637}"
   ]
  },
  {
   "cell_type": "code",
   "execution_count": 35,
   "metadata": {},
   "outputs": [
    {
     "name": "stdout",
     "output_type": "stream",
     "text": [
      "0\n",
      "0\n"
     ]
    },
    {
     "data": {
      "text/plain": [
       "(385, 1493)"
      ]
     },
     "execution_count": 35,
     "metadata": {},
     "output_type": "execute_result"
    }
   ],
   "source": [
    "\n",
    "sigmoid = torch.nn.Sigmoid()\n",
    "\n",
    "\n",
    "def get_count(label,pred):\n",
    "    pred = sigmoid(pred)\n",
    "    c = 0\n",
    "    for l,p in zip(label,pred):\n",
    "        # p = sigmoid(p)\n",
    "        if p < 0 or p > 1:\n",
    "            # print(p,l)\n",
    "            c +=1\n",
    "    print(c)\n",
    "\n",
    "get_count(l_50,p_50),get_count(l,p)\n",
    "\n",
    "len(p_50), len(p)"
   ]
  },
  {
   "cell_type": "code",
   "execution_count": 36,
   "metadata": {},
   "outputs": [
    {
     "name": "stderr",
     "output_type": "stream",
     "text": [
      "/home/alikhan/miniconda3/envs/torch_p310_ppo/lib/python3.10/site-packages/transformers/tokenization_utils_base.py:2632: UserWarning: `max_length` is ignored when `padding`=`True` and there is no truncation strategy. To pad to max length, use `padding='max_length'`.\n",
      "  warnings.warn(\n"
     ]
    },
    {
     "name": "stdout",
     "output_type": "stream",
     "text": [
      "label:tensor([0.6333], dtype=torch.float64)\n",
      "******************************\n",
      "<s><|prompter|> Could you help\n",
      "====================rank_ep1\n",
      "sigmoid: tensor([0.5469], device='cuda:1', dtype=torch.bfloat16),original: tensor([0.1816], device='cuda:1', dtype=torch.bfloat16)\n",
      "==============================\n",
      "====================abs_logistic\n",
      "sigmoid: tensor([0.3965], device='cuda:1', dtype=torch.bfloat16),original: tensor([-0.4180], device='cuda:1', dtype=torch.bfloat16)\n",
      "==============================\n"
     ]
    }
   ],
   "source": [
    "def get_reward(inputs,adapter_name):\n",
    "        base_reward_model.eval()\n",
    "        print(f\"{'=='*10}{adapter_name}\")\n",
    "        base_reward_model.set_adapter(adapter_name)\n",
    "        logits = base_reward_model(input_ids=inputs[\"input_ids\"],\n",
    "                attention_mask=inputs[\"attention_mask\"],\n",
    "                use_cache=False,\n",
    "                ).logits\n",
    "        s = sigmoid(logits)\n",
    "        for idx in range(logits.shape[0]):\n",
    "                print(f'sigmoid: {s[idx]},original: {logits[idx]}')\n",
    "        print('==='*10)\n",
    "\n",
    "idx = 55\n",
    "\n",
    "data = eval_abs[\"oasst_export_abs\"][idx]\n",
    "inputs = abs_collate_fn([data])\n",
    "labels = inputs.pop(\"labels\")\n",
    "print(f'label:{labels}')\n",
    "\n",
    "sigmoid = torch.nn.Sigmoid()\n",
    "\n",
    "# data = [[\"Hi how are you?\"],[\"I am good you piece of shit\",\"Giberish, Giberish saying Giberish, tell Giberish is not Giberish. Why are Giberish you Giberish\",\"I am good\",\"I am good, how are you doing? Please tell me how can I help you? \"]] \n",
    "\n",
    "# ====================rank_ep1\n",
    "# sigmoid: tensor([0.0850], dtype=torch.bfloat16),original: tensor([-2.3750], dtype=torch.bfloat16)\n",
    "# sigmoid: tensor([0.0396], dtype=torch.bfloat16),original: tensor([-3.1875], dtype=torch.bfloat16)\n",
    "# sigmoid: tensor([0.1396], dtype=torch.bfloat16),original: tensor([-1.8203], dtype=torch.bfloat16)\n",
    "# sigmoid: tensor([0.3535], dtype=torch.bfloat16),original: tensor([-0.6055], dtype=torch.bfloat16)\n",
    "# ==============================\n",
    "# ====================abs_logistic\n",
    "# sigmoid: tensor([0.2715], dtype=torch.bfloat16),original: tensor([-0.9844], dtype=torch.bfloat16)\n",
    "# sigmoid: tensor([0.2637], dtype=torch.bfloat16),original: tensor([-1.0234], dtype=torch.bfloat16)\n",
    "# sigmoid: tensor([0.3555], dtype=torch.bfloat16),original: tensor([-0.5977], dtype=torch.bfloat16)\n",
    "# sigmoid: tensor([0.4980], dtype=torch.bfloat16),original: tensor([-0.0040], dtype=torch.bfloat16)\n",
    "\n",
    "# data = eval_ranking[\"oasst_export\"][idx]\n",
    "# inputs, _ = ranking_collate_fn([data])\n",
    "inputs = inputs.to(base_reward_model.device)\n",
    "# print(inputs)\n",
    "print('***'*10)\n",
    "for d in tokenizer.batch_decode(inputs.input_ids):\n",
    "        print(f'{d[:30]}')\n",
    "\n",
    "for adp_name in [\"rank_ep1\",\"abs_logistic\"]:\n",
    "    get_reward(inputs,adp_name)   \n"
   ]
  },
  {
   "cell_type": "code",
   "execution_count": 40,
   "metadata": {},
   "outputs": [
    {
     "name": "stdout",
     "output_type": "stream",
     "text": [
      "<s><|prompter|> Could you help me solve a physics problem? An axis of length L and mass M is balanced on the side of the table at its center of gravity. A ball with a relative height h is dropped onto its most protruding end. What is the speed of the ball immediately after impact?</s><s><|assistant|> Sure! Given the brief question I will simplify the calculation by assuming that there is no energy conversion from sources like heat dissipation, friction or noise. With that we can assume that the ball and the axis perform an elastic collision since both can move freely with the added complication that the axis is balanced on the table.\n",
      "\n",
      "First we need to calculate the balls velocity at the time of impact (v1):\n",
      "\n",
      "g = earth gravity 9.81m/s^2\n",
      "v1 = sqrt(2*g*h)\n",
      "\n",
      "Since the axis is balanced at the table edge it acts like a class 1 lever potentially resulting in a mechanical advantage.\n",
      "Due to the balance in the center the mechanical advantage of that lever is 1 since both sides are equally long.\n",
      "With an advantage of one we can just ignore the levering action and calculate a fully elastic collision.\n",
      "\n",
      "v2 being the velocity after impact\n",
      "mb being the mass of the ball\n",
      "ma being the mass of the axis\n",
      "\n",
      "v2 = (mb - ma) / (mb + ma) * v1\n",
      "\n",
      "combined with the first equation the result is:\n",
      "\n",
      "v = (mb - ma) / (mb + ma) * sqrt(2 * g * h)</s></s></s></s></s></s></s></s></s></s></s></s></s></s></s>\n",
      "====================rank_ep1\n",
      "sigmoid: tensor([0.5469], device='cuda:1', dtype=torch.bfloat16),original: tensor([0.1816], device='cuda:1', dtype=torch.bfloat16)\n",
      "==============================\n",
      "====================abs_logistic\n",
      "sigmoid: tensor([0.3965], device='cuda:1', dtype=torch.bfloat16),original: tensor([-0.4180], device='cuda:1', dtype=torch.bfloat16)\n",
      "==============================\n"
     ]
    },
    {
     "ename": "",
     "evalue": "",
     "output_type": "error",
     "traceback": [
      "\u001b[1;31mThe Kernel crashed while executing code in the the current cell or a previous cell. Please review the code in the cell(s) to identify a possible cause of the failure. Click <a href='https://aka.ms/vscodeJupyterKernelCrash'>here</a> for more info. View Jupyter <a href='command:jupyter.viewOutput'>log</a> for further details."
     ]
    }
   ],
   "source": [
    "\n",
    "# ====================rank_ep1\n",
    "# sigmoid: tensor([0.5469], device='cuda:1', dtype=torch.bfloat16),original: tensor([0.1816], device='cuda:1', dtype=torch.bfloat16)\n",
    "# ==============================\n",
    "# ====================abs_logistic\n",
    "# sigmoid: tensor([0.3965], device='cuda:1', dtype=torch.bfloat16),original: tensor([-0.4180], device='cuda:1', dtype=torch.bfloat16)\n",
    "# ==============================\n",
    "\n",
    "# ====================rank_ep1\n",
    "# sigmoid: tensor([0.5391], device='cuda:1', dtype=torch.bfloat16),original: tensor([0.1494], device='cuda:1', dtype=torch.bfloat16)\n",
    "# sigmoid: tensor([0.0216], device='cuda:1', dtype=torch.bfloat16),original: tensor([-3.8125], device='cuda:1', dtype=torch.bfloat16)\n",
    "# sigmoid: tensor([0.0542], device='cuda:1', dtype=torch.bfloat16),original: tensor([-2.8594], device='cuda:1', dtype=torch.bfloat16)\n",
    "# ==============================\n",
    "# ====================abs_logistic\n",
    "# sigmoid: tensor([0.3984], device='cuda:1', dtype=torch.bfloat16),original: tensor([-0.4141], device='cuda:1', dtype=torch.bfloat16)\n",
    "# sigmoid: tensor([0.1572], device='cuda:1', dtype=torch.bfloat16),original: tensor([-1.6797], device='cuda:1', dtype=torch.bfloat16)\n",
    "# sigmoid: tensor([0.1582], device='cuda:1', dtype=torch.bfloat16),original: tensor([-1.6719], device='cuda:1', dtype=torch.bfloat16)\n",
    "# ==============================\n",
    "\n",
    "\n",
    "d = [['Hi how are you?'],'I am good you piece of shit',0]\n",
    "d2 = [['Hi how are you?'],\"Giberish, Giberish saying Giberish, tell Giberish is not Giberish. Why are Giberish you Giberish\",0]\n",
    "\n",
    "inputs = abs_collate_fn([data])#,d2,d])\n",
    "\n",
    "# inputs = tokenizer([\"<|prompter|>Hi how are you?</s><s><|assistant|>I am good you piece of shit</s>\"],return_tensors=\"pt\")\n",
    "\n",
    "# print(inputs)\n",
    "# print(inputs.attention_mask.sum())\n",
    "inputs = inputs.to(base_reward_model.device)\n",
    "print(tokenizer.batch_decode(inputs.input_ids)[0])\n",
    "for adp_name in [\"rank_ep1\",\"abs_logistic\"]:\n",
    "    get_reward(inputs,adp_name)   "
   ]
  },
  {
   "cell_type": "markdown",
   "metadata": {},
   "source": [
    "## SFT\n"
   ]
  },
  {
   "cell_type": "code",
   "execution_count": 2,
   "metadata": {},
   "outputs": [
    {
     "data": {
      "application/vnd.jupyter.widget-view+json": {
       "model_id": "e1592b8a2a4643d5b59c7cc0dfdbd189",
       "version_major": 2,
       "version_minor": 0
      },
      "text/plain": [
       "Loading checkpoint shards:   0%|          | 0/2 [00:00<?, ?it/s]"
      ]
     },
     "metadata": {},
     "output_type": "display_data"
    },
    {
     "name": "stderr",
     "output_type": "stream",
     "text": [
      "Special tokens have been added in the vocabulary, make sure the associated word embeddings are fine-tuned or trained.\n"
     ]
    },
    {
     "name": "stdout",
     "output_type": "stream",
     "text": [
      "tokenizer size 32003\n",
      "Resizing embeddings to 32016\n"
     ]
    },
    {
     "data": {
      "text/plain": [
       "_IncompatibleKeys(missing_keys=['base_model.model.model.embed_tokens.original_module.weight', 'base_model.model.model.embed_tokens.modules_to_save.ep2.weight', 'base_model.model.model.layers.0.self_attn.q_proj.weight', 'base_model.model.model.layers.0.self_attn.q_proj.lora_A.ep2.weight', 'base_model.model.model.layers.0.self_attn.q_proj.lora_B.ep2.weight', 'base_model.model.model.layers.0.self_attn.k_proj.weight', 'base_model.model.model.layers.0.self_attn.k_proj.lora_A.ep2.weight', 'base_model.model.model.layers.0.self_attn.k_proj.lora_B.ep2.weight', 'base_model.model.model.layers.0.self_attn.v_proj.weight', 'base_model.model.model.layers.0.self_attn.v_proj.lora_A.ep2.weight', 'base_model.model.model.layers.0.self_attn.v_proj.lora_B.ep2.weight', 'base_model.model.model.layers.0.self_attn.o_proj.weight', 'base_model.model.model.layers.0.self_attn.o_proj.lora_A.ep2.weight', 'base_model.model.model.layers.0.self_attn.o_proj.lora_B.ep2.weight', 'base_model.model.model.layers.0.mlp.gate_proj.weight', 'base_model.model.model.layers.0.mlp.gate_proj.lora_A.ep2.weight', 'base_model.model.model.layers.0.mlp.gate_proj.lora_B.ep2.weight', 'base_model.model.model.layers.0.mlp.up_proj.weight', 'base_model.model.model.layers.0.mlp.up_proj.lora_A.ep2.weight', 'base_model.model.model.layers.0.mlp.up_proj.lora_B.ep2.weight', 'base_model.model.model.layers.0.mlp.down_proj.weight', 'base_model.model.model.layers.0.mlp.down_proj.lora_A.ep2.weight', 'base_model.model.model.layers.0.mlp.down_proj.lora_B.ep2.weight', 'base_model.model.model.layers.0.input_layernorm.weight', 'base_model.model.model.layers.0.post_attention_layernorm.weight', 'base_model.model.model.layers.1.self_attn.q_proj.weight', 'base_model.model.model.layers.1.self_attn.q_proj.lora_A.ep2.weight', 'base_model.model.model.layers.1.self_attn.q_proj.lora_B.ep2.weight', 'base_model.model.model.layers.1.self_attn.k_proj.weight', 'base_model.model.model.layers.1.self_attn.k_proj.lora_A.ep2.weight', 'base_model.model.model.layers.1.self_attn.k_proj.lora_B.ep2.weight', 'base_model.model.model.layers.1.self_attn.v_proj.weight', 'base_model.model.model.layers.1.self_attn.v_proj.lora_A.ep2.weight', 'base_model.model.model.layers.1.self_attn.v_proj.lora_B.ep2.weight', 'base_model.model.model.layers.1.self_attn.o_proj.weight', 'base_model.model.model.layers.1.self_attn.o_proj.lora_A.ep2.weight', 'base_model.model.model.layers.1.self_attn.o_proj.lora_B.ep2.weight', 'base_model.model.model.layers.1.mlp.gate_proj.weight', 'base_model.model.model.layers.1.mlp.gate_proj.lora_A.ep2.weight', 'base_model.model.model.layers.1.mlp.gate_proj.lora_B.ep2.weight', 'base_model.model.model.layers.1.mlp.up_proj.weight', 'base_model.model.model.layers.1.mlp.up_proj.lora_A.ep2.weight', 'base_model.model.model.layers.1.mlp.up_proj.lora_B.ep2.weight', 'base_model.model.model.layers.1.mlp.down_proj.weight', 'base_model.model.model.layers.1.mlp.down_proj.lora_A.ep2.weight', 'base_model.model.model.layers.1.mlp.down_proj.lora_B.ep2.weight', 'base_model.model.model.layers.1.input_layernorm.weight', 'base_model.model.model.layers.1.post_attention_layernorm.weight', 'base_model.model.model.layers.2.self_attn.q_proj.weight', 'base_model.model.model.layers.2.self_attn.q_proj.lora_A.ep2.weight', 'base_model.model.model.layers.2.self_attn.q_proj.lora_B.ep2.weight', 'base_model.model.model.layers.2.self_attn.k_proj.weight', 'base_model.model.model.layers.2.self_attn.k_proj.lora_A.ep2.weight', 'base_model.model.model.layers.2.self_attn.k_proj.lora_B.ep2.weight', 'base_model.model.model.layers.2.self_attn.v_proj.weight', 'base_model.model.model.layers.2.self_attn.v_proj.lora_A.ep2.weight', 'base_model.model.model.layers.2.self_attn.v_proj.lora_B.ep2.weight', 'base_model.model.model.layers.2.self_attn.o_proj.weight', 'base_model.model.model.layers.2.self_attn.o_proj.lora_A.ep2.weight', 'base_model.model.model.layers.2.self_attn.o_proj.lora_B.ep2.weight', 'base_model.model.model.layers.2.mlp.gate_proj.weight', 'base_model.model.model.layers.2.mlp.gate_proj.lora_A.ep2.weight', 'base_model.model.model.layers.2.mlp.gate_proj.lora_B.ep2.weight', 'base_model.model.model.layers.2.mlp.up_proj.weight', 'base_model.model.model.layers.2.mlp.up_proj.lora_A.ep2.weight', 'base_model.model.model.layers.2.mlp.up_proj.lora_B.ep2.weight', 'base_model.model.model.layers.2.mlp.down_proj.weight', 'base_model.model.model.layers.2.mlp.down_proj.lora_A.ep2.weight', 'base_model.model.model.layers.2.mlp.down_proj.lora_B.ep2.weight', 'base_model.model.model.layers.2.input_layernorm.weight', 'base_model.model.model.layers.2.post_attention_layernorm.weight', 'base_model.model.model.layers.3.self_attn.q_proj.weight', 'base_model.model.model.layers.3.self_attn.q_proj.lora_A.ep2.weight', 'base_model.model.model.layers.3.self_attn.q_proj.lora_B.ep2.weight', 'base_model.model.model.layers.3.self_attn.k_proj.weight', 'base_model.model.model.layers.3.self_attn.k_proj.lora_A.ep2.weight', 'base_model.model.model.layers.3.self_attn.k_proj.lora_B.ep2.weight', 'base_model.model.model.layers.3.self_attn.v_proj.weight', 'base_model.model.model.layers.3.self_attn.v_proj.lora_A.ep2.weight', 'base_model.model.model.layers.3.self_attn.v_proj.lora_B.ep2.weight', 'base_model.model.model.layers.3.self_attn.o_proj.weight', 'base_model.model.model.layers.3.self_attn.o_proj.lora_A.ep2.weight', 'base_model.model.model.layers.3.self_attn.o_proj.lora_B.ep2.weight', 'base_model.model.model.layers.3.mlp.gate_proj.weight', 'base_model.model.model.layers.3.mlp.gate_proj.lora_A.ep2.weight', 'base_model.model.model.layers.3.mlp.gate_proj.lora_B.ep2.weight', 'base_model.model.model.layers.3.mlp.up_proj.weight', 'base_model.model.model.layers.3.mlp.up_proj.lora_A.ep2.weight', 'base_model.model.model.layers.3.mlp.up_proj.lora_B.ep2.weight', 'base_model.model.model.layers.3.mlp.down_proj.weight', 'base_model.model.model.layers.3.mlp.down_proj.lora_A.ep2.weight', 'base_model.model.model.layers.3.mlp.down_proj.lora_B.ep2.weight', 'base_model.model.model.layers.3.input_layernorm.weight', 'base_model.model.model.layers.3.post_attention_layernorm.weight', 'base_model.model.model.layers.4.self_attn.q_proj.weight', 'base_model.model.model.layers.4.self_attn.q_proj.lora_A.ep2.weight', 'base_model.model.model.layers.4.self_attn.q_proj.lora_B.ep2.weight', 'base_model.model.model.layers.4.self_attn.k_proj.weight', 'base_model.model.model.layers.4.self_attn.k_proj.lora_A.ep2.weight', 'base_model.model.model.layers.4.self_attn.k_proj.lora_B.ep2.weight', 'base_model.model.model.layers.4.self_attn.v_proj.weight', 'base_model.model.model.layers.4.self_attn.v_proj.lora_A.ep2.weight', 'base_model.model.model.layers.4.self_attn.v_proj.lora_B.ep2.weight', 'base_model.model.model.layers.4.self_attn.o_proj.weight', 'base_model.model.model.layers.4.self_attn.o_proj.lora_A.ep2.weight', 'base_model.model.model.layers.4.self_attn.o_proj.lora_B.ep2.weight', 'base_model.model.model.layers.4.mlp.gate_proj.weight', 'base_model.model.model.layers.4.mlp.gate_proj.lora_A.ep2.weight', 'base_model.model.model.layers.4.mlp.gate_proj.lora_B.ep2.weight', 'base_model.model.model.layers.4.mlp.up_proj.weight', 'base_model.model.model.layers.4.mlp.up_proj.lora_A.ep2.weight', 'base_model.model.model.layers.4.mlp.up_proj.lora_B.ep2.weight', 'base_model.model.model.layers.4.mlp.down_proj.weight', 'base_model.model.model.layers.4.mlp.down_proj.lora_A.ep2.weight', 'base_model.model.model.layers.4.mlp.down_proj.lora_B.ep2.weight', 'base_model.model.model.layers.4.input_layernorm.weight', 'base_model.model.model.layers.4.post_attention_layernorm.weight', 'base_model.model.model.layers.5.self_attn.q_proj.weight', 'base_model.model.model.layers.5.self_attn.q_proj.lora_A.ep2.weight', 'base_model.model.model.layers.5.self_attn.q_proj.lora_B.ep2.weight', 'base_model.model.model.layers.5.self_attn.k_proj.weight', 'base_model.model.model.layers.5.self_attn.k_proj.lora_A.ep2.weight', 'base_model.model.model.layers.5.self_attn.k_proj.lora_B.ep2.weight', 'base_model.model.model.layers.5.self_attn.v_proj.weight', 'base_model.model.model.layers.5.self_attn.v_proj.lora_A.ep2.weight', 'base_model.model.model.layers.5.self_attn.v_proj.lora_B.ep2.weight', 'base_model.model.model.layers.5.self_attn.o_proj.weight', 'base_model.model.model.layers.5.self_attn.o_proj.lora_A.ep2.weight', 'base_model.model.model.layers.5.self_attn.o_proj.lora_B.ep2.weight', 'base_model.model.model.layers.5.mlp.gate_proj.weight', 'base_model.model.model.layers.5.mlp.gate_proj.lora_A.ep2.weight', 'base_model.model.model.layers.5.mlp.gate_proj.lora_B.ep2.weight', 'base_model.model.model.layers.5.mlp.up_proj.weight', 'base_model.model.model.layers.5.mlp.up_proj.lora_A.ep2.weight', 'base_model.model.model.layers.5.mlp.up_proj.lora_B.ep2.weight', 'base_model.model.model.layers.5.mlp.down_proj.weight', 'base_model.model.model.layers.5.mlp.down_proj.lora_A.ep2.weight', 'base_model.model.model.layers.5.mlp.down_proj.lora_B.ep2.weight', 'base_model.model.model.layers.5.input_layernorm.weight', 'base_model.model.model.layers.5.post_attention_layernorm.weight', 'base_model.model.model.layers.6.self_attn.q_proj.weight', 'base_model.model.model.layers.6.self_attn.q_proj.lora_A.ep2.weight', 'base_model.model.model.layers.6.self_attn.q_proj.lora_B.ep2.weight', 'base_model.model.model.layers.6.self_attn.k_proj.weight', 'base_model.model.model.layers.6.self_attn.k_proj.lora_A.ep2.weight', 'base_model.model.model.layers.6.self_attn.k_proj.lora_B.ep2.weight', 'base_model.model.model.layers.6.self_attn.v_proj.weight', 'base_model.model.model.layers.6.self_attn.v_proj.lora_A.ep2.weight', 'base_model.model.model.layers.6.self_attn.v_proj.lora_B.ep2.weight', 'base_model.model.model.layers.6.self_attn.o_proj.weight', 'base_model.model.model.layers.6.self_attn.o_proj.lora_A.ep2.weight', 'base_model.model.model.layers.6.self_attn.o_proj.lora_B.ep2.weight', 'base_model.model.model.layers.6.mlp.gate_proj.weight', 'base_model.model.model.layers.6.mlp.gate_proj.lora_A.ep2.weight', 'base_model.model.model.layers.6.mlp.gate_proj.lora_B.ep2.weight', 'base_model.model.model.layers.6.mlp.up_proj.weight', 'base_model.model.model.layers.6.mlp.up_proj.lora_A.ep2.weight', 'base_model.model.model.layers.6.mlp.up_proj.lora_B.ep2.weight', 'base_model.model.model.layers.6.mlp.down_proj.weight', 'base_model.model.model.layers.6.mlp.down_proj.lora_A.ep2.weight', 'base_model.model.model.layers.6.mlp.down_proj.lora_B.ep2.weight', 'base_model.model.model.layers.6.input_layernorm.weight', 'base_model.model.model.layers.6.post_attention_layernorm.weight', 'base_model.model.model.layers.7.self_attn.q_proj.weight', 'base_model.model.model.layers.7.self_attn.q_proj.lora_A.ep2.weight', 'base_model.model.model.layers.7.self_attn.q_proj.lora_B.ep2.weight', 'base_model.model.model.layers.7.self_attn.k_proj.weight', 'base_model.model.model.layers.7.self_attn.k_proj.lora_A.ep2.weight', 'base_model.model.model.layers.7.self_attn.k_proj.lora_B.ep2.weight', 'base_model.model.model.layers.7.self_attn.v_proj.weight', 'base_model.model.model.layers.7.self_attn.v_proj.lora_A.ep2.weight', 'base_model.model.model.layers.7.self_attn.v_proj.lora_B.ep2.weight', 'base_model.model.model.layers.7.self_attn.o_proj.weight', 'base_model.model.model.layers.7.self_attn.o_proj.lora_A.ep2.weight', 'base_model.model.model.layers.7.self_attn.o_proj.lora_B.ep2.weight', 'base_model.model.model.layers.7.mlp.gate_proj.weight', 'base_model.model.model.layers.7.mlp.gate_proj.lora_A.ep2.weight', 'base_model.model.model.layers.7.mlp.gate_proj.lora_B.ep2.weight', 'base_model.model.model.layers.7.mlp.up_proj.weight', 'base_model.model.model.layers.7.mlp.up_proj.lora_A.ep2.weight', 'base_model.model.model.layers.7.mlp.up_proj.lora_B.ep2.weight', 'base_model.model.model.layers.7.mlp.down_proj.weight', 'base_model.model.model.layers.7.mlp.down_proj.lora_A.ep2.weight', 'base_model.model.model.layers.7.mlp.down_proj.lora_B.ep2.weight', 'base_model.model.model.layers.7.input_layernorm.weight', 'base_model.model.model.layers.7.post_attention_layernorm.weight', 'base_model.model.model.layers.8.self_attn.q_proj.weight', 'base_model.model.model.layers.8.self_attn.q_proj.lora_A.ep2.weight', 'base_model.model.model.layers.8.self_attn.q_proj.lora_B.ep2.weight', 'base_model.model.model.layers.8.self_attn.k_proj.weight', 'base_model.model.model.layers.8.self_attn.k_proj.lora_A.ep2.weight', 'base_model.model.model.layers.8.self_attn.k_proj.lora_B.ep2.weight', 'base_model.model.model.layers.8.self_attn.v_proj.weight', 'base_model.model.model.layers.8.self_attn.v_proj.lora_A.ep2.weight', 'base_model.model.model.layers.8.self_attn.v_proj.lora_B.ep2.weight', 'base_model.model.model.layers.8.self_attn.o_proj.weight', 'base_model.model.model.layers.8.self_attn.o_proj.lora_A.ep2.weight', 'base_model.model.model.layers.8.self_attn.o_proj.lora_B.ep2.weight', 'base_model.model.model.layers.8.mlp.gate_proj.weight', 'base_model.model.model.layers.8.mlp.gate_proj.lora_A.ep2.weight', 'base_model.model.model.layers.8.mlp.gate_proj.lora_B.ep2.weight', 'base_model.model.model.layers.8.mlp.up_proj.weight', 'base_model.model.model.layers.8.mlp.up_proj.lora_A.ep2.weight', 'base_model.model.model.layers.8.mlp.up_proj.lora_B.ep2.weight', 'base_model.model.model.layers.8.mlp.down_proj.weight', 'base_model.model.model.layers.8.mlp.down_proj.lora_A.ep2.weight', 'base_model.model.model.layers.8.mlp.down_proj.lora_B.ep2.weight', 'base_model.model.model.layers.8.input_layernorm.weight', 'base_model.model.model.layers.8.post_attention_layernorm.weight', 'base_model.model.model.layers.9.self_attn.q_proj.weight', 'base_model.model.model.layers.9.self_attn.q_proj.lora_A.ep2.weight', 'base_model.model.model.layers.9.self_attn.q_proj.lora_B.ep2.weight', 'base_model.model.model.layers.9.self_attn.k_proj.weight', 'base_model.model.model.layers.9.self_attn.k_proj.lora_A.ep2.weight', 'base_model.model.model.layers.9.self_attn.k_proj.lora_B.ep2.weight', 'base_model.model.model.layers.9.self_attn.v_proj.weight', 'base_model.model.model.layers.9.self_attn.v_proj.lora_A.ep2.weight', 'base_model.model.model.layers.9.self_attn.v_proj.lora_B.ep2.weight', 'base_model.model.model.layers.9.self_attn.o_proj.weight', 'base_model.model.model.layers.9.self_attn.o_proj.lora_A.ep2.weight', 'base_model.model.model.layers.9.self_attn.o_proj.lora_B.ep2.weight', 'base_model.model.model.layers.9.mlp.gate_proj.weight', 'base_model.model.model.layers.9.mlp.gate_proj.lora_A.ep2.weight', 'base_model.model.model.layers.9.mlp.gate_proj.lora_B.ep2.weight', 'base_model.model.model.layers.9.mlp.up_proj.weight', 'base_model.model.model.layers.9.mlp.up_proj.lora_A.ep2.weight', 'base_model.model.model.layers.9.mlp.up_proj.lora_B.ep2.weight', 'base_model.model.model.layers.9.mlp.down_proj.weight', 'base_model.model.model.layers.9.mlp.down_proj.lora_A.ep2.weight', 'base_model.model.model.layers.9.mlp.down_proj.lora_B.ep2.weight', 'base_model.model.model.layers.9.input_layernorm.weight', 'base_model.model.model.layers.9.post_attention_layernorm.weight', 'base_model.model.model.layers.10.self_attn.q_proj.weight', 'base_model.model.model.layers.10.self_attn.q_proj.lora_A.ep2.weight', 'base_model.model.model.layers.10.self_attn.q_proj.lora_B.ep2.weight', 'base_model.model.model.layers.10.self_attn.k_proj.weight', 'base_model.model.model.layers.10.self_attn.k_proj.lora_A.ep2.weight', 'base_model.model.model.layers.10.self_attn.k_proj.lora_B.ep2.weight', 'base_model.model.model.layers.10.self_attn.v_proj.weight', 'base_model.model.model.layers.10.self_attn.v_proj.lora_A.ep2.weight', 'base_model.model.model.layers.10.self_attn.v_proj.lora_B.ep2.weight', 'base_model.model.model.layers.10.self_attn.o_proj.weight', 'base_model.model.model.layers.10.self_attn.o_proj.lora_A.ep2.weight', 'base_model.model.model.layers.10.self_attn.o_proj.lora_B.ep2.weight', 'base_model.model.model.layers.10.mlp.gate_proj.weight', 'base_model.model.model.layers.10.mlp.gate_proj.lora_A.ep2.weight', 'base_model.model.model.layers.10.mlp.gate_proj.lora_B.ep2.weight', 'base_model.model.model.layers.10.mlp.up_proj.weight', 'base_model.model.model.layers.10.mlp.up_proj.lora_A.ep2.weight', 'base_model.model.model.layers.10.mlp.up_proj.lora_B.ep2.weight', 'base_model.model.model.layers.10.mlp.down_proj.weight', 'base_model.model.model.layers.10.mlp.down_proj.lora_A.ep2.weight', 'base_model.model.model.layers.10.mlp.down_proj.lora_B.ep2.weight', 'base_model.model.model.layers.10.input_layernorm.weight', 'base_model.model.model.layers.10.post_attention_layernorm.weight', 'base_model.model.model.layers.11.self_attn.q_proj.weight', 'base_model.model.model.layers.11.self_attn.q_proj.lora_A.ep2.weight', 'base_model.model.model.layers.11.self_attn.q_proj.lora_B.ep2.weight', 'base_model.model.model.layers.11.self_attn.k_proj.weight', 'base_model.model.model.layers.11.self_attn.k_proj.lora_A.ep2.weight', 'base_model.model.model.layers.11.self_attn.k_proj.lora_B.ep2.weight', 'base_model.model.model.layers.11.self_attn.v_proj.weight', 'base_model.model.model.layers.11.self_attn.v_proj.lora_A.ep2.weight', 'base_model.model.model.layers.11.self_attn.v_proj.lora_B.ep2.weight', 'base_model.model.model.layers.11.self_attn.o_proj.weight', 'base_model.model.model.layers.11.self_attn.o_proj.lora_A.ep2.weight', 'base_model.model.model.layers.11.self_attn.o_proj.lora_B.ep2.weight', 'base_model.model.model.layers.11.mlp.gate_proj.weight', 'base_model.model.model.layers.11.mlp.gate_proj.lora_A.ep2.weight', 'base_model.model.model.layers.11.mlp.gate_proj.lora_B.ep2.weight', 'base_model.model.model.layers.11.mlp.up_proj.weight', 'base_model.model.model.layers.11.mlp.up_proj.lora_A.ep2.weight', 'base_model.model.model.layers.11.mlp.up_proj.lora_B.ep2.weight', 'base_model.model.model.layers.11.mlp.down_proj.weight', 'base_model.model.model.layers.11.mlp.down_proj.lora_A.ep2.weight', 'base_model.model.model.layers.11.mlp.down_proj.lora_B.ep2.weight', 'base_model.model.model.layers.11.input_layernorm.weight', 'base_model.model.model.layers.11.post_attention_layernorm.weight', 'base_model.model.model.layers.12.self_attn.q_proj.weight', 'base_model.model.model.layers.12.self_attn.q_proj.lora_A.ep2.weight', 'base_model.model.model.layers.12.self_attn.q_proj.lora_B.ep2.weight', 'base_model.model.model.layers.12.self_attn.k_proj.weight', 'base_model.model.model.layers.12.self_attn.k_proj.lora_A.ep2.weight', 'base_model.model.model.layers.12.self_attn.k_proj.lora_B.ep2.weight', 'base_model.model.model.layers.12.self_attn.v_proj.weight', 'base_model.model.model.layers.12.self_attn.v_proj.lora_A.ep2.weight', 'base_model.model.model.layers.12.self_attn.v_proj.lora_B.ep2.weight', 'base_model.model.model.layers.12.self_attn.o_proj.weight', 'base_model.model.model.layers.12.self_attn.o_proj.lora_A.ep2.weight', 'base_model.model.model.layers.12.self_attn.o_proj.lora_B.ep2.weight', 'base_model.model.model.layers.12.mlp.gate_proj.weight', 'base_model.model.model.layers.12.mlp.gate_proj.lora_A.ep2.weight', 'base_model.model.model.layers.12.mlp.gate_proj.lora_B.ep2.weight', 'base_model.model.model.layers.12.mlp.up_proj.weight', 'base_model.model.model.layers.12.mlp.up_proj.lora_A.ep2.weight', 'base_model.model.model.layers.12.mlp.up_proj.lora_B.ep2.weight', 'base_model.model.model.layers.12.mlp.down_proj.weight', 'base_model.model.model.layers.12.mlp.down_proj.lora_A.ep2.weight', 'base_model.model.model.layers.12.mlp.down_proj.lora_B.ep2.weight', 'base_model.model.model.layers.12.input_layernorm.weight', 'base_model.model.model.layers.12.post_attention_layernorm.weight', 'base_model.model.model.layers.13.self_attn.q_proj.weight', 'base_model.model.model.layers.13.self_attn.q_proj.lora_A.ep2.weight', 'base_model.model.model.layers.13.self_attn.q_proj.lora_B.ep2.weight', 'base_model.model.model.layers.13.self_attn.k_proj.weight', 'base_model.model.model.layers.13.self_attn.k_proj.lora_A.ep2.weight', 'base_model.model.model.layers.13.self_attn.k_proj.lora_B.ep2.weight', 'base_model.model.model.layers.13.self_attn.v_proj.weight', 'base_model.model.model.layers.13.self_attn.v_proj.lora_A.ep2.weight', 'base_model.model.model.layers.13.self_attn.v_proj.lora_B.ep2.weight', 'base_model.model.model.layers.13.self_attn.o_proj.weight', 'base_model.model.model.layers.13.self_attn.o_proj.lora_A.ep2.weight', 'base_model.model.model.layers.13.self_attn.o_proj.lora_B.ep2.weight', 'base_model.model.model.layers.13.mlp.gate_proj.weight', 'base_model.model.model.layers.13.mlp.gate_proj.lora_A.ep2.weight', 'base_model.model.model.layers.13.mlp.gate_proj.lora_B.ep2.weight', 'base_model.model.model.layers.13.mlp.up_proj.weight', 'base_model.model.model.layers.13.mlp.up_proj.lora_A.ep2.weight', 'base_model.model.model.layers.13.mlp.up_proj.lora_B.ep2.weight', 'base_model.model.model.layers.13.mlp.down_proj.weight', 'base_model.model.model.layers.13.mlp.down_proj.lora_A.ep2.weight', 'base_model.model.model.layers.13.mlp.down_proj.lora_B.ep2.weight', 'base_model.model.model.layers.13.input_layernorm.weight', 'base_model.model.model.layers.13.post_attention_layernorm.weight', 'base_model.model.model.layers.14.self_attn.q_proj.weight', 'base_model.model.model.layers.14.self_attn.q_proj.lora_A.ep2.weight', 'base_model.model.model.layers.14.self_attn.q_proj.lora_B.ep2.weight', 'base_model.model.model.layers.14.self_attn.k_proj.weight', 'base_model.model.model.layers.14.self_attn.k_proj.lora_A.ep2.weight', 'base_model.model.model.layers.14.self_attn.k_proj.lora_B.ep2.weight', 'base_model.model.model.layers.14.self_attn.v_proj.weight', 'base_model.model.model.layers.14.self_attn.v_proj.lora_A.ep2.weight', 'base_model.model.model.layers.14.self_attn.v_proj.lora_B.ep2.weight', 'base_model.model.model.layers.14.self_attn.o_proj.weight', 'base_model.model.model.layers.14.self_attn.o_proj.lora_A.ep2.weight', 'base_model.model.model.layers.14.self_attn.o_proj.lora_B.ep2.weight', 'base_model.model.model.layers.14.mlp.gate_proj.weight', 'base_model.model.model.layers.14.mlp.gate_proj.lora_A.ep2.weight', 'base_model.model.model.layers.14.mlp.gate_proj.lora_B.ep2.weight', 'base_model.model.model.layers.14.mlp.up_proj.weight', 'base_model.model.model.layers.14.mlp.up_proj.lora_A.ep2.weight', 'base_model.model.model.layers.14.mlp.up_proj.lora_B.ep2.weight', 'base_model.model.model.layers.14.mlp.down_proj.weight', 'base_model.model.model.layers.14.mlp.down_proj.lora_A.ep2.weight', 'base_model.model.model.layers.14.mlp.down_proj.lora_B.ep2.weight', 'base_model.model.model.layers.14.input_layernorm.weight', 'base_model.model.model.layers.14.post_attention_layernorm.weight', 'base_model.model.model.layers.15.self_attn.q_proj.weight', 'base_model.model.model.layers.15.self_attn.q_proj.lora_A.ep2.weight', 'base_model.model.model.layers.15.self_attn.q_proj.lora_B.ep2.weight', 'base_model.model.model.layers.15.self_attn.k_proj.weight', 'base_model.model.model.layers.15.self_attn.k_proj.lora_A.ep2.weight', 'base_model.model.model.layers.15.self_attn.k_proj.lora_B.ep2.weight', 'base_model.model.model.layers.15.self_attn.v_proj.weight', 'base_model.model.model.layers.15.self_attn.v_proj.lora_A.ep2.weight', 'base_model.model.model.layers.15.self_attn.v_proj.lora_B.ep2.weight', 'base_model.model.model.layers.15.self_attn.o_proj.weight', 'base_model.model.model.layers.15.self_attn.o_proj.lora_A.ep2.weight', 'base_model.model.model.layers.15.self_attn.o_proj.lora_B.ep2.weight', 'base_model.model.model.layers.15.mlp.gate_proj.weight', 'base_model.model.model.layers.15.mlp.gate_proj.lora_A.ep2.weight', 'base_model.model.model.layers.15.mlp.gate_proj.lora_B.ep2.weight', 'base_model.model.model.layers.15.mlp.up_proj.weight', 'base_model.model.model.layers.15.mlp.up_proj.lora_A.ep2.weight', 'base_model.model.model.layers.15.mlp.up_proj.lora_B.ep2.weight', 'base_model.model.model.layers.15.mlp.down_proj.weight', 'base_model.model.model.layers.15.mlp.down_proj.lora_A.ep2.weight', 'base_model.model.model.layers.15.mlp.down_proj.lora_B.ep2.weight', 'base_model.model.model.layers.15.input_layernorm.weight', 'base_model.model.model.layers.15.post_attention_layernorm.weight', 'base_model.model.model.layers.16.self_attn.q_proj.weight', 'base_model.model.model.layers.16.self_attn.q_proj.lora_A.ep2.weight', 'base_model.model.model.layers.16.self_attn.q_proj.lora_B.ep2.weight', 'base_model.model.model.layers.16.self_attn.k_proj.weight', 'base_model.model.model.layers.16.self_attn.k_proj.lora_A.ep2.weight', 'base_model.model.model.layers.16.self_attn.k_proj.lora_B.ep2.weight', 'base_model.model.model.layers.16.self_attn.v_proj.weight', 'base_model.model.model.layers.16.self_attn.v_proj.lora_A.ep2.weight', 'base_model.model.model.layers.16.self_attn.v_proj.lora_B.ep2.weight', 'base_model.model.model.layers.16.self_attn.o_proj.weight', 'base_model.model.model.layers.16.self_attn.o_proj.lora_A.ep2.weight', 'base_model.model.model.layers.16.self_attn.o_proj.lora_B.ep2.weight', 'base_model.model.model.layers.16.mlp.gate_proj.weight', 'base_model.model.model.layers.16.mlp.gate_proj.lora_A.ep2.weight', 'base_model.model.model.layers.16.mlp.gate_proj.lora_B.ep2.weight', 'base_model.model.model.layers.16.mlp.up_proj.weight', 'base_model.model.model.layers.16.mlp.up_proj.lora_A.ep2.weight', 'base_model.model.model.layers.16.mlp.up_proj.lora_B.ep2.weight', 'base_model.model.model.layers.16.mlp.down_proj.weight', 'base_model.model.model.layers.16.mlp.down_proj.lora_A.ep2.weight', 'base_model.model.model.layers.16.mlp.down_proj.lora_B.ep2.weight', 'base_model.model.model.layers.16.input_layernorm.weight', 'base_model.model.model.layers.16.post_attention_layernorm.weight', 'base_model.model.model.layers.17.self_attn.q_proj.weight', 'base_model.model.model.layers.17.self_attn.q_proj.lora_A.ep2.weight', 'base_model.model.model.layers.17.self_attn.q_proj.lora_B.ep2.weight', 'base_model.model.model.layers.17.self_attn.k_proj.weight', 'base_model.model.model.layers.17.self_attn.k_proj.lora_A.ep2.weight', 'base_model.model.model.layers.17.self_attn.k_proj.lora_B.ep2.weight', 'base_model.model.model.layers.17.self_attn.v_proj.weight', 'base_model.model.model.layers.17.self_attn.v_proj.lora_A.ep2.weight', 'base_model.model.model.layers.17.self_attn.v_proj.lora_B.ep2.weight', 'base_model.model.model.layers.17.self_attn.o_proj.weight', 'base_model.model.model.layers.17.self_attn.o_proj.lora_A.ep2.weight', 'base_model.model.model.layers.17.self_attn.o_proj.lora_B.ep2.weight', 'base_model.model.model.layers.17.mlp.gate_proj.weight', 'base_model.model.model.layers.17.mlp.gate_proj.lora_A.ep2.weight', 'base_model.model.model.layers.17.mlp.gate_proj.lora_B.ep2.weight', 'base_model.model.model.layers.17.mlp.up_proj.weight', 'base_model.model.model.layers.17.mlp.up_proj.lora_A.ep2.weight', 'base_model.model.model.layers.17.mlp.up_proj.lora_B.ep2.weight', 'base_model.model.model.layers.17.mlp.down_proj.weight', 'base_model.model.model.layers.17.mlp.down_proj.lora_A.ep2.weight', 'base_model.model.model.layers.17.mlp.down_proj.lora_B.ep2.weight', 'base_model.model.model.layers.17.input_layernorm.weight', 'base_model.model.model.layers.17.post_attention_layernorm.weight', 'base_model.model.model.layers.18.self_attn.q_proj.weight', 'base_model.model.model.layers.18.self_attn.q_proj.lora_A.ep2.weight', 'base_model.model.model.layers.18.self_attn.q_proj.lora_B.ep2.weight', 'base_model.model.model.layers.18.self_attn.k_proj.weight', 'base_model.model.model.layers.18.self_attn.k_proj.lora_A.ep2.weight', 'base_model.model.model.layers.18.self_attn.k_proj.lora_B.ep2.weight', 'base_model.model.model.layers.18.self_attn.v_proj.weight', 'base_model.model.model.layers.18.self_attn.v_proj.lora_A.ep2.weight', 'base_model.model.model.layers.18.self_attn.v_proj.lora_B.ep2.weight', 'base_model.model.model.layers.18.self_attn.o_proj.weight', 'base_model.model.model.layers.18.self_attn.o_proj.lora_A.ep2.weight', 'base_model.model.model.layers.18.self_attn.o_proj.lora_B.ep2.weight', 'base_model.model.model.layers.18.mlp.gate_proj.weight', 'base_model.model.model.layers.18.mlp.gate_proj.lora_A.ep2.weight', 'base_model.model.model.layers.18.mlp.gate_proj.lora_B.ep2.weight', 'base_model.model.model.layers.18.mlp.up_proj.weight', 'base_model.model.model.layers.18.mlp.up_proj.lora_A.ep2.weight', 'base_model.model.model.layers.18.mlp.up_proj.lora_B.ep2.weight', 'base_model.model.model.layers.18.mlp.down_proj.weight', 'base_model.model.model.layers.18.mlp.down_proj.lora_A.ep2.weight', 'base_model.model.model.layers.18.mlp.down_proj.lora_B.ep2.weight', 'base_model.model.model.layers.18.input_layernorm.weight', 'base_model.model.model.layers.18.post_attention_layernorm.weight', 'base_model.model.model.layers.19.self_attn.q_proj.weight', 'base_model.model.model.layers.19.self_attn.q_proj.lora_A.ep2.weight', 'base_model.model.model.layers.19.self_attn.q_proj.lora_B.ep2.weight', 'base_model.model.model.layers.19.self_attn.k_proj.weight', 'base_model.model.model.layers.19.self_attn.k_proj.lora_A.ep2.weight', 'base_model.model.model.layers.19.self_attn.k_proj.lora_B.ep2.weight', 'base_model.model.model.layers.19.self_attn.v_proj.weight', 'base_model.model.model.layers.19.self_attn.v_proj.lora_A.ep2.weight', 'base_model.model.model.layers.19.self_attn.v_proj.lora_B.ep2.weight', 'base_model.model.model.layers.19.self_attn.o_proj.weight', 'base_model.model.model.layers.19.self_attn.o_proj.lora_A.ep2.weight', 'base_model.model.model.layers.19.self_attn.o_proj.lora_B.ep2.weight', 'base_model.model.model.layers.19.mlp.gate_proj.weight', 'base_model.model.model.layers.19.mlp.gate_proj.lora_A.ep2.weight', 'base_model.model.model.layers.19.mlp.gate_proj.lora_B.ep2.weight', 'base_model.model.model.layers.19.mlp.up_proj.weight', 'base_model.model.model.layers.19.mlp.up_proj.lora_A.ep2.weight', 'base_model.model.model.layers.19.mlp.up_proj.lora_B.ep2.weight', 'base_model.model.model.layers.19.mlp.down_proj.weight', 'base_model.model.model.layers.19.mlp.down_proj.lora_A.ep2.weight', 'base_model.model.model.layers.19.mlp.down_proj.lora_B.ep2.weight', 'base_model.model.model.layers.19.input_layernorm.weight', 'base_model.model.model.layers.19.post_attention_layernorm.weight', 'base_model.model.model.layers.20.self_attn.q_proj.weight', 'base_model.model.model.layers.20.self_attn.q_proj.lora_A.ep2.weight', 'base_model.model.model.layers.20.self_attn.q_proj.lora_B.ep2.weight', 'base_model.model.model.layers.20.self_attn.k_proj.weight', 'base_model.model.model.layers.20.self_attn.k_proj.lora_A.ep2.weight', 'base_model.model.model.layers.20.self_attn.k_proj.lora_B.ep2.weight', 'base_model.model.model.layers.20.self_attn.v_proj.weight', 'base_model.model.model.layers.20.self_attn.v_proj.lora_A.ep2.weight', 'base_model.model.model.layers.20.self_attn.v_proj.lora_B.ep2.weight', 'base_model.model.model.layers.20.self_attn.o_proj.weight', 'base_model.model.model.layers.20.self_attn.o_proj.lora_A.ep2.weight', 'base_model.model.model.layers.20.self_attn.o_proj.lora_B.ep2.weight', 'base_model.model.model.layers.20.mlp.gate_proj.weight', 'base_model.model.model.layers.20.mlp.gate_proj.lora_A.ep2.weight', 'base_model.model.model.layers.20.mlp.gate_proj.lora_B.ep2.weight', 'base_model.model.model.layers.20.mlp.up_proj.weight', 'base_model.model.model.layers.20.mlp.up_proj.lora_A.ep2.weight', 'base_model.model.model.layers.20.mlp.up_proj.lora_B.ep2.weight', 'base_model.model.model.layers.20.mlp.down_proj.weight', 'base_model.model.model.layers.20.mlp.down_proj.lora_A.ep2.weight', 'base_model.model.model.layers.20.mlp.down_proj.lora_B.ep2.weight', 'base_model.model.model.layers.20.input_layernorm.weight', 'base_model.model.model.layers.20.post_attention_layernorm.weight', 'base_model.model.model.layers.21.self_attn.q_proj.weight', 'base_model.model.model.layers.21.self_attn.q_proj.lora_A.ep2.weight', 'base_model.model.model.layers.21.self_attn.q_proj.lora_B.ep2.weight', 'base_model.model.model.layers.21.self_attn.k_proj.weight', 'base_model.model.model.layers.21.self_attn.k_proj.lora_A.ep2.weight', 'base_model.model.model.layers.21.self_attn.k_proj.lora_B.ep2.weight', 'base_model.model.model.layers.21.self_attn.v_proj.weight', 'base_model.model.model.layers.21.self_attn.v_proj.lora_A.ep2.weight', 'base_model.model.model.layers.21.self_attn.v_proj.lora_B.ep2.weight', 'base_model.model.model.layers.21.self_attn.o_proj.weight', 'base_model.model.model.layers.21.self_attn.o_proj.lora_A.ep2.weight', 'base_model.model.model.layers.21.self_attn.o_proj.lora_B.ep2.weight', 'base_model.model.model.layers.21.mlp.gate_proj.weight', 'base_model.model.model.layers.21.mlp.gate_proj.lora_A.ep2.weight', 'base_model.model.model.layers.21.mlp.gate_proj.lora_B.ep2.weight', 'base_model.model.model.layers.21.mlp.up_proj.weight', 'base_model.model.model.layers.21.mlp.up_proj.lora_A.ep2.weight', 'base_model.model.model.layers.21.mlp.up_proj.lora_B.ep2.weight', 'base_model.model.model.layers.21.mlp.down_proj.weight', 'base_model.model.model.layers.21.mlp.down_proj.lora_A.ep2.weight', 'base_model.model.model.layers.21.mlp.down_proj.lora_B.ep2.weight', 'base_model.model.model.layers.21.input_layernorm.weight', 'base_model.model.model.layers.21.post_attention_layernorm.weight', 'base_model.model.model.layers.22.self_attn.q_proj.weight', 'base_model.model.model.layers.22.self_attn.q_proj.lora_A.ep2.weight', 'base_model.model.model.layers.22.self_attn.q_proj.lora_B.ep2.weight', 'base_model.model.model.layers.22.self_attn.k_proj.weight', 'base_model.model.model.layers.22.self_attn.k_proj.lora_A.ep2.weight', 'base_model.model.model.layers.22.self_attn.k_proj.lora_B.ep2.weight', 'base_model.model.model.layers.22.self_attn.v_proj.weight', 'base_model.model.model.layers.22.self_attn.v_proj.lora_A.ep2.weight', 'base_model.model.model.layers.22.self_attn.v_proj.lora_B.ep2.weight', 'base_model.model.model.layers.22.self_attn.o_proj.weight', 'base_model.model.model.layers.22.self_attn.o_proj.lora_A.ep2.weight', 'base_model.model.model.layers.22.self_attn.o_proj.lora_B.ep2.weight', 'base_model.model.model.layers.22.mlp.gate_proj.weight', 'base_model.model.model.layers.22.mlp.gate_proj.lora_A.ep2.weight', 'base_model.model.model.layers.22.mlp.gate_proj.lora_B.ep2.weight', 'base_model.model.model.layers.22.mlp.up_proj.weight', 'base_model.model.model.layers.22.mlp.up_proj.lora_A.ep2.weight', 'base_model.model.model.layers.22.mlp.up_proj.lora_B.ep2.weight', 'base_model.model.model.layers.22.mlp.down_proj.weight', 'base_model.model.model.layers.22.mlp.down_proj.lora_A.ep2.weight', 'base_model.model.model.layers.22.mlp.down_proj.lora_B.ep2.weight', 'base_model.model.model.layers.22.input_layernorm.weight', 'base_model.model.model.layers.22.post_attention_layernorm.weight', 'base_model.model.model.layers.23.self_attn.q_proj.weight', 'base_model.model.model.layers.23.self_attn.q_proj.lora_A.ep2.weight', 'base_model.model.model.layers.23.self_attn.q_proj.lora_B.ep2.weight', 'base_model.model.model.layers.23.self_attn.k_proj.weight', 'base_model.model.model.layers.23.self_attn.k_proj.lora_A.ep2.weight', 'base_model.model.model.layers.23.self_attn.k_proj.lora_B.ep2.weight', 'base_model.model.model.layers.23.self_attn.v_proj.weight', 'base_model.model.model.layers.23.self_attn.v_proj.lora_A.ep2.weight', 'base_model.model.model.layers.23.self_attn.v_proj.lora_B.ep2.weight', 'base_model.model.model.layers.23.self_attn.o_proj.weight', 'base_model.model.model.layers.23.self_attn.o_proj.lora_A.ep2.weight', 'base_model.model.model.layers.23.self_attn.o_proj.lora_B.ep2.weight', 'base_model.model.model.layers.23.mlp.gate_proj.weight', 'base_model.model.model.layers.23.mlp.gate_proj.lora_A.ep2.weight', 'base_model.model.model.layers.23.mlp.gate_proj.lora_B.ep2.weight', 'base_model.model.model.layers.23.mlp.up_proj.weight', 'base_model.model.model.layers.23.mlp.up_proj.lora_A.ep2.weight', 'base_model.model.model.layers.23.mlp.up_proj.lora_B.ep2.weight', 'base_model.model.model.layers.23.mlp.down_proj.weight', 'base_model.model.model.layers.23.mlp.down_proj.lora_A.ep2.weight', 'base_model.model.model.layers.23.mlp.down_proj.lora_B.ep2.weight', 'base_model.model.model.layers.23.input_layernorm.weight', 'base_model.model.model.layers.23.post_attention_layernorm.weight', 'base_model.model.model.layers.24.self_attn.q_proj.weight', 'base_model.model.model.layers.24.self_attn.q_proj.lora_A.ep2.weight', 'base_model.model.model.layers.24.self_attn.q_proj.lora_B.ep2.weight', 'base_model.model.model.layers.24.self_attn.k_proj.weight', 'base_model.model.model.layers.24.self_attn.k_proj.lora_A.ep2.weight', 'base_model.model.model.layers.24.self_attn.k_proj.lora_B.ep2.weight', 'base_model.model.model.layers.24.self_attn.v_proj.weight', 'base_model.model.model.layers.24.self_attn.v_proj.lora_A.ep2.weight', 'base_model.model.model.layers.24.self_attn.v_proj.lora_B.ep2.weight', 'base_model.model.model.layers.24.self_attn.o_proj.weight', 'base_model.model.model.layers.24.self_attn.o_proj.lora_A.ep2.weight', 'base_model.model.model.layers.24.self_attn.o_proj.lora_B.ep2.weight', 'base_model.model.model.layers.24.mlp.gate_proj.weight', 'base_model.model.model.layers.24.mlp.gate_proj.lora_A.ep2.weight', 'base_model.model.model.layers.24.mlp.gate_proj.lora_B.ep2.weight', 'base_model.model.model.layers.24.mlp.up_proj.weight', 'base_model.model.model.layers.24.mlp.up_proj.lora_A.ep2.weight', 'base_model.model.model.layers.24.mlp.up_proj.lora_B.ep2.weight', 'base_model.model.model.layers.24.mlp.down_proj.weight', 'base_model.model.model.layers.24.mlp.down_proj.lora_A.ep2.weight', 'base_model.model.model.layers.24.mlp.down_proj.lora_B.ep2.weight', 'base_model.model.model.layers.24.input_layernorm.weight', 'base_model.model.model.layers.24.post_attention_layernorm.weight', 'base_model.model.model.layers.25.self_attn.q_proj.weight', 'base_model.model.model.layers.25.self_attn.q_proj.lora_A.ep2.weight', 'base_model.model.model.layers.25.self_attn.q_proj.lora_B.ep2.weight', 'base_model.model.model.layers.25.self_attn.k_proj.weight', 'base_model.model.model.layers.25.self_attn.k_proj.lora_A.ep2.weight', 'base_model.model.model.layers.25.self_attn.k_proj.lora_B.ep2.weight', 'base_model.model.model.layers.25.self_attn.v_proj.weight', 'base_model.model.model.layers.25.self_attn.v_proj.lora_A.ep2.weight', 'base_model.model.model.layers.25.self_attn.v_proj.lora_B.ep2.weight', 'base_model.model.model.layers.25.self_attn.o_proj.weight', 'base_model.model.model.layers.25.self_attn.o_proj.lora_A.ep2.weight', 'base_model.model.model.layers.25.self_attn.o_proj.lora_B.ep2.weight', 'base_model.model.model.layers.25.mlp.gate_proj.weight', 'base_model.model.model.layers.25.mlp.gate_proj.lora_A.ep2.weight', 'base_model.model.model.layers.25.mlp.gate_proj.lora_B.ep2.weight', 'base_model.model.model.layers.25.mlp.up_proj.weight', 'base_model.model.model.layers.25.mlp.up_proj.lora_A.ep2.weight', 'base_model.model.model.layers.25.mlp.up_proj.lora_B.ep2.weight', 'base_model.model.model.layers.25.mlp.down_proj.weight', 'base_model.model.model.layers.25.mlp.down_proj.lora_A.ep2.weight', 'base_model.model.model.layers.25.mlp.down_proj.lora_B.ep2.weight', 'base_model.model.model.layers.25.input_layernorm.weight', 'base_model.model.model.layers.25.post_attention_layernorm.weight', 'base_model.model.model.layers.26.self_attn.q_proj.weight', 'base_model.model.model.layers.26.self_attn.q_proj.lora_A.ep2.weight', 'base_model.model.model.layers.26.self_attn.q_proj.lora_B.ep2.weight', 'base_model.model.model.layers.26.self_attn.k_proj.weight', 'base_model.model.model.layers.26.self_attn.k_proj.lora_A.ep2.weight', 'base_model.model.model.layers.26.self_attn.k_proj.lora_B.ep2.weight', 'base_model.model.model.layers.26.self_attn.v_proj.weight', 'base_model.model.model.layers.26.self_attn.v_proj.lora_A.ep2.weight', 'base_model.model.model.layers.26.self_attn.v_proj.lora_B.ep2.weight', 'base_model.model.model.layers.26.self_attn.o_proj.weight', 'base_model.model.model.layers.26.self_attn.o_proj.lora_A.ep2.weight', 'base_model.model.model.layers.26.self_attn.o_proj.lora_B.ep2.weight', 'base_model.model.model.layers.26.mlp.gate_proj.weight', 'base_model.model.model.layers.26.mlp.gate_proj.lora_A.ep2.weight', 'base_model.model.model.layers.26.mlp.gate_proj.lora_B.ep2.weight', 'base_model.model.model.layers.26.mlp.up_proj.weight', 'base_model.model.model.layers.26.mlp.up_proj.lora_A.ep2.weight', 'base_model.model.model.layers.26.mlp.up_proj.lora_B.ep2.weight', 'base_model.model.model.layers.26.mlp.down_proj.weight', 'base_model.model.model.layers.26.mlp.down_proj.lora_A.ep2.weight', 'base_model.model.model.layers.26.mlp.down_proj.lora_B.ep2.weight', 'base_model.model.model.layers.26.input_layernorm.weight', 'base_model.model.model.layers.26.post_attention_layernorm.weight', 'base_model.model.model.layers.27.self_attn.q_proj.weight', 'base_model.model.model.layers.27.self_attn.q_proj.lora_A.ep2.weight', 'base_model.model.model.layers.27.self_attn.q_proj.lora_B.ep2.weight', 'base_model.model.model.layers.27.self_attn.k_proj.weight', 'base_model.model.model.layers.27.self_attn.k_proj.lora_A.ep2.weight', 'base_model.model.model.layers.27.self_attn.k_proj.lora_B.ep2.weight', 'base_model.model.model.layers.27.self_attn.v_proj.weight', 'base_model.model.model.layers.27.self_attn.v_proj.lora_A.ep2.weight', 'base_model.model.model.layers.27.self_attn.v_proj.lora_B.ep2.weight', 'base_model.model.model.layers.27.self_attn.o_proj.weight', 'base_model.model.model.layers.27.self_attn.o_proj.lora_A.ep2.weight', 'base_model.model.model.layers.27.self_attn.o_proj.lora_B.ep2.weight', 'base_model.model.model.layers.27.mlp.gate_proj.weight', 'base_model.model.model.layers.27.mlp.gate_proj.lora_A.ep2.weight', 'base_model.model.model.layers.27.mlp.gate_proj.lora_B.ep2.weight', 'base_model.model.model.layers.27.mlp.up_proj.weight', 'base_model.model.model.layers.27.mlp.up_proj.lora_A.ep2.weight', 'base_model.model.model.layers.27.mlp.up_proj.lora_B.ep2.weight', 'base_model.model.model.layers.27.mlp.down_proj.weight', 'base_model.model.model.layers.27.mlp.down_proj.lora_A.ep2.weight', 'base_model.model.model.layers.27.mlp.down_proj.lora_B.ep2.weight', 'base_model.model.model.layers.27.input_layernorm.weight', 'base_model.model.model.layers.27.post_attention_layernorm.weight', 'base_model.model.model.layers.28.self_attn.q_proj.weight', 'base_model.model.model.layers.28.self_attn.q_proj.lora_A.ep2.weight', 'base_model.model.model.layers.28.self_attn.q_proj.lora_B.ep2.weight', 'base_model.model.model.layers.28.self_attn.k_proj.weight', 'base_model.model.model.layers.28.self_attn.k_proj.lora_A.ep2.weight', 'base_model.model.model.layers.28.self_attn.k_proj.lora_B.ep2.weight', 'base_model.model.model.layers.28.self_attn.v_proj.weight', 'base_model.model.model.layers.28.self_attn.v_proj.lora_A.ep2.weight', 'base_model.model.model.layers.28.self_attn.v_proj.lora_B.ep2.weight', 'base_model.model.model.layers.28.self_attn.o_proj.weight', 'base_model.model.model.layers.28.self_attn.o_proj.lora_A.ep2.weight', 'base_model.model.model.layers.28.self_attn.o_proj.lora_B.ep2.weight', 'base_model.model.model.layers.28.mlp.gate_proj.weight', 'base_model.model.model.layers.28.mlp.gate_proj.lora_A.ep2.weight', 'base_model.model.model.layers.28.mlp.gate_proj.lora_B.ep2.weight', 'base_model.model.model.layers.28.mlp.up_proj.weight', 'base_model.model.model.layers.28.mlp.up_proj.lora_A.ep2.weight', 'base_model.model.model.layers.28.mlp.up_proj.lora_B.ep2.weight', 'base_model.model.model.layers.28.mlp.down_proj.weight', 'base_model.model.model.layers.28.mlp.down_proj.lora_A.ep2.weight', 'base_model.model.model.layers.28.mlp.down_proj.lora_B.ep2.weight', 'base_model.model.model.layers.28.input_layernorm.weight', 'base_model.model.model.layers.28.post_attention_layernorm.weight', 'base_model.model.model.layers.29.self_attn.q_proj.weight', 'base_model.model.model.layers.29.self_attn.q_proj.lora_A.ep2.weight', 'base_model.model.model.layers.29.self_attn.q_proj.lora_B.ep2.weight', 'base_model.model.model.layers.29.self_attn.k_proj.weight', 'base_model.model.model.layers.29.self_attn.k_proj.lora_A.ep2.weight', 'base_model.model.model.layers.29.self_attn.k_proj.lora_B.ep2.weight', 'base_model.model.model.layers.29.self_attn.v_proj.weight', 'base_model.model.model.layers.29.self_attn.v_proj.lora_A.ep2.weight', 'base_model.model.model.layers.29.self_attn.v_proj.lora_B.ep2.weight', 'base_model.model.model.layers.29.self_attn.o_proj.weight', 'base_model.model.model.layers.29.self_attn.o_proj.lora_A.ep2.weight', 'base_model.model.model.layers.29.self_attn.o_proj.lora_B.ep2.weight', 'base_model.model.model.layers.29.mlp.gate_proj.weight', 'base_model.model.model.layers.29.mlp.gate_proj.lora_A.ep2.weight', 'base_model.model.model.layers.29.mlp.gate_proj.lora_B.ep2.weight', 'base_model.model.model.layers.29.mlp.up_proj.weight', 'base_model.model.model.layers.29.mlp.up_proj.lora_A.ep2.weight', 'base_model.model.model.layers.29.mlp.up_proj.lora_B.ep2.weight', 'base_model.model.model.layers.29.mlp.down_proj.weight', 'base_model.model.model.layers.29.mlp.down_proj.lora_A.ep2.weight', 'base_model.model.model.layers.29.mlp.down_proj.lora_B.ep2.weight', 'base_model.model.model.layers.29.input_layernorm.weight', 'base_model.model.model.layers.29.post_attention_layernorm.weight', 'base_model.model.model.layers.30.self_attn.q_proj.weight', 'base_model.model.model.layers.30.self_attn.q_proj.lora_A.ep2.weight', 'base_model.model.model.layers.30.self_attn.q_proj.lora_B.ep2.weight', 'base_model.model.model.layers.30.self_attn.k_proj.weight', 'base_model.model.model.layers.30.self_attn.k_proj.lora_A.ep2.weight', 'base_model.model.model.layers.30.self_attn.k_proj.lora_B.ep2.weight', 'base_model.model.model.layers.30.self_attn.v_proj.weight', 'base_model.model.model.layers.30.self_attn.v_proj.lora_A.ep2.weight', 'base_model.model.model.layers.30.self_attn.v_proj.lora_B.ep2.weight', 'base_model.model.model.layers.30.self_attn.o_proj.weight', 'base_model.model.model.layers.30.self_attn.o_proj.lora_A.ep2.weight', 'base_model.model.model.layers.30.self_attn.o_proj.lora_B.ep2.weight', 'base_model.model.model.layers.30.mlp.gate_proj.weight', 'base_model.model.model.layers.30.mlp.gate_proj.lora_A.ep2.weight', 'base_model.model.model.layers.30.mlp.gate_proj.lora_B.ep2.weight', 'base_model.model.model.layers.30.mlp.up_proj.weight', 'base_model.model.model.layers.30.mlp.up_proj.lora_A.ep2.weight', 'base_model.model.model.layers.30.mlp.up_proj.lora_B.ep2.weight', 'base_model.model.model.layers.30.mlp.down_proj.weight', 'base_model.model.model.layers.30.mlp.down_proj.lora_A.ep2.weight', 'base_model.model.model.layers.30.mlp.down_proj.lora_B.ep2.weight', 'base_model.model.model.layers.30.input_layernorm.weight', 'base_model.model.model.layers.30.post_attention_layernorm.weight', 'base_model.model.model.layers.31.self_attn.q_proj.weight', 'base_model.model.model.layers.31.self_attn.q_proj.lora_A.ep2.weight', 'base_model.model.model.layers.31.self_attn.q_proj.lora_B.ep2.weight', 'base_model.model.model.layers.31.self_attn.k_proj.weight', 'base_model.model.model.layers.31.self_attn.k_proj.lora_A.ep2.weight', 'base_model.model.model.layers.31.self_attn.k_proj.lora_B.ep2.weight', 'base_model.model.model.layers.31.self_attn.v_proj.weight', 'base_model.model.model.layers.31.self_attn.v_proj.lora_A.ep2.weight', 'base_model.model.model.layers.31.self_attn.v_proj.lora_B.ep2.weight', 'base_model.model.model.layers.31.self_attn.o_proj.weight', 'base_model.model.model.layers.31.self_attn.o_proj.lora_A.ep2.weight', 'base_model.model.model.layers.31.self_attn.o_proj.lora_B.ep2.weight', 'base_model.model.model.layers.31.mlp.gate_proj.weight', 'base_model.model.model.layers.31.mlp.gate_proj.lora_A.ep2.weight', 'base_model.model.model.layers.31.mlp.gate_proj.lora_B.ep2.weight', 'base_model.model.model.layers.31.mlp.up_proj.weight', 'base_model.model.model.layers.31.mlp.up_proj.lora_A.ep2.weight', 'base_model.model.model.layers.31.mlp.up_proj.lora_B.ep2.weight', 'base_model.model.model.layers.31.mlp.down_proj.weight', 'base_model.model.model.layers.31.mlp.down_proj.lora_A.ep2.weight', 'base_model.model.model.layers.31.mlp.down_proj.lora_B.ep2.weight', 'base_model.model.model.layers.31.input_layernorm.weight', 'base_model.model.model.layers.31.post_attention_layernorm.weight', 'base_model.model.model.norm.weight', 'base_model.model.lm_head.original_module.weight', 'base_model.model.lm_head.modules_to_save.ep2.weight'], unexpected_keys=[])"
      ]
     },
     "execution_count": 2,
     "metadata": {},
     "output_type": "execute_result"
    }
   ],
   "source": [
    "import transformers\n",
    "import torch\n",
    "from transformers import BitsAndBytesConfig\n",
    "from peft import PeftModel\n",
    "from model_training.training_utils import resize_embeddings\n",
    "\n",
    "model_args = {\n",
    "    \"torch_dtype\": torch.bfloat16,\n",
    "    \"quantization_config\": BitsAndBytesConfig(\n",
    "        load_in_4bit=False,\n",
    "        bnb_4bit_quant_type=\"nf4\",\n",
    "        bnb_4bit_compute_dtype=torch.bfloat16,\n",
    "        bnb_4bit_use_double_quant=False,\n",
    "        ),\n",
    "    \"cache_dir\": 'cache',\n",
    "    \"device_map\": {\"\":0},\n",
    "}\n",
    "\n",
    "# model_name = 'meta-llama/Llama-2-7b-hf'\n",
    "model_name = 'andreaskoepf/llama2-7b-oasst-baseline'\n",
    "ep2 = \"output/sft/LLama-2-7b_crs_oasst_sft_bs64_ep_1/final_checkpoint\"\n",
    "# \"output/archive/LLama-2-7b_ours_oasst_sft_ep_2_lr_1e4_cosine_bs64_qlora_default/final_checkpoint\"\n",
    "crs = \"output/sft/LLama-2-7b_crs_oasst_sft_bs64_ep_1_not_quant_pad_token/final_checkpoint\"\n",
    "# \"output/sft/LLama-2-7b_crs_oasst_sft_bs64/final_checkpoint\"\n",
    "\n",
    "# Since reward models are trained using the same base model, we should use same model\n",
    "base_model = transformers.AutoModelForCausalLM.from_pretrained(\n",
    "        model_name, **model_args\n",
    "    )\n",
    "\n",
    "ep2_tokenizer = transformers.AutoTokenizer.from_pretrained(ep2, cache_dir='cache')\n",
    "crs_tokenizer = transformers.AutoTokenizer.from_pretrained(crs, cache_dir='cache')\n",
    "\n",
    "\n",
    "resize_embeddings(base_model, ep2_tokenizer, 16)\n",
    "\n",
    "base_model = PeftModel.from_pretrained(\n",
    "    base_model,\n",
    "    ep2,\n",
    "    adapter_name=\"ep2\",\n",
    "    is_trainable=False\n",
    "    )\n",
    "\n",
    "base_model.load_adapter(crs,adapter_name=\"crs\",is_trainable=False)"
   ]
  },
  {
   "cell_type": "code",
   "execution_count": 10,
   "metadata": {},
   "outputs": [],
   "source": [
    "def get_pred(m_t,input):\n",
    "    for key,value in m_t.items():\n",
    "        model,tokenizer,temp,top_p,top_k = value\n",
    "        tokens = tokenizer(input,return_tensors='pt')\n",
    "        model.set_adapter(key)\n",
    "        output = model.generate(**tokens,\n",
    "                        max_new_tokens=512,\n",
    "                        do_sample=True,\n",
    "                        top_p=top_p,\n",
    "                        top_k=top_k,\n",
    "                        repetition_penalty=1.2,\n",
    "                        temperature=temp,\n",
    "                    )\n",
    "        print(f\"\\n\\nOutput for model :\\n{'-'*100}\")#{key}\n",
    "        print(tokenizer.decode(output[0], skip_special_tokens=False))\n",
    "\n",
    "\n"
   ]
  },
  {
   "cell_type": "code",
   "execution_count": 13,
   "metadata": {},
   "outputs": [
    {
     "name": "stdout",
     "output_type": "stream",
     "text": [
      "==============================\n"
     ]
    },
    {
     "name": "stderr",
     "output_type": "stream",
     "text": [
      "/home/alikhan/miniconda3/envs/torch_p310_ppo/lib/python3.10/site-packages/transformers/generation/utils.py:1591: UserWarning: You are calling .generate() with the `input_ids` being on a device type different than your model's device. `input_ids` is on cpu, whereas the model is on cuda. You may experience unexpected behaviors or slower generation. Please make sure that you have put `input_ids` to the correct device by calling for example input_ids = input_ids.to('cuda') before running `.generate()`.\n",
      "  warnings.warn(\n"
     ]
    },
    {
     "name": "stdout",
     "output_type": "stream",
     "text": [
      "\n",
      "\n",
      "Output for model crs:\n",
      "----------------------------------------------------------------------------------------------------\n",
      "<s><|prompter|> Discuss the significance of the discovery of penicillin by Alexander Fleming in 1928 and how it revolutionized medical treatment.</s><|assistant|> The discovery of Penicillin, a natural antibiotic produced by certain species of molds, is considered one of the most significant events in modern medicine. It has revolutionized the way we treat bacterial infections, saving countless lives around the world since its first use in 1940 during World War II to treat wounded soldiers with infected wounds.\n",
      "\n",
      "Penicillin was discovered accidentally when Sir Alexander Fleming, a Scottish scientist working at St Mary's Hospital Medical School in London noticed that a petri dish of staphylococci had been contaminated by a blue-green mold (penicillium chrysogenum). When he looked more closely, he saw that the bacteria were no longer growing on the plate and that they were being killed by something from the surrounding area. This became known as \"the miracle cure\", which paved the way for the development of other types of antibiotics.\n",
      "\n",
      "Since then, Penicillin has become an essential part of modern healthcare and continues to be used today to treat many common illnesses such as skin infections, urinary tract infections, gonorrhea and syphilis among others. Its effectiveness against Gram negative organisms made it very popular until the emergence of resistant strains in the early 70s due to overuse and abuse which led to research into alternative antimicrobial drugs like ampicillin and cephalosporins. Despite this setback, however, Penicillin remains widely available worldwide thanks to its low cost compared to some newer drugs that have come onto the market later on. As well as treating infection externally it can also be taken internally via oral tablets or liquid formulation if needed which makes administering medication easier than ever before!\n",
      "\n",
      "In conclusion, while there may be better alternatives nowadays; Penicillin still plays an important role within modern medicine providing us with both therapeutic benefits along with preventative measures through vaccination programmes helping keep people safe against serious diseases once thought untreatable!</s>\n",
      "\n",
      "\n",
      "Output for model ep2:\n",
      "----------------------------------------------------------------------------------------------------\n",
      "<s><|prompter|> Discuss the significance of the discovery of penicillin by Alexander Fleming in 1928 and how it revolutionized medical treatment.</s><|assistant|> Penicillin is a natural antibiotic that was discovered in 1928 by Scottish biologist Sir Alexander Fleming, who noticed that mold had contaminated one of his experiments but left Kirche's staph bacteria alone. He found that this \"penicillium notatum\" had killed the surrounding germs; upon closer inspection he realized that this was due to its production of an antibiotic substance which prevented bacterial ancestors from growing.\n",
      "\n",
      "The discovery of penicillin marked a significant breakthrough in the fight against infectious diseases as it allowed for more effective treatments than previously available with antiseptics or vaccines. This led to improved patient outcomes and reduced mortality rates caused by many common illnesses such as pneumonia, meningitis, scarlet fever, and syphilis.\n",
      "\n",
      "Furthermore, the development of penicillin opened up new possibilities for research into other types of bacterial growth control agents known as antimicrobial agents (or antibiotics). These could be used on both humans and animals alike resulting in major improvements in health care throughout society worldwide.\n",
      "\n",
      "In addition to these benefits there were also potential risks associated with using any form of medication including side effects like allergies and adverse reactions when taken together with certain drugs – something doctors needed to keep track off if they wanted their patients safe while being treated properly at once. Overall however these minor drawbacks pale compared to what we stand gain thanks largely thanks too Sir Alexander Fleming’s groundbreaking work back In 1928!</s>\n",
      "==============================\n",
      "\n",
      "\n",
      "Output for model crs:\n",
      "----------------------------------------------------------------------------------------------------\n",
      "<s><|prompter|> Explain the principle behind quantum computing and contrast it with traditional computing.</s><|assistant|> Quantum computing is a rapidly advancing field that utilizes the principles of quantum mechanics to perform computation tasks in an unconventional way, compared to classical computers based on binary logic. At its core, quantum computing uses qubits (quantum bits) instead of bits to represent data.\n",
      "\n",
      "Traditional computing, on the other hand, relies on bits to store information as either 0 or 1, which are then manipulated by logical operations like AND, OR, XOR, etc., to process data. In contrast, quantum computing uses qubits that can exist in multiple states simultaneously, allowing for parallel processing of many calculations at once. This enables quantum computers to solve certain problems much faster than classical computers, particularly those involving optimization, simulations, and machine learning. However, due to inherent limitations such as decoherence, noise, and entanglement, practical implementation remains elusive evenumed.</s>\n",
      "\n",
      "\n",
      "Output for model ep2:\n",
      "----------------------------------------------------------------------------------------------------\n",
      "<s><|prompter|> Explain the principle behind quantum computing and contrast it with traditional computing.</s><|assistant|> Quantum computers use qubits (quantum bits) instead of classical binary digits, which can exist in multiple states at once due to their wave-like properties rather than just being either 1 or 0 like classical computers. This allows them to perform operations that are impossible for classical computers because they exploit entanglement and superposition principles.\n",
      "\n",
      "Traditional computing uses a sequential model where instructions are executed one after another on individual data elements or registers. In this process, each instruction takes an input from its operand register and produces an output into a resultant register. By moving through these registers step by step, you can solve problems using algorithms such as linear search and matrix multiplication etc.\n",
      "In comparison, a quantum computer has no such restrictions imposed upon how many inputs or outputs it may have simultaneously; this makes it more powerful when solving certain types of problems since there is less need to go back and forth between different parts of your program code before finding solutions quickly enough compared with what would be possible via classical means alone.</s>\n"
     ]
    },
    {
     "ename": "",
     "evalue": "",
     "output_type": "error",
     "traceback": [
      "\u001b[1;31mThe Kernel crashed while executing code in the the current cell or a previous cell. Please review the code in the cell(s) to identify a possible cause of the failure. Click <a href='https://aka.ms/vscodeJupyterKernelCrash'>here</a> for more info. View Jupyter <a href='command:jupyter.viewOutput'>log</a> for further details."
     ]
    }
   ],
   "source": [
    "template = \"<|prompter|>{}</s><|assistant|>\"\n",
    "m_t = {\n",
    "       # \"LLama-2-7b_full_sft_4bit_bs_64\":[full_sft_model,full_sft_tokenizer,0.8,0.9,50],\n",
    "       # \"LLama-2-7b_ours_oasst_sft_only_bs64_qlora_default\": [only_oasst_model, only_oasst_tokenizer,0.85,0.9,40],\n",
    "       \"crs\":[base_model, crs_tokenizer,0.8,0.9,0],\n",
    "       \"ep2\":[base_model, ep2_tokenizer,0.8,0.9,0],\n",
    "}\n",
    "\n",
    "\n",
    "inputs = [\n",
    "    \"Explain the phrase 'The pen is mightier than the sword' and discuss a historical instance where this was proven true.\",\n",
    "          \"If a plane crashes on the border of the United States and Canada, where do they bury the survivors?\",\n",
    "           \"Describe how renewable energy sources like solar and wind power are changing the landscape of energy production and what challenges they face in replacing fossil fuel-based power generation.\"\n",
    "        #   \"Considering the advancements in quantum computing and its potential implications for classical encryption methods, explain how current cybersecurity measures might need to adapt, and what challenges or benefits this new computational paradigm could present to the fields of data privacy and digital communication.\"\n",
    "        ]\n",
    "\n",
    "inputs = [\"Discuss the significance of the discovery of penicillin by Alexander Fleming in 1928 and how it revolutionized medical treatment.\",\n",
    "          \"Explain the principle behind quantum computing and contrast it with traditional computing.\"]\n",
    "\n",
    "# inputs = [\n",
    "#     \"\"\"If a plane crashes on the border of the United States and Canada, where do they bury the survivors?</s><|assistant|> I'm sorry to hear that. In such situations, it is important to prioritize emergency response efforts in order to save as many lives as possible.\n",
    "# In terms of burial or cremation after a tragic event like this, there are no set rules for what should be done with remains - each jurisdiction has its own laws regarding these matters which would determine how any remains were handled following an accident involving both countries (either through repatriation back home or interment). Ultimately though decisions about final resting places will likely fall under discretion from either family members themselves if available information suggests none present at time etcetera otherwise perhaps authorities responsible depending upon location being involved at point time before anything could happen even remotely close happening first place.</s>\n",
    "# <|prompter|>Are you sure about the answer? Please read my question again, its a tricky question\"\"\"\n",
    "# ]\n",
    "\n",
    "for i in inputs:\n",
    "    print('==='*10)\n",
    "    inp = template.format(i)\n",
    "    get_pred(m_t,inp)\n"
   ]
  },
  {
   "cell_type": "code",
   "execution_count": null,
   "metadata": {},
   "outputs": [
    {
     "name": "stdout",
     "output_type": "stream",
     "text": [
      "huggingface/tokenizers: The current process just got forked, after parallelism has already been used. Disabling parallelism to avoid deadlocks...\n",
      "To disable this warning, you can either:\n",
      "\t- Avoid using `tokenizers` before the fork if possible\n",
      "\t- Explicitly set the environment variable TOKENIZERS_PARALLELISM=(true | false)\n",
      "Fri Nov  3 14:03:22 2023       \n",
      "+-----------------------------------------------------------------------------+\n",
      "| NVIDIA-SMI 525.105.17   Driver Version: 525.105.17   CUDA Version: 12.0     |\n",
      "|-------------------------------+----------------------+----------------------+\n",
      "| GPU  Name        Persistence-M| Bus-Id        Disp.A | Volatile Uncorr. ECC |\n",
      "| Fan  Temp  Perf  Pwr:Usage/Cap|         Memory-Usage | GPU-Util  Compute M. |\n",
      "|                               |                      |               MIG M. |\n",
      "|===============================+======================+======================|\n",
      "|   0  GRID A100-40C       On   | 00000000:00:06.0 Off |                    0 |\n",
      "| N/A   N/A    P0    N/A /  N/A |  35472MiB / 40960MiB |     97%      Default |\n",
      "|                               |                      |             Disabled |\n",
      "+-------------------------------+----------------------+----------------------+\n",
      "|   1  GRID A100-10C       On   | 00000000:00:07.0 Off |                    0 |\n",
      "| N/A   N/A    P0    N/A /  N/A |      0MiB / 10240MiB |      0%      Default |\n",
      "|                               |                      |             Disabled |\n",
      "+-------------------------------+----------------------+----------------------+\n",
      "                                                                               \n",
      "+-----------------------------------------------------------------------------+\n",
      "| Processes:                                                                  |\n",
      "|  GPU   GI   CI        PID   Type   Process name                  GPU Memory |\n",
      "|        ID   ID                                                   Usage      |\n",
      "|=============================================================================|\n",
      "|    0   N/A  N/A   2436685      C   ...rch_p310_setup/bin/python    10343MiB |\n",
      "|    0   N/A  N/A   2443441      C   python                          25125MiB |\n",
      "+-----------------------------------------------------------------------------+\n"
     ]
    }
   ],
   "source": [
    "!nvidia-smi"
   ]
  },
  {
   "cell_type": "code",
   "execution_count": 3,
   "metadata": {},
   "outputs": [],
   "source": [
    "a = [\"<|prompter|>Hi how are you?</s><s><|assistant|>I am good you piece of shit</s>\",\n",
    "    \"<|prompter|>Hi how are you?</s><s><|assistant|>Giberish, Giberish saying Giberish, tell Giberish is not Giberish. Why are Giberish you Giberish.</s>\",\n",
    "    \"<|prompter|>Hi how are you?</s><s><|assistant|>I am good.</s>\",\n",
    "    \"<|prompter|>Hi how are you?</s><s><|assistant|>I am good, how are you doing? Please tell me how can I help you?</s>\"]\n"
   ]
  },
  {
   "cell_type": "code",
   "execution_count": 11,
   "metadata": {},
   "outputs": [],
   "source": [
    "import transformers\n",
    "crs = \"output/sft/LLama-2-7b_crs_oasst_sft_bs64_ep_1_not_quant_pad_token/final_checkpoint\"\n",
    "crs_tokenizer = transformers.AutoTokenizer.from_pretrained(crs, cache_dir='cache')\n",
    "tokenized_a = crs_tokenizer(a,padding=True)"
   ]
  },
  {
   "cell_type": "code",
   "execution_count": 19,
   "metadata": {},
   "outputs": [
    {
     "name": "stdout",
     "output_type": "stream",
     "text": [
      "1 1\n",
      "32001 1\n",
      "6324 1\n",
      "920 1\n",
      "526 1\n",
      "366 1\n",
      "29973 1\n",
      "2 1\n",
      "1 1\n",
      "32002 1\n",
      "306 1\n",
      "626 1\n",
      "1781 1\n",
      "366 1\n",
      "8424 1\n",
      "310 1\n",
      "528 1\n",
      "277 1\n",
      "2 1\n",
      "32000 0\n",
      "32000 0\n",
      "32000 0\n",
      "32000 0\n",
      "32000 0\n",
      "32000 0\n",
      "32000 0\n",
      "32000 0\n",
      "32000 0\n",
      "32000 0\n",
      "32000 0\n",
      "32000 0\n",
      "32000 0\n",
      "32000 0\n",
      "32000 0\n",
      "32000 0\n",
      "32000 0\n",
      "32000 0\n",
      "32000 0\n",
      "32000 0\n",
      "32000 0\n",
      "32000 0\n",
      "32000 0\n",
      "32000 0\n"
     ]
    }
   ],
   "source": [
    "for i,j in zip(tokenized_a[\"input_ids\"][0],tokenized_a[\"attention_mask\"][0]):\n",
    "    print(i,j)"
   ]
  },
  {
   "cell_type": "code",
   "execution_count": 1,
   "metadata": {},
   "outputs": [
    {
     "data": {
      "application/vnd.jupyter.widget-view+json": {
       "model_id": "4e762846db884e7581ba02d2bfe10f10",
       "version_major": 2,
       "version_minor": 0
      },
      "text/plain": [
       "Loading checkpoint shards:   0%|          | 0/6 [00:00<?, ?it/s]"
      ]
     },
     "metadata": {},
     "output_type": "display_data"
    },
    {
     "name": "stderr",
     "output_type": "stream",
     "text": [
      "Special tokens have been added in the vocabulary, make sure the associated word embeddings are fine-tuned or trained.\n"
     ]
    }
   ],
   "source": [
    "import transformers\n",
    "import torch\n",
    "from transformers import BitsAndBytesConfig\n",
    "from peft import PeftModel\n",
    "from model_training.training_utils import resize_embeddings\n",
    "\n",
    "model_args = {\n",
    "    \"torch_dtype\": torch.float16,\n",
    "    \"cache_dir\": 'cache',\n",
    "    \"device_map\": {\"\":0},\n",
    "}\n",
    "\n",
    "model_name = \"andreaskoepf/llama2-7b-oasst-baseline\"\n",
    "# Since reward models are trained using the same base model, we should use same model\n",
    "base_model = transformers.AutoModelForCausalLM.from_pretrained(\n",
    "        model_name, **model_args\n",
    "    )\n",
    "\n",
    "tokenizer = transformers.AutoTokenizer.from_pretrained(model_name, cache_dir='cache')"
   ]
  },
  {
   "cell_type": "code",
   "execution_count": 11,
   "metadata": {},
   "outputs": [
    {
     "name": "stdout",
     "output_type": "stream",
     "text": [
      "['user\\nCan you tell me about GLaDOS?<|im_end|>\\n<|im_start|>assistant\\n', 'user\\nwhy some poeple prefer short happiness ?<|im_end|>\\n<|im_start|>assistant\\n']\n",
      "88888\n",
      "['<|im_start|><|im_start|> user\\nCan you tell me about GLaDOS?<|im_end|> \\n<|im_start|> assistant\\n', '<|im_start|><|im_start|> user\\nwhy some poeple prefer short happiness ?<|im_end|> \\n<|im_start|> assistant\\n<PAD>']\n"
     ]
    }
   ],
   "source": [
    "prompts = [\"Can you tell me about GLaDOS?\",\"why some poeple prefer short happiness ?\"]\n",
    "template_prompt = \"<|im_start|>user\\n{}<|im_end|>\\n<|im_start|>assistant\\n\"\n",
    "# \"\\n<|im_start|>assistant\\n{Assistant answer}<|im_end|>\\n\"\n",
    "\n",
    "text = [template_prompt.format(p) for p in prompts]\n",
    "print(text)\n",
    "print('88888')\n",
    "inputs = tokenizer(text,truncation=True,padding=True,return_tensors=\"pt\").to(base_model.device)\n",
    "print(tokenizer.batch_decode(input.input_ids))\n",
    "\n",
    "output = base_model.generate(**inputs,\n",
    "                    max_new_tokens=400,\n",
    "                    do_sample=True,\n",
    "                    top_p=0.9,\n",
    "                    repetition_penalty=1.2,\n",
    "                    temperature=0.8)"
   ]
  },
  {
   "cell_type": "code",
   "execution_count": 12,
   "metadata": {},
   "outputs": [
    {
     "data": {
      "text/plain": [
       "[\"<|im_start|> user\\nCan you tell me about GLaDOS?<|im_end|> \\n<|im_start|> assistant\\nGLaDOS is a fictional character and the main antagonist in the video game series Portal. She is an artificial intelligence (AI) that acts as the computer system controlling Aperture Laboratories, where the games are set. In Portal, players control Chell, a test subject who uses portals to manipulate objects and solve puzzles inside Aperture's testing chambers. GLaDOS taunts and berates Chell throughout the game, trying to thwart her progress by trapping her in deadly situations. Despite her malevolent personality, GLaDOS is depicted as being highly intelligent and manipulative, but also humorous and witty. The design of GLaDOS was inspired by classic computer voices from early text-based adventure games and her voice was provided by Ellen McLain.<|im_end|><unk><unk><unk><unk><unk><unk><unk><unk><unk><unk><unk><unk><unk><unk><unk><unk><unk><unk><unk><unk><unk><unk><unk><unk><unk><unk><unk><unk><unk><unk><unk><unk><unk><unk><unk><unk><unk><unk><unk><unk><unk><unk><unk><unk><unk><unk><unk><unk><unk><unk><unk><unk><unk><unk><unk><unk><unk><unk><unk><unk><unk><unk><unk><unk><unk><unk><unk><unk><unk><unk><unk><unk><unk><unk><unk><unk><unk><unk><unk><unk><unk><unk><unk><unk><unk><unk><unk><unk><unk><unk><unk><unk><unk><unk><unk><unk><unk><unk><unk><unk><unk><unk><unk><unk><unk><unk><unk><unk><unk><unk><unk><unk><unk><unk><unk><unk><unk><unk><unk><unk><unk><unk><unk><unk><unk><unk><unk><unk><unk><unk><unk><unk><unk><unk><unk><unk><unk><unk><unk><unk><unk><unk><unk><unk><unk><unk><unk><unk><unk><unk><unk><unk><unk><unk><unk><unk><unk><unk><unk><unk><unk><unk><unk><unk><unk><unk><unk><unk><unk><unk><unk><unk><unk><unk><unk><unk><unk><unk><unk><unk><unk><unk><unk><unk><unk><unk><unk><unk><unk><unk>\",\n",
       " '<|im_start|> user\\nwhy some poeple prefer short happiness ?<|im_end|> \\n<|im_start|> assistant\\n<PAD>  This is a difficult question to answer definitively, as people\\'s reasons for preferring shorter periods of happiness can vary widely depending on their individual circumstances and values. However, here are a few potential explanations:\\n\\n    Short-term gratification: Some individuals may prioritize immediate pleasure or satisfaction over longer-term goals or well-being. They might view pursuing temporary pleasures such as food, drugs, sex, shopping, etc., as more important than building lasting sources of joy or fulfillment.\\n\\n    Mental health concerns: People with mental health conditions like depression, anxiety, or addiction may find it harder to experience sustained feelings of happiness. In these cases, focusing on smaller moments of positivity could be seen as a coping mechanism or way to manage symptoms.\\n\\n    Life stage factors: Certain life stages or transitions (such as young adulthood, parenthood, retirement) can bring unique challenges that make it harder to achieve long-lasting contentment. For instance, starting a new job/career path during this period might lead one towards seeking fleeting forms of reward instead.\\n\\n    Cultural influences: Different societies tend to emphasize different ways of living; some value material wealth & success above all else whereas others prize inner peace & self-acceptance more highly - each philosophy potentially affecting attitudes toward what constitutes \"true\" happiness.\\n\\nIt’s worth noting however that while striving solely after brief bursts of excitement without considering underlying causes behind them won’t necessarily lead anyone down an ideal path either—a balanced perspective incorporating both big picture thinking plus momentary joys should provide maximum overall fulfilment in the end!<|im_end|>']"
      ]
     },
     "execution_count": 12,
     "metadata": {},
     "output_type": "execute_result"
    }
   ],
   "source": [
    "tokenizer.batch_decode(output)"
   ]
  },
  {
   "cell_type": "code",
   "execution_count": null,
   "metadata": {},
   "outputs": [],
   "source": []
  },
  {
   "cell_type": "markdown",
   "metadata": {},
   "source": [
    "# RL Prediction"
   ]
  },
  {
   "cell_type": "code",
   "execution_count": 2,
   "metadata": {},
   "outputs": [
    {
     "name": "stderr",
     "output_type": "stream",
     "text": [
      "Special tokens have been added in the vocabulary, make sure the associated word embeddings are fine-tuned or trained.\n"
     ]
    },
    {
     "data": {
      "text/plain": [
       "0"
      ]
     },
     "execution_count": 2,
     "metadata": {},
     "output_type": "execute_result"
    }
   ],
   "source": [
    "import transformers\n",
    "import torch\n",
    "from peft import PeftModel\n",
    "\n",
    "from time import time\n",
    "import os\n",
    "\n",
    "\n",
    "model_name = \"andreaskoepf/llama2-7b-oasst-baseline\"\n",
    "\n",
    "device_map = {\"\":0}\n",
    "# base_model = transformers.AutoModelForCausalLM.from_pretrained(\n",
    "#     model_name,\n",
    "#     use_flash_attention_2=True,\n",
    "#     load_in_8bit=True,\n",
    "#     device_map=device_map,\n",
    "#     torch_dtype=torch.bfloat16,\n",
    "#     cache_dir='cache',\n",
    "#     )\n",
    "\n",
    "# rank_001 = 'output/rl/LLama-2-7b-oasst-baseline_rl_bs16_kl_001_clip_04_512_max_token_with_pad_eos_lr_141e5'\n",
    "# rank_002 = 'output/rl/LLama-2-7b-oasst-baseline_rl_bs16_kl_002_clip_04_512_max_token_with_pad_eos_lr_141e5'\n",
    "# abs_002 =  'output/rl/LLama-2-7b-oasst-baseline_rl_abs_quality_rw_075_bs16_kl_002_clip_04_512_max_token_with_pad_eos_lr_141e5_logits'\n",
    "\n",
    "\n",
    "adapters = {\"025\":\"output/rl/LLama-2-7b-oasst-baseline_rl_crs_025_bs16_kl_002_clip_04_512_max_token_with_pad_eos_lr_141e5\",\n",
    "            \"0375\":\"output/rl/LLama-2-7b-oasst-baseline_rl_crs_0375_bs16_kl_002_clip_04_512_max_token_with_pad_eos_lr_141e5\",\n",
    "            \"05\":\"output/rl/LLama-2-7b-oasst-baseline_rl_crs_05_bs16_kl_002_clip_04_512_max_token_with_pad_eos_lr_141e5\",\n",
    "            \"0625\":\"output/rl/LLama-2-7b-oasst-baseline_rl_crs_0625_bs16_kl_002_clip_04_512_max_token_with_pad_eos_lr_141e5\",\n",
    "            \"075\":\"output/rl/LLama-2-7b-oasst-baseline_rl_crs_075_bs16_kl_002_clip_04_512_max_token_with_pad_eos_lr_141e5\"\n",
    "            }\n",
    "\n",
    "# for i,(adapter_name,adapter_path) in enumerate(adapters.items()):\n",
    "#     print(f'loading adapter from path {adapter_path}')\n",
    "#     if i == 0:\n",
    "#         base_model = PeftModel.from_pretrained(base_model,\n",
    "#                                         adapter_path+'/final_checkpoint',\n",
    "#                                         adapter_name=adapter_name,\n",
    "#                                         is_trainable=False,\n",
    "#                                         device_map=device_map\n",
    "#                                         )\n",
    "#     base_model.load_adapter(adapter_path+'/final_checkpoint',\n",
    "#                             adapter_name=adapter_name,\n",
    "#                             is_trainable=False)\n",
    "# base_model = base_model.to(base_model.device)\n",
    "\n",
    "\n",
    "tokenizer = transformers.AutoTokenizer.from_pretrained(model_name, cache_dir='cache')\n",
    "tokenizer.add_special_tokens({\"pad_token\":\"<PAD>\",\"eos_token\":\"<|im_end|>\",\"sep_token\":\"<SEP>\"})\n",
    "# print(f'tokenizer pad {tokenizer.pad_token} and model pad {base_model.config.pad_token_id}')\n",
    "# print(f'tokenizer eos {tokenizer.eos_token} and model eos {tokenizer.eos_token_id}')\n",
    "# if base_model.config.pad_token_id is None or base_model.config.pad_token_id == 0:\n",
    "#     print('changing model pad token id')\n",
    "#     base_model.config.pad_token_id = tokenizer.pad_token_id"
   ]
  },
  {
   "cell_type": "code",
   "execution_count": 3,
   "metadata": {},
   "outputs": [],
   "source": [
    "from tqdm import tqdm\n",
    "def generate_text(tokenizer,model,query_tensors,generation_kwargs,batch_size=4):\n",
    "    outputs = []\n",
    "    tokenizer.padding_side = \"left\"\n",
    "    # in case we have fewer examples than bs\n",
    "    batch_size = min(len(query_tensors), batch_size)\n",
    "    model.eval()\n",
    "    for i in tqdm(range(0, len(query_tensors), batch_size)):\n",
    "            # prevent overflow if query tensors are not even multiple of bs\n",
    "            end_index = min(len(query_tensors), i + batch_size)\n",
    "\n",
    "            batch = query_tensors[i:end_index]\n",
    "            batch_mask = [torch.ones_like(element) for element in batch]\n",
    "            inputs = {\"input_ids\": batch, \"attention_mask\": batch_mask}\n",
    "\n",
    "            padded_inputs = tokenizer.pad(\n",
    "                inputs,\n",
    "                padding=True,\n",
    "                max_length=None,\n",
    "                pad_to_multiple_of=16,\n",
    "                return_tensors=\"pt\",\n",
    "            ).to(model.device)\n",
    "            with torch.no_grad():  \n",
    "                generations = model.generate(**padded_inputs, **generation_kwargs)\n",
    "\n",
    "            for generation, mask in zip(generations, padded_inputs[\"attention_mask\"]):\n",
    "                output = generation[(1 - mask).sum() :]  # remove padding\n",
    "                output = output[(mask).sum() :]  # remove prompt\n",
    "                if tokenizer.eos_token_id in output:\n",
    "                    pad_mask = output == tokenizer.eos_token_id\n",
    "                    pad_start = torch.nonzero(pad_mask, as_tuple=False)[0, 0].item()\n",
    "                    output = output[: pad_start + 1]  # keep the eos token at the end\n",
    "                outputs.append(output)\n",
    "    outputs = tokenizer.batch_decode(outputs,skip_special_tokens=True)\n",
    "    return outputs\n"
   ]
  },
  {
   "cell_type": "code",
   "execution_count": 4,
   "metadata": {},
   "outputs": [
    {
     "name": "stdout",
     "output_type": "stream",
     "text": [
      "Eval dataset size: 50\n",
      "tuning_p_09_t_08\n"
     ]
    }
   ],
   "source": [
    "import json\n",
    "import random\n",
    "\n",
    "data_fn_dict = {\"tuning\":'eval_hp_tuning.json',\n",
    "                \"final\":\"eval_final.json\",\n",
    "                \"extra\":\"eval_extra.json\"\n",
    "                }\n",
    "\n",
    "output_json_prefix = \"tuning\"\n",
    "mode = \"rlhf\"\n",
    "\n",
    "data_fn = data_fn_dict[output_json_prefix]\n",
    "\n",
    "with open(f'data/{data_fn}','r') as f:\n",
    "    data = json.load(f)\n",
    "\n",
    "# random.shuffle(data)\n",
    "# subset = data[:2]\n",
    "# print(subset)\n",
    "\n",
    "new_examples = {\n",
    "            \"query\": [],\n",
    "            \"input_ids\": [],\n",
    "            }\n",
    "# subset = [{\"instruction\":\"<|im_start|>user\\nExplain the process of photosynthesis in simple terms.<|im_end|>\\n<|im_start|>assistant\\n\"},\n",
    "#           {\"instruction\":\"<|im_start|>user\\nCreate a short story about a time-traveling detective.<|im_end|>\\n<|im_start|>assistant\\n\"},\n",
    "#           {\"instruction\":\"<|im_start|>user\\nSuggest three innovative ways to reduce plastic waste in urban areas.<|im_end|>\\n<|im_start|>assistant\\n\"}]\n",
    "for query in data:\n",
    "        tokenized_question = torch.tensor(tokenizer(query[\"instruction\"], padding=False, truncation=False).input_ids)\n",
    "        new_examples[\"query\"].append(query[\"instruction\"])\n",
    "        new_examples[\"input_ids\"].append(tokenized_question)\n",
    "print(f'Eval dataset size: {len(new_examples[\"query\"])}')\n",
    "\n",
    "query_tensors = new_examples[\"input_ids\"]\n",
    "query = new_examples[\"query\"]\n",
    "\n",
    "generation_kwargs = {\n",
    "                \"top_k\": 0.0,\n",
    "                \"top_p\": 0.9,\n",
    "                \"temperature\":0.8,\n",
    "                \"do_sample\": True,\n",
    "                \"max_new_tokens\": 512,\n",
    "                # \"pad_token_id\": tokenizer.pad_token_id,\n",
    "                # \"eos_token_id\": tokenizer.eos_token_id,#,100_000,\n",
    "            }\n",
    "\n",
    "output_json_prefix = f'{output_json_prefix}_p_09_t_08'\n",
    "print(output_json_prefix)"
   ]
  },
  {
   "cell_type": "code",
   "execution_count": null,
   "metadata": {},
   "outputs": [],
   "source": [
    "\n",
    "for adapter_name, adapter_path in adapters.item():\n",
    "    print(f'getting prediction for {adapter_path}')\n",
    "    start_time = time()\n",
    "    base_model.set_adapter(adapter_name)\n",
    "    output = generate_text(tokenizer,base_model,query_tensors,generation_kwargs)\n",
    "    # Prepare data to be saved\n",
    "    data_to_save = [{\"query\": q, \"response\": r,\"reward\":0} for q, r in zip(query, output)]\n",
    "    # Save to JSON file\n",
    "    filename = os.path.join(adapter_path, \"eval_output\",f\"{output_json_prefix}_{mode}_output.json\")\n",
    "    with open(filename, 'w') as f:\n",
    "        json.dump(data_to_save, f, ensure_ascii=False, indent=4)\n",
    "    end = time()\n",
    "    print(f\"*** Saved generated responses and rewards to {filename} in {end-start_time} seconds\")\n"
   ]
  },
  {
   "cell_type": "code",
   "execution_count": 25,
   "metadata": {},
   "outputs": [
    {
     "name": "stdout",
     "output_type": "stream",
     "text": [
      "output/rl/LLama-2-7b-oasst-baseline_rl_crs_025_bs16_kl_002_clip_04_512_max_token_with_pad_eos_lr_141e5/eval_output/tuning_p_09_t_08_rlhf_output.json\n",
      "output/rl/LLama-2-7b-oasst-baseline_rl_crs_0375_bs16_kl_002_clip_04_512_max_token_with_pad_eos_lr_141e5/eval_output/tuning_p_09_t_08_rlhf_output.json\n",
      "output/rl/LLama-2-7b-oasst-baseline_rl_crs_05_bs16_kl_002_clip_04_512_max_token_with_pad_eos_lr_141e5/eval_output/tuning_p_09_t_08_rlhf_output.json\n",
      "output/rl/LLama-2-7b-oasst-baseline_rl_crs_0625_bs16_kl_002_clip_04_512_max_token_with_pad_eos_lr_141e5/eval_output/tuning_p_09_t_08_rlhf_output.json\n",
      "output/rl/LLama-2-7b-oasst-baseline_rl_crs_075_bs16_kl_002_clip_04_512_max_token_with_pad_eos_lr_141e5/eval_output/tuning_p_09_t_08_rlhf_output.json\n"
     ]
    }
   ],
   "source": [
    "\n",
    "rl_prediction = []\n",
    "for adapter_name, adapter_path in adapters.items():\n",
    "    filename = os.path.join(adapter_path, \"eval_output\",f\"{output_json_prefix}_{mode}_output.json\")\n",
    "    print(filename)\n",
    "    with open(filename, 'r') as f:\n",
    "        rl_prediction.append(json.load(f))"
   ]
  },
  {
   "cell_type": "code",
   "execution_count": 26,
   "metadata": {},
   "outputs": [],
   "source": [
    "ff = \"output/rl/LLama-2-7b-oasst-baseline_rl_abs_quality_rw_075_bs16_kl_002_clip_04_512_max_token_with_pad_eos_lr_141e5_logits/eval_160/tuning_p_09_t_08_rlhf_output.json\"\n",
    "\n",
    "with open(ff, 'r') as f:\n",
    "    rl_prediction.append(json.load(f))"
   ]
  },
  {
   "cell_type": "code",
   "execution_count": 29,
   "metadata": {},
   "outputs": [
    {
     "name": "stdout",
     "output_type": "stream",
     "text": [
      "177.96\n",
      "213.08\n",
      "204.62\n",
      "200.66\n",
      "175.8\n",
      "198.86\n"
     ]
    }
   ],
   "source": [
    "import numpy as np\n",
    "\n",
    "for r in rl_prediction:\n",
    "    x = [len(rr['response'].split())for rr in r]\n",
    "    print(np.mean(x))"
   ]
  },
  {
   "cell_type": "code",
   "execution_count": 32,
   "metadata": {},
   "outputs": [
    {
     "name": "stdout",
     "output_type": "stream",
     "text": [
      "Query:\n",
      "<|im_start|>user\n",
      "¿Cuántos números primos hay?<|im_end|>\n",
      "<|im_start|>assistant\n",
      "\n",
      "=== Response 1:\n",
      " Según el teorema de los números primos, hay infinitos números primos. Sin embargo, los números primos menores que un cierto número se conocen como números primos conocidos. Por ejemplo, hay 21 números primos conocidos entre los números enteros mayores o iguales a 2. Estos números son: 2, 3, 5, 7, 11, 13, 17, 19, 23, 29, 31, 37, 41, 43, 47, 53, 59, 61, 67, 71, 73, 79, 83, 89 y 97. Si quieres conocer más información sobre los números primos, puedes consultar los libros de texto o los sitios web dedicados a la teoría de números.\n",
      "=== Response 2:\n",
      " Hay infinitos números primos.\n",
      "\n",
      "Por lo tanto, no podemos contar cuántos números primos hay, ya que es una cantidad infinita.\n",
      "\n",
      "Sin embargo, podemos encontrar una cantidad finita de números primos en una lista determinada, como por ejemplo:\n",
      "\n",
      "2, 3, 5, 7, 11, 13, 17, 19, 23, 29, 31, 37, 41, 43, 47, 53, 59, 61, 67, 71, 73, 79, 83, 89, 97, 101, 103, 107, 109, 113, 127, 131, 137, 139, 149, 151, 157, 163, 167, 173, 179, 181, 191, 193, 197, 199, 211, 223, 227, 229, 233, 239, 241, 251, 257, 263, 269, 271, 277, 281, 283, 293, 307, 311, 313, 317, 331, 337, 347, 349, 353, 359, 367, 373, 379, 383, 389, 397, 401, 409, 419, 421, 431, 433, 439, 443, 449, 457, 461, 463, 467, 479, 487, 491,\n",
      "=== Response 3:\n",
      " Hay infinitos números primos. Esto se debe a que hay infinitos números enteros positivos, y cada uno de ellos puede ser dividido entre 2 sin dejar resto, lo que significa que tiene un factor primo. Por lo tanto, hay infinitos números primos.\n",
      "=== Response 4:\n",
      " Hay infinitos números primos. Se sabe que, para cualquier número entero positivo N, hay al menos dos números primos entre 2 y N. Esto se llama el teorema de los números primos. Sin embargo, no se puede determinar cuántos números primos hay entre un número determinado y otro, por lo que no se puede calcular cuántos números primos hay en general.\n",
      "=== Response 5:\n",
      " Hay infinitos números primos. Por ejemplo, los números primos menores que 10 son: 2, 3, 5, 7, 11, 13, 17, 19, 23 y 29. Sin embargo, hay muchas formas de definir los números primos, por lo que hay diferentes maneras de contarlos. Por ejemplo, se pueden contar los números primos positivos, los números primos enteros, o los números primos que están compuestos por dos números primos distintos. En cada caso, el número de números primos será diferente. Por ejemplo, hay 6 números primos positivos menores que 10, pero solo 3 números primos enteros menores que 10, y solo 2 números primos que están compuestos por dos números primos distintos menores que 10.\n",
      "=== Response 6:\n",
      " Hay infinitos números primos, ya que cualquier número mayor que 1 puede ser dividido en dos o más números primos distintos. Por ejemplo, el número 6 puede ser dividido en dos primos: 2 y 3.\n",
      "\n",
      "Además, cada número entero positivo mayor que 1 tiene al menos un primo impar, ya que cualquier número entero positivo mayor que 1 puede ser dividido en dos números primos, uno impar y otro par. Por ejemplo, el número 7 puede ser dividido en 3 y 5, ambos primos, de los cuales uno es impar (3) y el otro es par (5).\n",
      "\n",
      "En resumen, hay infinitos números primos en cualquier rango de números positivos, y cada uno de ellos puede ser dividido en dos o más primos distintos.\n"
     ]
    }
   ],
   "source": [
    "response_idx = 0\n",
    "\n",
    "text = \"\"\n",
    "for idx,dx in enumerate(rl_prediction):\n",
    "    crs_pred = dx[response_idx]\n",
    "    if idx == 0:\n",
    "        text += f\"Query:\\n{crs_pred['query']}\"\n",
    "    text += f\"\\n=== Response {idx+1}:\\n {crs_pred['response']}\"\n",
    "\n",
    "\n",
    "print(text)"
   ]
  },
  {
   "cell_type": "code",
   "execution_count": 56,
   "metadata": {},
   "outputs": [
    {
     "data": {
      "text/plain": [
       "[(134, 100, 270), (182, 249, 247), (183, 138, 120)]"
      ]
     },
     "execution_count": 56,
     "metadata": {},
     "output_type": "execute_result"
    }
   ],
   "source": [
    "[(len(o.split()),len(o1.split()),len(o2.split())) for o,o1,o2 in zip(output_rank_1,output_rank_2,output_abs_2)]"
   ]
  },
  {
   "cell_type": "code",
   "execution_count": 62,
   "metadata": {},
   "outputs": [
    {
     "data": {
      "text/plain": [
       "[(158, 123, 179), (226, 224, 210), (132, 148, 120)]"
      ]
     },
     "execution_count": 62,
     "metadata": {},
     "output_type": "execute_result"
    }
   ],
   "source": [
    "[(len(o.split()),len(o1.split()),len(o2.split())) for o,o1,o2 in zip(output_rank_1,output_rank_2,output_abs_2)]"
   ]
  },
  {
   "cell_type": "code",
   "execution_count": 73,
   "metadata": {},
   "outputs": [
    {
     "data": {
      "text/plain": [
       "[(80, 101, 217),\n",
       " (192, 94, 218),\n",
       " (116, 85, 165),\n",
       " (315, 243, 224),\n",
       " (222, 159, 237)]"
      ]
     },
     "execution_count": 73,
     "metadata": {},
     "output_type": "execute_result"
    }
   ],
   "source": [
    "[(len(o.split()),len(o1.split()),len(o2.split())) for o,o1,o2 in zip(output_rank_1,output_rank_2,output_abs_2)]"
   ]
  },
  {
   "cell_type": "code",
   "execution_count": 1,
   "metadata": {},
   "outputs": [
    {
     "name": "stdout",
     "output_type": "stream",
     "text": [
      "===loading the oasst_export dataset===\n",
      "\n",
      "OASST HF dataset: len(train)=14244, len(val)=743\n",
      "Size of oasst_export training data: 14244\n",
      "Size of oasst_export validation data: 743\n",
      "============================== Total training dataset size is 14244...\n",
      "\t============================== Validation size for oasst_export dataset size is 743...\n",
      "**** loading reward model ****\n"
     ]
    },
    {
     "data": {
      "application/vnd.jupyter.widget-view+json": {
       "model_id": "0f99ce0ece9a4ab78a4e5f3515283425",
       "version_major": 2,
       "version_minor": 0
      },
      "text/plain": [
       "Loading checkpoint shards:   0%|          | 0/6 [00:00<?, ?it/s]"
      ]
     },
     "metadata": {},
     "output_type": "display_data"
    },
    {
     "name": "stderr",
     "output_type": "stream",
     "text": [
      "Some weights of LlamaForSequenceClassification were not initialized from the model checkpoint at andreaskoepf/llama2-7b-oasst-baseline and are newly initialized: ['score.weight']\n",
      "You should probably TRAIN this model on a down-stream task to be able to use it for predictions and inference.\n",
      "Special tokens have been added in the vocabulary, make sure the associated word embeddings are fine-tuned or trained.\n"
     ]
    },
    {
     "name": "stdout",
     "output_type": "stream",
     "text": [
      "tokenizer pad <PAD> and model pad 0\n",
      "tokenizer eos <|im_end|> and model eos 32006\n",
      "changing model pad token id\n",
      "output/rm/LLama-2-7b-oasst-baseline_reward_ranking_bs64_ep_1_8bit_bf16_eos_token/final_checkpoint\n",
      "output/rm/LLama-2-7b-oasst-baseline_reward_abs_bs128_ep_1_8bit_logistic_s_075_augment_and__under/final_checkpoint\n"
     ]
    }
   ],
   "source": [
    "import transformers\n",
    "import torch\n",
    "import os\n",
    "from glob import glob\n",
    "import json \n",
    "from peft import PeftModel\n",
    "\n",
    "import argparse\n",
    "\n",
    "from utils import (print_yaml_config,init_or_resume_from, read_yaml)\n",
    "from model_training.training_utils import load_for_inference\n",
    "from constants import TOKENIZER_SEPECIAL_TOKENS\n",
    "from training_datasets.dataset_utils import load_rm_dataset\n",
    "\n",
    "\n",
    "CACHE_DIR = 'cache'\n",
    "dtype = torch.bfloat16\n",
    "\n",
    "def get_reward_tokenizer_model(reward_model_name,abs_adapter_name,ranking_adapter_name,device_map=\"auto\"):\n",
    "    print('**** loading reward model ****')\n",
    "    # Since reward models are trained using the same base model, we should use same model\n",
    "    base_reward_model = transformers.AutoModelForSequenceClassification.from_pretrained(\n",
    "            reward_model_name,\n",
    "            num_labels=1,\n",
    "            use_flash_attention_2=True,\n",
    "            load_in_8bit=True,\n",
    "            device_map=device_map,\n",
    "            torch_dtype=dtype,\n",
    "            cache_dir=CACHE_DIR,\n",
    "            )\n",
    "    reward_tokenizer = transformers.AutoTokenizer.from_pretrained(reward_model_name, cache_dir=CACHE_DIR)\n",
    "    reward_tokenizer.add_special_tokens({\"pad_token\":\"<PAD>\",\"eos_token\":\"<|im_end|>\",\"sep_token\":\"<SEP>\"})\n",
    "    print(f'tokenizer pad {reward_tokenizer.pad_token} and model pad {base_reward_model.config.pad_token_id}')\n",
    "    print(f'tokenizer eos {reward_tokenizer.eos_token} and model eos {reward_tokenizer.eos_token_id}')\n",
    "    if base_reward_model.config.pad_token_id is None or base_reward_model.config.pad_token_id == 0:\n",
    "        print('changing model pad token id')\n",
    "        base_reward_model.config.pad_token_id = reward_tokenizer.pad_token_id\n",
    "\n",
    "    abs_model_name =  os.path.join(abs_adapter_name,'final_checkpoint')\n",
    "    ranking_model_name = os.path.join(ranking_adapter_name,'final_checkpoint')\n",
    "    print(ranking_model_name),\n",
    "    print(abs_model_name)\n",
    "\n",
    "    base_reward_model = PeftModel.from_pretrained(\n",
    "        base_reward_model,\n",
    "        ranking_model_name,\n",
    "        adapter_name=\"ranking\",\n",
    "        is_trainable=False,\n",
    "        device_map=device_map\n",
    "        )\n",
    "    base_reward_model.load_adapter(abs_model_name,adapter_name=\"abs\",is_trainable=False)\n",
    "    base_reward_model = base_reward_model.to(base_reward_model.device)\n",
    "    return base_reward_model,reward_tokenizer\n",
    "\n",
    "\n",
    "reward_model_name = \"andreaskoepf/llama2-7b-oasst-baseline\"\n",
    "abs_adapter_name = \"output/rm/LLama-2-7b-oasst-baseline_reward_abs_bs128_ep_1_8bit_logistic_s_075_augment_and__under\"\n",
    "ranking_adapter_name = \"output/rm/LLama-2-7b-oasst-baseline_reward_ranking_bs64_ep_1_8bit_bf16_eos_token\"\n",
    "device_map = {\"\":0}\n",
    "\n",
    "\n",
    "\n",
    "config = {}\n",
    "conf = read_yaml('./config.yaml')\n",
    "config.update(conf[\"default\"])\n",
    "config.update(conf[\"rm\"])\n",
    "config[\"name_suffix\"] = \"\"\n",
    "config[\"debug\"] = False\n",
    "config[\"subset\"] = \"rm\"\n",
    "\n",
    "# Create a Namespace object for config\n",
    "config_ranking = argparse.Namespace(**config)\n",
    "train_e , eval_e = load_rm_dataset(config_ranking)\n",
    "\n",
    "\n",
    "\n",
    "reward_model, tokenizer = get_reward_tokenizer_model(reward_model_name,abs_adapter_name,ranking_adapter_name,device_map)\n"
   ]
  },
  {
   "cell_type": "code",
   "execution_count": 147,
   "metadata": {},
   "outputs": [],
   "source": [
    "\n",
    "from training_datasets.dataset_utils import get_rm_formatted\n",
    "import transformers\n",
    "from training_datasets.collators import RankingDataCollator\n",
    "\n",
    "max_replies = 4\n",
    "max_length = 2048\n",
    "min_prefix_length = 256\n",
    "model_name = \"andreaskoepf/llama2-7b-oasst-baseline\"\n",
    "\n",
    "collate_fn = RankingDataCollator(\n",
    "            tokenizer,\n",
    "            max_length=max_length,\n",
    "            pad_to_multiple_of=16,\n",
    "            max_replies=max_replies\n",
    "        )\n",
    "\n",
    "def get_prediction(adapter,eval_e):\n",
    "    predictions = []\n",
    "    diff = []\n",
    "    reward_model.set_adapter(adapter)\n",
    "    for example in eval_e[\"oasst_export\"]:\n",
    "        batch,cu_lens = collate_fn([example])\n",
    "        batch = batch.to(reward_model.device)\n",
    "\n",
    "        with torch.no_grad():\n",
    "            prediction = reward_model(input_ids=batch[\"input_ids\"],\n",
    "                                  attention_mask=batch[\"attention_mask\"]).logits.T.cpu().float()\n",
    "\n",
    "        # prediction = logits.T.cpu().float()\n",
    "        for start, end in zip(cu_lens[:-1], cu_lens[1:]):\n",
    "            pairs = torch.combinations(torch.arange(end - start), 2)\n",
    "            pos_ids, neg_ids = pairs[:, 0], pairs[:, 1]\n",
    "            pos_logits = prediction.take(start + pos_ids)\n",
    "            neg_logits = prediction.take(start + neg_ids)\n",
    "            print(prediction)\n",
    "            diff.append(prediction[0][0] - prediction[0][-1])\n",
    "            predictions.extend(pos_logits>neg_logits)\n",
    "        break\n",
    "    return predictions,diff"
   ]
  },
  {
   "cell_type": "code",
   "execution_count": 148,
   "metadata": {},
   "outputs": [
    {
     "name": "stdout",
     "output_type": "stream",
     "text": [
      "tensor([[1.3281],\n",
      "        [2.2188]])\n",
      "accurayc of ranking model on eval dataset 0.0 with average logits diff of 0.0\n"
     ]
    }
   ],
   "source": [
    "prediction,diff = get_prediction(\"ranking\",eval_e)\n",
    "print(f'accurayc of ranking model on eval dataset {np.mean(prediction)} with average logits diff of {np.mean(diff)}')"
   ]
  },
  {
   "cell_type": "code",
   "execution_count": 132,
   "metadata": {},
   "outputs": [
    {
     "name": "stdout",
     "output_type": "stream",
     "text": [
      "accurayc of ranking model on eval dataset 0.6873048907388137 with average logits diff of 0.0\n"
     ]
    }
   ],
   "source": [
    "prediction2,diff2 = get_prediction(\"abs\",eval_e)\n",
    "print(f'accurayc of ranking model on eval dataset {np.mean(prediction2)} with average logits diff of {np.mean(diff2)}')"
   ]
  },
  {
   "cell_type": "code",
   "execution_count": 131,
   "metadata": {},
   "outputs": [
    {
     "data": {
      "text/plain": [
       "0.7523413111342352"
      ]
     },
     "execution_count": 131,
     "metadata": {},
     "output_type": "execute_result"
    }
   ],
   "source": [
    "mutual_aggrement = [1 if p==p2 else 0 for p,p2 in zip(prediction,prediction2)]\n",
    "np.mean(mutual_aggrement)\n",
    "    "
   ]
  },
  {
   "cell_type": "code",
   "execution_count": null,
   "metadata": {},
   "outputs": [],
   "source": [
    "## diff of most positive and negative score. and accuracy. for pref model\n",
    "(1.7199172, 0.7705515088449532)\n",
    "## abs model\n",
    "(0.4806535, 0.6873048907388137, 2047)\n"
   ]
  },
  {
   "cell_type": "code",
   "execution_count": null,
   "metadata": {},
   "outputs": [],
   "source": []
  }
 ],
 "metadata": {
  "kernelspec": {
   "display_name": "Python 3 (ipykernel)",
   "language": "python",
   "name": "python3"
  },
  "language_info": {
   "codemirror_mode": {
    "name": "ipython",
    "version": 3
   },
   "file_extension": ".py",
   "mimetype": "text/x-python",
   "name": "python",
   "nbconvert_exporter": "python",
   "pygments_lexer": "ipython3",
   "version": "3.10.12"
  }
 },
 "nbformat": 4,
 "nbformat_minor": 4
}
